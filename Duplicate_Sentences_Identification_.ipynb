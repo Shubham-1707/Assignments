{
  "metadata": {
    "kernelspec": {
      "language": "python",
      "display_name": "Python 3",
      "name": "python3"
    },
    "language_info": {
      "name": "python",
      "version": "3.7.12",
      "mimetype": "text/x-python",
      "codemirror_mode": {
        "name": "ipython",
        "version": 3
      },
      "pygments_lexer": "ipython3",
      "nbconvert_exporter": "python",
      "file_extension": ".py"
    },
    "colab": {
      "name": "Duplicate Sentences Identification .ipynb",
      "provenance": [],
      "collapsed_sections": [],
      "include_colab_link": true
    }
  },
  "nbformat_minor": 0,
  "nbformat": 4,
  "cells": [
    {
      "cell_type": "markdown",
      "metadata": {
        "id": "view-in-github",
        "colab_type": "text"
      },
      "source": [
        "<a href=\"https://colab.research.google.com/github/Shubham-1707/Assignments/blob/master/Duplicate_Sentences_Identification_.ipynb\" target=\"_parent\"><img src=\"https://colab.research.google.com/assets/colab-badge.svg\" alt=\"Open In Colab\"/></a>"
      ]
    },
    {
      "cell_type": "code",
      "source": [
        "import pandas as pd\n",
        "import numpy as np\n",
        "\n",
        "import re\n",
        "import string\n",
        "\n",
        "import spacy\n",
        "\n",
        "import gensim\n",
        "from gensim import corpora\n",
        "\n",
        "# libraries for visualization\n",
        "import pyLDAvis\n",
        "import pyLDAvis.gensim_models\n",
        "import matplotlib.pyplot as plt\n",
        "import seaborn as sns\n",
        "%matplotlib inline\n"
      ],
      "metadata": {
        "execution": {
          "iopub.status.busy": "2022-08-23T09:20:36.099132Z",
          "iopub.execute_input": "2022-08-23T09:20:36.099889Z",
          "iopub.status.idle": "2022-08-23T09:20:36.329343Z",
          "shell.execute_reply.started": "2022-08-23T09:20:36.099851Z",
          "shell.execute_reply": "2022-08-23T09:20:36.327315Z"
        },
        "trusted": true,
        "id": "mSlfT2hzEd8A",
        "colab": {
          "base_uri": "https://localhost:8080/"
        },
        "outputId": "5b318ad3-15c6-4c21-d201-79d47d1c33ae"
      },
      "execution_count": 1,
      "outputs": [
        {
          "output_type": "stream",
          "name": "stderr",
          "text": [
            "/usr/local/lib/python3.7/dist-packages/past/types/oldstr.py:5: DeprecationWarning: Using or importing the ABCs from 'collections' instead of from 'collections.abc' is deprecated since Python 3.3,and in 3.9 it will stop working\n",
            "  from collections import Iterable\n",
            "/usr/local/lib/python3.7/dist-packages/past/builtins/misc.py:4: DeprecationWarning: Using or importing the ABCs from 'collections' instead of from 'collections.abc' is deprecated since Python 3.3,and in 3.9 it will stop working\n",
            "  from collections import Mapping\n"
          ]
        }
      ]
    },
    {
      "cell_type": "code",
      "source": [
        "!pip install pyLDAvis\n",
        "\n",
        "import pyLDAvis\n",
        "import pyLDAvis.gensim_models\n"
      ],
      "metadata": {
        "colab": {
          "base_uri": "https://localhost:8080/"
        },
        "id": "dujPNXfXGcPM",
        "outputId": "4db4ae1b-8963-439a-f627-d559a3cfcc7a"
      },
      "execution_count": 2,
      "outputs": [
        {
          "output_type": "stream",
          "name": "stdout",
          "text": [
            "Looking in indexes: https://pypi.org/simple, https://us-python.pkg.dev/colab-wheels/public/simple/\n",
            "Requirement already satisfied: pyLDAvis in /usr/local/lib/python3.7/dist-packages (3.3.1)\n",
            "Requirement already satisfied: funcy in /usr/local/lib/python3.7/dist-packages (from pyLDAvis) (1.17)\n",
            "Requirement already satisfied: future in /usr/local/lib/python3.7/dist-packages (from pyLDAvis) (0.16.0)\n",
            "Requirement already satisfied: joblib in /usr/local/lib/python3.7/dist-packages (from pyLDAvis) (1.1.0)\n",
            "Requirement already satisfied: sklearn in /usr/local/lib/python3.7/dist-packages (from pyLDAvis) (0.0)\n",
            "Requirement already satisfied: scikit-learn in /usr/local/lib/python3.7/dist-packages (from pyLDAvis) (1.0.2)\n",
            "Requirement already satisfied: numexpr in /usr/local/lib/python3.7/dist-packages (from pyLDAvis) (2.8.3)\n",
            "Requirement already satisfied: setuptools in /usr/local/lib/python3.7/dist-packages (from pyLDAvis) (57.4.0)\n",
            "Requirement already satisfied: scipy in /usr/local/lib/python3.7/dist-packages (from pyLDAvis) (1.7.3)\n",
            "Requirement already satisfied: gensim in /usr/local/lib/python3.7/dist-packages (from pyLDAvis) (4.2.0)\n",
            "Requirement already satisfied: jinja2 in /usr/local/lib/python3.7/dist-packages (from pyLDAvis) (2.11.3)\n",
            "Requirement already satisfied: pandas>=1.2.0 in /usr/local/lib/python3.7/dist-packages (from pyLDAvis) (1.3.5)\n",
            "Requirement already satisfied: numpy>=1.20.0 in /usr/local/lib/python3.7/dist-packages (from pyLDAvis) (1.21.6)\n",
            "Requirement already satisfied: pytz>=2017.3 in /usr/local/lib/python3.7/dist-packages (from pandas>=1.2.0->pyLDAvis) (2022.2.1)\n",
            "Requirement already satisfied: python-dateutil>=2.7.3 in /usr/local/lib/python3.7/dist-packages (from pandas>=1.2.0->pyLDAvis) (2.8.2)\n",
            "Requirement already satisfied: six>=1.5 in /usr/local/lib/python3.7/dist-packages (from python-dateutil>=2.7.3->pandas>=1.2.0->pyLDAvis) (1.15.0)\n",
            "Requirement already satisfied: smart-open>=1.8.1 in /usr/local/lib/python3.7/dist-packages (from gensim->pyLDAvis) (5.2.1)\n",
            "Requirement already satisfied: MarkupSafe>=0.23 in /usr/local/lib/python3.7/dist-packages (from jinja2->pyLDAvis) (2.0.1)\n",
            "Requirement already satisfied: packaging in /usr/local/lib/python3.7/dist-packages (from numexpr->pyLDAvis) (21.3)\n",
            "Requirement already satisfied: pyparsing!=3.0.5,>=2.0.2 in /usr/local/lib/python3.7/dist-packages (from packaging->numexpr->pyLDAvis) (3.0.9)\n",
            "Requirement already satisfied: threadpoolctl>=2.0.0 in /usr/local/lib/python3.7/dist-packages (from scikit-learn->pyLDAvis) (3.1.0)\n"
          ]
        }
      ]
    },
    {
      "cell_type": "code",
      "source": [
        "!pip install pyLDAvis"
      ],
      "metadata": {
        "colab": {
          "base_uri": "https://localhost:8080/"
        },
        "id": "JjsRri04FVOE",
        "outputId": "791b3e95-5bf2-40fc-86d2-cd351b5de393"
      },
      "execution_count": 4,
      "outputs": [
        {
          "output_type": "stream",
          "name": "stdout",
          "text": [
            "Looking in indexes: https://pypi.org/simple, https://us-python.pkg.dev/colab-wheels/public/simple/\n",
            "Requirement already satisfied: pyLDAvis in /usr/local/lib/python3.7/dist-packages (3.3.1)\n",
            "Requirement already satisfied: gensim in /usr/local/lib/python3.7/dist-packages (from pyLDAvis) (4.2.0)\n",
            "Requirement already satisfied: joblib in /usr/local/lib/python3.7/dist-packages (from pyLDAvis) (1.1.0)\n",
            "Requirement already satisfied: funcy in /usr/local/lib/python3.7/dist-packages (from pyLDAvis) (1.17)\n",
            "Requirement already satisfied: future in /usr/local/lib/python3.7/dist-packages (from pyLDAvis) (0.16.0)\n",
            "Requirement already satisfied: setuptools in /usr/local/lib/python3.7/dist-packages (from pyLDAvis) (57.4.0)\n",
            "Requirement already satisfied: scikit-learn in /usr/local/lib/python3.7/dist-packages (from pyLDAvis) (1.0.2)\n",
            "Requirement already satisfied: numexpr in /usr/local/lib/python3.7/dist-packages (from pyLDAvis) (2.8.3)\n",
            "Requirement already satisfied: numpy>=1.20.0 in /usr/local/lib/python3.7/dist-packages (from pyLDAvis) (1.21.6)\n",
            "Requirement already satisfied: jinja2 in /usr/local/lib/python3.7/dist-packages (from pyLDAvis) (2.11.3)\n",
            "Requirement already satisfied: scipy in /usr/local/lib/python3.7/dist-packages (from pyLDAvis) (1.7.3)\n",
            "Requirement already satisfied: pandas>=1.2.0 in /usr/local/lib/python3.7/dist-packages (from pyLDAvis) (1.3.5)\n",
            "Requirement already satisfied: sklearn in /usr/local/lib/python3.7/dist-packages (from pyLDAvis) (0.0)\n",
            "Requirement already satisfied: pytz>=2017.3 in /usr/local/lib/python3.7/dist-packages (from pandas>=1.2.0->pyLDAvis) (2022.2.1)\n",
            "Requirement already satisfied: python-dateutil>=2.7.3 in /usr/local/lib/python3.7/dist-packages (from pandas>=1.2.0->pyLDAvis) (2.8.2)\n",
            "Requirement already satisfied: six>=1.5 in /usr/local/lib/python3.7/dist-packages (from python-dateutil>=2.7.3->pandas>=1.2.0->pyLDAvis) (1.15.0)\n",
            "Requirement already satisfied: smart-open>=1.8.1 in /usr/local/lib/python3.7/dist-packages (from gensim->pyLDAvis) (5.2.1)\n",
            "Requirement already satisfied: MarkupSafe>=0.23 in /usr/local/lib/python3.7/dist-packages (from jinja2->pyLDAvis) (2.0.1)\n",
            "Requirement already satisfied: packaging in /usr/local/lib/python3.7/dist-packages (from numexpr->pyLDAvis) (21.3)\n",
            "Requirement already satisfied: pyparsing!=3.0.5,>=2.0.2 in /usr/local/lib/python3.7/dist-packages (from packaging->numexpr->pyLDAvis) (3.0.9)\n",
            "Requirement already satisfied: threadpoolctl>=2.0.0 in /usr/local/lib/python3.7/dist-packages (from scikit-learn->pyLDAvis) (3.1.0)\n"
          ]
        }
      ]
    },
    {
      "cell_type": "code",
      "source": [
        "pip install -U gensim"
      ],
      "metadata": {
        "colab": {
          "base_uri": "https://localhost:8080/",
          "height": 340
        },
        "id": "v4oWeZ5eFq78",
        "outputId": "425ba7a0-52e3-45e4-810f-16cd0dcb4a81"
      },
      "execution_count": 78,
      "outputs": [
        {
          "output_type": "stream",
          "name": "stdout",
          "text": [
            "Looking in indexes: https://pypi.org/simple, https://us-python.pkg.dev/colab-wheels/public/simple/\n",
            "Requirement already satisfied: gensim in /usr/local/lib/python3.7/dist-packages (3.6.0)\n",
            "Collecting gensim\n",
            "  Downloading gensim-4.2.0-cp37-cp37m-manylinux_2_12_x86_64.manylinux2010_x86_64.whl (24.1 MB)\n",
            "\u001b[K     |████████████████████████████████| 24.1 MB 40.7 MB/s \n",
            "\u001b[?25hRequirement already satisfied: numpy>=1.17.0 in /usr/local/lib/python3.7/dist-packages (from gensim) (1.21.6)\n",
            "Requirement already satisfied: smart-open>=1.8.1 in /usr/local/lib/python3.7/dist-packages (from gensim) (5.2.1)\n",
            "Requirement already satisfied: scipy>=0.18.1 in /usr/local/lib/python3.7/dist-packages (from gensim) (1.7.3)\n",
            "Installing collected packages: gensim\n",
            "  Attempting uninstall: gensim\n",
            "    Found existing installation: gensim 3.6.0\n",
            "    Uninstalling gensim-3.6.0:\n",
            "      Successfully uninstalled gensim-3.6.0\n",
            "Successfully installed gensim-4.2.0\n"
          ]
        },
        {
          "output_type": "display_data",
          "data": {
            "application/vnd.colab-display-data+json": {
              "pip_warning": {
                "packages": [
                  "gensim"
                ]
              }
            }
          },
          "metadata": {}
        }
      ]
    },
    {
      "cell_type": "code",
      "source": [
        "!python -m pip install -U gensim"
      ],
      "metadata": {
        "colab": {
          "base_uri": "https://localhost:8080/"
        },
        "id": "j_uJAwqvGL56",
        "outputId": "ae4212e0-cfa9-457e-8e2b-90cae8166493"
      },
      "execution_count": 5,
      "outputs": [
        {
          "output_type": "stream",
          "name": "stdout",
          "text": [
            "Looking in indexes: https://pypi.org/simple, https://us-python.pkg.dev/colab-wheels/public/simple/\n",
            "Requirement already satisfied: gensim in /usr/local/lib/python3.7/dist-packages (4.2.0)\n",
            "Requirement already satisfied: scipy>=0.18.1 in /usr/local/lib/python3.7/dist-packages (from gensim) (1.7.3)\n",
            "Requirement already satisfied: smart-open>=1.8.1 in /usr/local/lib/python3.7/dist-packages (from gensim) (5.2.1)\n",
            "Requirement already satisfied: numpy>=1.17.0 in /usr/local/lib/python3.7/dist-packages (from gensim) (1.21.6)\n"
          ]
        }
      ]
    },
    {
      "cell_type": "markdown",
      "source": [
        "# New Section"
      ],
      "metadata": {
        "id": "cPL-Kd4BEiu4"
      }
    },
    {
      "cell_type": "code",
      "source": [
        "df = pd.read_csv('/content/questions.csv')"
      ],
      "metadata": {
        "execution": {
          "iopub.status.busy": "2022-08-23T09:20:40.012024Z",
          "iopub.execute_input": "2022-08-23T09:20:40.013060Z",
          "iopub.status.idle": "2022-08-23T09:20:41.598576Z",
          "shell.execute_reply.started": "2022-08-23T09:20:40.013012Z",
          "shell.execute_reply": "2022-08-23T09:20:41.597589Z"
        },
        "trusted": true,
        "id": "6T2du0hNEd8E"
      },
      "execution_count": 6,
      "outputs": []
    },
    {
      "cell_type": "code",
      "source": [
        "df.head(10)"
      ],
      "metadata": {
        "execution": {
          "iopub.status.busy": "2022-08-23T09:20:44.041402Z",
          "iopub.execute_input": "2022-08-23T09:20:44.042473Z",
          "iopub.status.idle": "2022-08-23T09:20:44.064679Z",
          "shell.execute_reply.started": "2022-08-23T09:20:44.042436Z",
          "shell.execute_reply": "2022-08-23T09:20:44.063433Z"
        },
        "trusted": true,
        "colab": {
          "base_uri": "https://localhost:8080/",
          "height": 403
        },
        "id": "lRnSl70oEd8E",
        "outputId": "f3c47bd8-7311-4e24-9805-b81eb47baf38"
      },
      "execution_count": 7,
      "outputs": [
        {
          "output_type": "execute_result",
          "data": {
            "text/plain": [
              "   id  qid1  qid2                                          question1  \\\n",
              "0   0     1     2  What is the step by step guide to invest in sh...   \n",
              "1   1     3     4  What is the story of Kohinoor (Koh-i-Noor) Dia...   \n",
              "2   2     5     6  How can I increase the speed of my internet co...   \n",
              "3   3     7     8  Why am I mentally very lonely? How can I solve...   \n",
              "4   4     9    10  Which one dissolve in water quikly sugar, salt...   \n",
              "5   5    11    12  Astrology: I am a Capricorn Sun Cap moon and c...   \n",
              "6   6    13    14                                Should I buy tiago?   \n",
              "7   7    15    16                     How can I be a good geologist?   \n",
              "8   8    17    18                    When do you use シ instead of し?   \n",
              "9   9    19    20  Motorola (company): Can I hack my Charter Moto...   \n",
              "\n",
              "                                           question2  is_duplicate  \n",
              "0  What is the step by step guide to invest in sh...             0  \n",
              "1  What would happen if the Indian government sto...             0  \n",
              "2  How can Internet speed be increased by hacking...             0  \n",
              "3  Find the remainder when [math]23^{24}[/math] i...             0  \n",
              "4            Which fish would survive in salt water?             0  \n",
              "5  I'm a triple Capricorn (Sun, Moon and ascendan...             1  \n",
              "6  What keeps childern active and far from phone ...             0  \n",
              "7          What should I do to be a great geologist?             1  \n",
              "8              When do you use \"&\" instead of \"and\"?             0  \n",
              "9  How do I hack Motorola DCX3400 for free internet?             0  "
            ],
            "text/html": [
              "\n",
              "  <div id=\"df-3263c109-6cc7-4e27-afa0-f7df5ab203a9\">\n",
              "    <div class=\"colab-df-container\">\n",
              "      <div>\n",
              "<style scoped>\n",
              "    .dataframe tbody tr th:only-of-type {\n",
              "        vertical-align: middle;\n",
              "    }\n",
              "\n",
              "    .dataframe tbody tr th {\n",
              "        vertical-align: top;\n",
              "    }\n",
              "\n",
              "    .dataframe thead th {\n",
              "        text-align: right;\n",
              "    }\n",
              "</style>\n",
              "<table border=\"1\" class=\"dataframe\">\n",
              "  <thead>\n",
              "    <tr style=\"text-align: right;\">\n",
              "      <th></th>\n",
              "      <th>id</th>\n",
              "      <th>qid1</th>\n",
              "      <th>qid2</th>\n",
              "      <th>question1</th>\n",
              "      <th>question2</th>\n",
              "      <th>is_duplicate</th>\n",
              "    </tr>\n",
              "  </thead>\n",
              "  <tbody>\n",
              "    <tr>\n",
              "      <th>0</th>\n",
              "      <td>0</td>\n",
              "      <td>1</td>\n",
              "      <td>2</td>\n",
              "      <td>What is the step by step guide to invest in sh...</td>\n",
              "      <td>What is the step by step guide to invest in sh...</td>\n",
              "      <td>0</td>\n",
              "    </tr>\n",
              "    <tr>\n",
              "      <th>1</th>\n",
              "      <td>1</td>\n",
              "      <td>3</td>\n",
              "      <td>4</td>\n",
              "      <td>What is the story of Kohinoor (Koh-i-Noor) Dia...</td>\n",
              "      <td>What would happen if the Indian government sto...</td>\n",
              "      <td>0</td>\n",
              "    </tr>\n",
              "    <tr>\n",
              "      <th>2</th>\n",
              "      <td>2</td>\n",
              "      <td>5</td>\n",
              "      <td>6</td>\n",
              "      <td>How can I increase the speed of my internet co...</td>\n",
              "      <td>How can Internet speed be increased by hacking...</td>\n",
              "      <td>0</td>\n",
              "    </tr>\n",
              "    <tr>\n",
              "      <th>3</th>\n",
              "      <td>3</td>\n",
              "      <td>7</td>\n",
              "      <td>8</td>\n",
              "      <td>Why am I mentally very lonely? How can I solve...</td>\n",
              "      <td>Find the remainder when [math]23^{24}[/math] i...</td>\n",
              "      <td>0</td>\n",
              "    </tr>\n",
              "    <tr>\n",
              "      <th>4</th>\n",
              "      <td>4</td>\n",
              "      <td>9</td>\n",
              "      <td>10</td>\n",
              "      <td>Which one dissolve in water quikly sugar, salt...</td>\n",
              "      <td>Which fish would survive in salt water?</td>\n",
              "      <td>0</td>\n",
              "    </tr>\n",
              "    <tr>\n",
              "      <th>5</th>\n",
              "      <td>5</td>\n",
              "      <td>11</td>\n",
              "      <td>12</td>\n",
              "      <td>Astrology: I am a Capricorn Sun Cap moon and c...</td>\n",
              "      <td>I'm a triple Capricorn (Sun, Moon and ascendan...</td>\n",
              "      <td>1</td>\n",
              "    </tr>\n",
              "    <tr>\n",
              "      <th>6</th>\n",
              "      <td>6</td>\n",
              "      <td>13</td>\n",
              "      <td>14</td>\n",
              "      <td>Should I buy tiago?</td>\n",
              "      <td>What keeps childern active and far from phone ...</td>\n",
              "      <td>0</td>\n",
              "    </tr>\n",
              "    <tr>\n",
              "      <th>7</th>\n",
              "      <td>7</td>\n",
              "      <td>15</td>\n",
              "      <td>16</td>\n",
              "      <td>How can I be a good geologist?</td>\n",
              "      <td>What should I do to be a great geologist?</td>\n",
              "      <td>1</td>\n",
              "    </tr>\n",
              "    <tr>\n",
              "      <th>8</th>\n",
              "      <td>8</td>\n",
              "      <td>17</td>\n",
              "      <td>18</td>\n",
              "      <td>When do you use シ instead of し?</td>\n",
              "      <td>When do you use \"&amp;\" instead of \"and\"?</td>\n",
              "      <td>0</td>\n",
              "    </tr>\n",
              "    <tr>\n",
              "      <th>9</th>\n",
              "      <td>9</td>\n",
              "      <td>19</td>\n",
              "      <td>20</td>\n",
              "      <td>Motorola (company): Can I hack my Charter Moto...</td>\n",
              "      <td>How do I hack Motorola DCX3400 for free internet?</td>\n",
              "      <td>0</td>\n",
              "    </tr>\n",
              "  </tbody>\n",
              "</table>\n",
              "</div>\n",
              "      <button class=\"colab-df-convert\" onclick=\"convertToInteractive('df-3263c109-6cc7-4e27-afa0-f7df5ab203a9')\"\n",
              "              title=\"Convert this dataframe to an interactive table.\"\n",
              "              style=\"display:none;\">\n",
              "        \n",
              "  <svg xmlns=\"http://www.w3.org/2000/svg\" height=\"24px\"viewBox=\"0 0 24 24\"\n",
              "       width=\"24px\">\n",
              "    <path d=\"M0 0h24v24H0V0z\" fill=\"none\"/>\n",
              "    <path d=\"M18.56 5.44l.94 2.06.94-2.06 2.06-.94-2.06-.94-.94-2.06-.94 2.06-2.06.94zm-11 1L8.5 8.5l.94-2.06 2.06-.94-2.06-.94L8.5 2.5l-.94 2.06-2.06.94zm10 10l.94 2.06.94-2.06 2.06-.94-2.06-.94-.94-2.06-.94 2.06-2.06.94z\"/><path d=\"M17.41 7.96l-1.37-1.37c-.4-.4-.92-.59-1.43-.59-.52 0-1.04.2-1.43.59L10.3 9.45l-7.72 7.72c-.78.78-.78 2.05 0 2.83L4 21.41c.39.39.9.59 1.41.59.51 0 1.02-.2 1.41-.59l7.78-7.78 2.81-2.81c.8-.78.8-2.07 0-2.86zM5.41 20L4 18.59l7.72-7.72 1.47 1.35L5.41 20z\"/>\n",
              "  </svg>\n",
              "      </button>\n",
              "      \n",
              "  <style>\n",
              "    .colab-df-container {\n",
              "      display:flex;\n",
              "      flex-wrap:wrap;\n",
              "      gap: 12px;\n",
              "    }\n",
              "\n",
              "    .colab-df-convert {\n",
              "      background-color: #E8F0FE;\n",
              "      border: none;\n",
              "      border-radius: 50%;\n",
              "      cursor: pointer;\n",
              "      display: none;\n",
              "      fill: #1967D2;\n",
              "      height: 32px;\n",
              "      padding: 0 0 0 0;\n",
              "      width: 32px;\n",
              "    }\n",
              "\n",
              "    .colab-df-convert:hover {\n",
              "      background-color: #E2EBFA;\n",
              "      box-shadow: 0px 1px 2px rgba(60, 64, 67, 0.3), 0px 1px 3px 1px rgba(60, 64, 67, 0.15);\n",
              "      fill: #174EA6;\n",
              "    }\n",
              "\n",
              "    [theme=dark] .colab-df-convert {\n",
              "      background-color: #3B4455;\n",
              "      fill: #D2E3FC;\n",
              "    }\n",
              "\n",
              "    [theme=dark] .colab-df-convert:hover {\n",
              "      background-color: #434B5C;\n",
              "      box-shadow: 0px 1px 3px 1px rgba(0, 0, 0, 0.15);\n",
              "      filter: drop-shadow(0px 1px 2px rgba(0, 0, 0, 0.3));\n",
              "      fill: #FFFFFF;\n",
              "    }\n",
              "  </style>\n",
              "\n",
              "      <script>\n",
              "        const buttonEl =\n",
              "          document.querySelector('#df-3263c109-6cc7-4e27-afa0-f7df5ab203a9 button.colab-df-convert');\n",
              "        buttonEl.style.display =\n",
              "          google.colab.kernel.accessAllowed ? 'block' : 'none';\n",
              "\n",
              "        async function convertToInteractive(key) {\n",
              "          const element = document.querySelector('#df-3263c109-6cc7-4e27-afa0-f7df5ab203a9');\n",
              "          const dataTable =\n",
              "            await google.colab.kernel.invokeFunction('convertToInteractive',\n",
              "                                                     [key], {});\n",
              "          if (!dataTable) return;\n",
              "\n",
              "          const docLinkHtml = 'Like what you see? Visit the ' +\n",
              "            '<a target=\"_blank\" href=https://colab.research.google.com/notebooks/data_table.ipynb>data table notebook</a>'\n",
              "            + ' to learn more about interactive tables.';\n",
              "          element.innerHTML = '';\n",
              "          dataTable['output_type'] = 'display_data';\n",
              "          await google.colab.output.renderOutput(dataTable, element);\n",
              "          const docLink = document.createElement('div');\n",
              "          docLink.innerHTML = docLinkHtml;\n",
              "          element.appendChild(docLink);\n",
              "        }\n",
              "      </script>\n",
              "    </div>\n",
              "  </div>\n",
              "  "
            ]
          },
          "metadata": {},
          "execution_count": 7
        }
      ]
    },
    {
      "cell_type": "code",
      "source": [
        "df.groupby('is_duplicate').describe()"
      ],
      "metadata": {
        "execution": {
          "iopub.status.busy": "2022-08-23T09:20:44.872970Z",
          "iopub.execute_input": "2022-08-23T09:20:44.873790Z",
          "iopub.status.idle": "2022-08-23T09:20:45.037176Z",
          "shell.execute_reply.started": "2022-08-23T09:20:44.873749Z",
          "shell.execute_reply": "2022-08-23T09:20:45.036046Z"
        },
        "trusted": true,
        "colab": {
          "base_uri": "https://localhost:8080/",
          "height": 266
        },
        "id": "rvklL5V-Ed8F",
        "outputId": "de4d00ae-7912-4913-ed91-a157e681db97"
      },
      "execution_count": 8,
      "outputs": [
        {
          "output_type": "execute_result",
          "data": {
            "text/plain": [
              "                    id                                                         \\\n",
              "                 count           mean            std  min       25%       50%   \n",
              "is_duplicate                                                                    \n",
              "0             255045.0  202958.179937  117027.615501  0.0  101605.0  203165.0   \n",
              "1             149306.0  200837.169457  116197.758898  5.0  100183.0  200479.5   \n",
              "\n",
              "                                       qid1                 ...            \\\n",
              "                    75%       max     count           mean  ...       75%   \n",
              "is_duplicate                                                ...             \n",
              "0             304479.00  404350.0  255045.0  392305.053316  ...  590419.0   \n",
              "1             301292.75  404347.0  149306.0  391048.269266  ...  587967.0   \n",
              "\n",
              "                            qid2                                      \\\n",
              "                   max     count           mean            std   min   \n",
              "is_duplicate                                                           \n",
              "0             789800.0  255045.0  389856.136396  229558.811742   2.0   \n",
              "1             789794.0  149306.0  390776.485078  227507.463550  12.0   \n",
              "\n",
              "                                                      \n",
              "                   25%       50%       75%       max  \n",
              "is_duplicate                                          \n",
              "0             189761.0  387476.0  588317.0  789801.0  \n",
              "1             193116.0  389638.5  587675.0  789795.0  \n",
              "\n",
              "[2 rows x 24 columns]"
            ],
            "text/html": [
              "\n",
              "  <div id=\"df-a3750b2e-c82f-461c-819a-31f38f4c4155\">\n",
              "    <div class=\"colab-df-container\">\n",
              "      <div>\n",
              "<style scoped>\n",
              "    .dataframe tbody tr th:only-of-type {\n",
              "        vertical-align: middle;\n",
              "    }\n",
              "\n",
              "    .dataframe tbody tr th {\n",
              "        vertical-align: top;\n",
              "    }\n",
              "\n",
              "    .dataframe thead tr th {\n",
              "        text-align: left;\n",
              "    }\n",
              "\n",
              "    .dataframe thead tr:last-of-type th {\n",
              "        text-align: right;\n",
              "    }\n",
              "</style>\n",
              "<table border=\"1\" class=\"dataframe\">\n",
              "  <thead>\n",
              "    <tr>\n",
              "      <th></th>\n",
              "      <th colspan=\"8\" halign=\"left\">id</th>\n",
              "      <th colspan=\"5\" halign=\"left\">qid1</th>\n",
              "      <th colspan=\"8\" halign=\"left\">qid2</th>\n",
              "    </tr>\n",
              "    <tr>\n",
              "      <th></th>\n",
              "      <th>count</th>\n",
              "      <th>mean</th>\n",
              "      <th>std</th>\n",
              "      <th>min</th>\n",
              "      <th>25%</th>\n",
              "      <th>50%</th>\n",
              "      <th>75%</th>\n",
              "      <th>max</th>\n",
              "      <th>count</th>\n",
              "      <th>mean</th>\n",
              "      <th>...</th>\n",
              "      <th>75%</th>\n",
              "      <th>max</th>\n",
              "      <th>count</th>\n",
              "      <th>mean</th>\n",
              "      <th>std</th>\n",
              "      <th>min</th>\n",
              "      <th>25%</th>\n",
              "      <th>50%</th>\n",
              "      <th>75%</th>\n",
              "      <th>max</th>\n",
              "    </tr>\n",
              "    <tr>\n",
              "      <th>is_duplicate</th>\n",
              "      <th></th>\n",
              "      <th></th>\n",
              "      <th></th>\n",
              "      <th></th>\n",
              "      <th></th>\n",
              "      <th></th>\n",
              "      <th></th>\n",
              "      <th></th>\n",
              "      <th></th>\n",
              "      <th></th>\n",
              "      <th></th>\n",
              "      <th></th>\n",
              "      <th></th>\n",
              "      <th></th>\n",
              "      <th></th>\n",
              "      <th></th>\n",
              "      <th></th>\n",
              "      <th></th>\n",
              "      <th></th>\n",
              "      <th></th>\n",
              "      <th></th>\n",
              "    </tr>\n",
              "  </thead>\n",
              "  <tbody>\n",
              "    <tr>\n",
              "      <th>0</th>\n",
              "      <td>255045.0</td>\n",
              "      <td>202958.179937</td>\n",
              "      <td>117027.615501</td>\n",
              "      <td>0.0</td>\n",
              "      <td>101605.0</td>\n",
              "      <td>203165.0</td>\n",
              "      <td>304479.00</td>\n",
              "      <td>404350.0</td>\n",
              "      <td>255045.0</td>\n",
              "      <td>392305.053316</td>\n",
              "      <td>...</td>\n",
              "      <td>590419.0</td>\n",
              "      <td>789800.0</td>\n",
              "      <td>255045.0</td>\n",
              "      <td>389856.136396</td>\n",
              "      <td>229558.811742</td>\n",
              "      <td>2.0</td>\n",
              "      <td>189761.0</td>\n",
              "      <td>387476.0</td>\n",
              "      <td>588317.0</td>\n",
              "      <td>789801.0</td>\n",
              "    </tr>\n",
              "    <tr>\n",
              "      <th>1</th>\n",
              "      <td>149306.0</td>\n",
              "      <td>200837.169457</td>\n",
              "      <td>116197.758898</td>\n",
              "      <td>5.0</td>\n",
              "      <td>100183.0</td>\n",
              "      <td>200479.5</td>\n",
              "      <td>301292.75</td>\n",
              "      <td>404347.0</td>\n",
              "      <td>149306.0</td>\n",
              "      <td>391048.269266</td>\n",
              "      <td>...</td>\n",
              "      <td>587967.0</td>\n",
              "      <td>789794.0</td>\n",
              "      <td>149306.0</td>\n",
              "      <td>390776.485078</td>\n",
              "      <td>227507.463550</td>\n",
              "      <td>12.0</td>\n",
              "      <td>193116.0</td>\n",
              "      <td>389638.5</td>\n",
              "      <td>587675.0</td>\n",
              "      <td>789795.0</td>\n",
              "    </tr>\n",
              "  </tbody>\n",
              "</table>\n",
              "<p>2 rows × 24 columns</p>\n",
              "</div>\n",
              "      <button class=\"colab-df-convert\" onclick=\"convertToInteractive('df-a3750b2e-c82f-461c-819a-31f38f4c4155')\"\n",
              "              title=\"Convert this dataframe to an interactive table.\"\n",
              "              style=\"display:none;\">\n",
              "        \n",
              "  <svg xmlns=\"http://www.w3.org/2000/svg\" height=\"24px\"viewBox=\"0 0 24 24\"\n",
              "       width=\"24px\">\n",
              "    <path d=\"M0 0h24v24H0V0z\" fill=\"none\"/>\n",
              "    <path d=\"M18.56 5.44l.94 2.06.94-2.06 2.06-.94-2.06-.94-.94-2.06-.94 2.06-2.06.94zm-11 1L8.5 8.5l.94-2.06 2.06-.94-2.06-.94L8.5 2.5l-.94 2.06-2.06.94zm10 10l.94 2.06.94-2.06 2.06-.94-2.06-.94-.94-2.06-.94 2.06-2.06.94z\"/><path d=\"M17.41 7.96l-1.37-1.37c-.4-.4-.92-.59-1.43-.59-.52 0-1.04.2-1.43.59L10.3 9.45l-7.72 7.72c-.78.78-.78 2.05 0 2.83L4 21.41c.39.39.9.59 1.41.59.51 0 1.02-.2 1.41-.59l7.78-7.78 2.81-2.81c.8-.78.8-2.07 0-2.86zM5.41 20L4 18.59l7.72-7.72 1.47 1.35L5.41 20z\"/>\n",
              "  </svg>\n",
              "      </button>\n",
              "      \n",
              "  <style>\n",
              "    .colab-df-container {\n",
              "      display:flex;\n",
              "      flex-wrap:wrap;\n",
              "      gap: 12px;\n",
              "    }\n",
              "\n",
              "    .colab-df-convert {\n",
              "      background-color: #E8F0FE;\n",
              "      border: none;\n",
              "      border-radius: 50%;\n",
              "      cursor: pointer;\n",
              "      display: none;\n",
              "      fill: #1967D2;\n",
              "      height: 32px;\n",
              "      padding: 0 0 0 0;\n",
              "      width: 32px;\n",
              "    }\n",
              "\n",
              "    .colab-df-convert:hover {\n",
              "      background-color: #E2EBFA;\n",
              "      box-shadow: 0px 1px 2px rgba(60, 64, 67, 0.3), 0px 1px 3px 1px rgba(60, 64, 67, 0.15);\n",
              "      fill: #174EA6;\n",
              "    }\n",
              "\n",
              "    [theme=dark] .colab-df-convert {\n",
              "      background-color: #3B4455;\n",
              "      fill: #D2E3FC;\n",
              "    }\n",
              "\n",
              "    [theme=dark] .colab-df-convert:hover {\n",
              "      background-color: #434B5C;\n",
              "      box-shadow: 0px 1px 3px 1px rgba(0, 0, 0, 0.15);\n",
              "      filter: drop-shadow(0px 1px 2px rgba(0, 0, 0, 0.3));\n",
              "      fill: #FFFFFF;\n",
              "    }\n",
              "  </style>\n",
              "\n",
              "      <script>\n",
              "        const buttonEl =\n",
              "          document.querySelector('#df-a3750b2e-c82f-461c-819a-31f38f4c4155 button.colab-df-convert');\n",
              "        buttonEl.style.display =\n",
              "          google.colab.kernel.accessAllowed ? 'block' : 'none';\n",
              "\n",
              "        async function convertToInteractive(key) {\n",
              "          const element = document.querySelector('#df-a3750b2e-c82f-461c-819a-31f38f4c4155');\n",
              "          const dataTable =\n",
              "            await google.colab.kernel.invokeFunction('convertToInteractive',\n",
              "                                                     [key], {});\n",
              "          if (!dataTable) return;\n",
              "\n",
              "          const docLinkHtml = 'Like what you see? Visit the ' +\n",
              "            '<a target=\"_blank\" href=https://colab.research.google.com/notebooks/data_table.ipynb>data table notebook</a>'\n",
              "            + ' to learn more about interactive tables.';\n",
              "          element.innerHTML = '';\n",
              "          dataTable['output_type'] = 'display_data';\n",
              "          await google.colab.output.renderOutput(dataTable, element);\n",
              "          const docLink = document.createElement('div');\n",
              "          docLink.innerHTML = docLinkHtml;\n",
              "          element.appendChild(docLink);\n",
              "        }\n",
              "      </script>\n",
              "    </div>\n",
              "  </div>\n",
              "  "
            ]
          },
          "metadata": {},
          "execution_count": 8
        }
      ]
    },
    {
      "cell_type": "code",
      "source": [
        "df.columns"
      ],
      "metadata": {
        "execution": {
          "iopub.status.busy": "2022-08-23T09:20:45.752568Z",
          "iopub.execute_input": "2022-08-23T09:20:45.753385Z",
          "iopub.status.idle": "2022-08-23T09:20:45.760549Z",
          "shell.execute_reply.started": "2022-08-23T09:20:45.753345Z",
          "shell.execute_reply": "2022-08-23T09:20:45.759529Z"
        },
        "trusted": true,
        "colab": {
          "base_uri": "https://localhost:8080/"
        },
        "id": "0bnMpBY1Ed8F",
        "outputId": "5276b791-bc3a-4c4e-eeb5-96dbd1daa1fd"
      },
      "execution_count": 9,
      "outputs": [
        {
          "output_type": "execute_result",
          "data": {
            "text/plain": [
              "Index(['id', 'qid1', 'qid2', 'question1', 'question2', 'is_duplicate'], dtype='object')"
            ]
          },
          "metadata": {},
          "execution_count": 9
        }
      ]
    },
    {
      "cell_type": "code",
      "source": [
        "df.describe()"
      ],
      "metadata": {
        "execution": {
          "iopub.status.busy": "2022-08-23T09:20:46.202222Z",
          "iopub.execute_input": "2022-08-23T09:20:46.203331Z",
          "iopub.status.idle": "2022-08-23T09:20:46.250637Z",
          "shell.execute_reply.started": "2022-08-23T09:20:46.203286Z",
          "shell.execute_reply": "2022-08-23T09:20:46.249478Z"
        },
        "trusted": true,
        "colab": {
          "base_uri": "https://localhost:8080/",
          "height": 297
        },
        "id": "QjnnUWw_Ed8F",
        "outputId": "214e7435-8d47-4e28-ec77-e2c93ec840fe"
      },
      "execution_count": 10,
      "outputs": [
        {
          "output_type": "execute_result",
          "data": {
            "text/plain": [
              "                  id           qid1           qid2   is_duplicate\n",
              "count  404351.000000  404351.000000  404351.000000  404351.000000\n",
              "mean   202175.000000  391840.987691  390195.973765       0.369248\n",
              "std    116726.223686  228430.857607  228803.645742       0.482602\n",
              "min         0.000000       1.000000       2.000000       0.000000\n",
              "25%    101087.500000  193381.000000  191012.000000       0.000000\n",
              "50%    202175.000000  390630.000000  388364.000000       0.000000\n",
              "75%    303262.500000  589514.000000  588071.000000       1.000000\n",
              "max    404350.000000  789800.000000  789801.000000       1.000000"
            ],
            "text/html": [
              "\n",
              "  <div id=\"df-2547c014-450e-4fa3-a0bc-0b474b386beb\">\n",
              "    <div class=\"colab-df-container\">\n",
              "      <div>\n",
              "<style scoped>\n",
              "    .dataframe tbody tr th:only-of-type {\n",
              "        vertical-align: middle;\n",
              "    }\n",
              "\n",
              "    .dataframe tbody tr th {\n",
              "        vertical-align: top;\n",
              "    }\n",
              "\n",
              "    .dataframe thead th {\n",
              "        text-align: right;\n",
              "    }\n",
              "</style>\n",
              "<table border=\"1\" class=\"dataframe\">\n",
              "  <thead>\n",
              "    <tr style=\"text-align: right;\">\n",
              "      <th></th>\n",
              "      <th>id</th>\n",
              "      <th>qid1</th>\n",
              "      <th>qid2</th>\n",
              "      <th>is_duplicate</th>\n",
              "    </tr>\n",
              "  </thead>\n",
              "  <tbody>\n",
              "    <tr>\n",
              "      <th>count</th>\n",
              "      <td>404351.000000</td>\n",
              "      <td>404351.000000</td>\n",
              "      <td>404351.000000</td>\n",
              "      <td>404351.000000</td>\n",
              "    </tr>\n",
              "    <tr>\n",
              "      <th>mean</th>\n",
              "      <td>202175.000000</td>\n",
              "      <td>391840.987691</td>\n",
              "      <td>390195.973765</td>\n",
              "      <td>0.369248</td>\n",
              "    </tr>\n",
              "    <tr>\n",
              "      <th>std</th>\n",
              "      <td>116726.223686</td>\n",
              "      <td>228430.857607</td>\n",
              "      <td>228803.645742</td>\n",
              "      <td>0.482602</td>\n",
              "    </tr>\n",
              "    <tr>\n",
              "      <th>min</th>\n",
              "      <td>0.000000</td>\n",
              "      <td>1.000000</td>\n",
              "      <td>2.000000</td>\n",
              "      <td>0.000000</td>\n",
              "    </tr>\n",
              "    <tr>\n",
              "      <th>25%</th>\n",
              "      <td>101087.500000</td>\n",
              "      <td>193381.000000</td>\n",
              "      <td>191012.000000</td>\n",
              "      <td>0.000000</td>\n",
              "    </tr>\n",
              "    <tr>\n",
              "      <th>50%</th>\n",
              "      <td>202175.000000</td>\n",
              "      <td>390630.000000</td>\n",
              "      <td>388364.000000</td>\n",
              "      <td>0.000000</td>\n",
              "    </tr>\n",
              "    <tr>\n",
              "      <th>75%</th>\n",
              "      <td>303262.500000</td>\n",
              "      <td>589514.000000</td>\n",
              "      <td>588071.000000</td>\n",
              "      <td>1.000000</td>\n",
              "    </tr>\n",
              "    <tr>\n",
              "      <th>max</th>\n",
              "      <td>404350.000000</td>\n",
              "      <td>789800.000000</td>\n",
              "      <td>789801.000000</td>\n",
              "      <td>1.000000</td>\n",
              "    </tr>\n",
              "  </tbody>\n",
              "</table>\n",
              "</div>\n",
              "      <button class=\"colab-df-convert\" onclick=\"convertToInteractive('df-2547c014-450e-4fa3-a0bc-0b474b386beb')\"\n",
              "              title=\"Convert this dataframe to an interactive table.\"\n",
              "              style=\"display:none;\">\n",
              "        \n",
              "  <svg xmlns=\"http://www.w3.org/2000/svg\" height=\"24px\"viewBox=\"0 0 24 24\"\n",
              "       width=\"24px\">\n",
              "    <path d=\"M0 0h24v24H0V0z\" fill=\"none\"/>\n",
              "    <path d=\"M18.56 5.44l.94 2.06.94-2.06 2.06-.94-2.06-.94-.94-2.06-.94 2.06-2.06.94zm-11 1L8.5 8.5l.94-2.06 2.06-.94-2.06-.94L8.5 2.5l-.94 2.06-2.06.94zm10 10l.94 2.06.94-2.06 2.06-.94-2.06-.94-.94-2.06-.94 2.06-2.06.94z\"/><path d=\"M17.41 7.96l-1.37-1.37c-.4-.4-.92-.59-1.43-.59-.52 0-1.04.2-1.43.59L10.3 9.45l-7.72 7.72c-.78.78-.78 2.05 0 2.83L4 21.41c.39.39.9.59 1.41.59.51 0 1.02-.2 1.41-.59l7.78-7.78 2.81-2.81c.8-.78.8-2.07 0-2.86zM5.41 20L4 18.59l7.72-7.72 1.47 1.35L5.41 20z\"/>\n",
              "  </svg>\n",
              "      </button>\n",
              "      \n",
              "  <style>\n",
              "    .colab-df-container {\n",
              "      display:flex;\n",
              "      flex-wrap:wrap;\n",
              "      gap: 12px;\n",
              "    }\n",
              "\n",
              "    .colab-df-convert {\n",
              "      background-color: #E8F0FE;\n",
              "      border: none;\n",
              "      border-radius: 50%;\n",
              "      cursor: pointer;\n",
              "      display: none;\n",
              "      fill: #1967D2;\n",
              "      height: 32px;\n",
              "      padding: 0 0 0 0;\n",
              "      width: 32px;\n",
              "    }\n",
              "\n",
              "    .colab-df-convert:hover {\n",
              "      background-color: #E2EBFA;\n",
              "      box-shadow: 0px 1px 2px rgba(60, 64, 67, 0.3), 0px 1px 3px 1px rgba(60, 64, 67, 0.15);\n",
              "      fill: #174EA6;\n",
              "    }\n",
              "\n",
              "    [theme=dark] .colab-df-convert {\n",
              "      background-color: #3B4455;\n",
              "      fill: #D2E3FC;\n",
              "    }\n",
              "\n",
              "    [theme=dark] .colab-df-convert:hover {\n",
              "      background-color: #434B5C;\n",
              "      box-shadow: 0px 1px 3px 1px rgba(0, 0, 0, 0.15);\n",
              "      filter: drop-shadow(0px 1px 2px rgba(0, 0, 0, 0.3));\n",
              "      fill: #FFFFFF;\n",
              "    }\n",
              "  </style>\n",
              "\n",
              "      <script>\n",
              "        const buttonEl =\n",
              "          document.querySelector('#df-2547c014-450e-4fa3-a0bc-0b474b386beb button.colab-df-convert');\n",
              "        buttonEl.style.display =\n",
              "          google.colab.kernel.accessAllowed ? 'block' : 'none';\n",
              "\n",
              "        async function convertToInteractive(key) {\n",
              "          const element = document.querySelector('#df-2547c014-450e-4fa3-a0bc-0b474b386beb');\n",
              "          const dataTable =\n",
              "            await google.colab.kernel.invokeFunction('convertToInteractive',\n",
              "                                                     [key], {});\n",
              "          if (!dataTable) return;\n",
              "\n",
              "          const docLinkHtml = 'Like what you see? Visit the ' +\n",
              "            '<a target=\"_blank\" href=https://colab.research.google.com/notebooks/data_table.ipynb>data table notebook</a>'\n",
              "            + ' to learn more about interactive tables.';\n",
              "          element.innerHTML = '';\n",
              "          dataTable['output_type'] = 'display_data';\n",
              "          await google.colab.output.renderOutput(dataTable, element);\n",
              "          const docLink = document.createElement('div');\n",
              "          docLink.innerHTML = docLinkHtml;\n",
              "          element.appendChild(docLink);\n",
              "        }\n",
              "      </script>\n",
              "    </div>\n",
              "  </div>\n",
              "  "
            ]
          },
          "metadata": {},
          "execution_count": 10
        }
      ]
    },
    {
      "cell_type": "code",
      "source": [
        "print((df[\"is_duplicate\"].value_counts()/df[\"is_duplicate\"].count())*100)\n",
        "df[\"is_duplicate\"].value_counts().plot(kind=\"bar\")"
      ],
      "metadata": {
        "execution": {
          "iopub.status.busy": "2022-08-23T09:20:47.371979Z",
          "iopub.execute_input": "2022-08-23T09:20:47.372761Z",
          "iopub.status.idle": "2022-08-23T09:20:47.576151Z",
          "shell.execute_reply.started": "2022-08-23T09:20:47.372720Z",
          "shell.execute_reply": "2022-08-23T09:20:47.575198Z"
        },
        "trusted": true,
        "colab": {
          "base_uri": "https://localhost:8080/",
          "height": 330
        },
        "id": "mGWTboz3Ed8G",
        "outputId": "c06d6c01-9164-4f68-a499-5f755938d6bf"
      },
      "execution_count": 11,
      "outputs": [
        {
          "output_type": "stream",
          "name": "stdout",
          "text": [
            "0    63.07515\n",
            "1    36.92485\n",
            "Name: is_duplicate, dtype: float64\n"
          ]
        },
        {
          "output_type": "execute_result",
          "data": {
            "text/plain": [
              "<matplotlib.axes._subplots.AxesSubplot at 0x7ff3f36f3210>"
            ]
          },
          "metadata": {},
          "execution_count": 11
        },
        {
          "output_type": "display_data",
          "data": {
            "text/plain": [
              "<Figure size 432x288 with 1 Axes>"
            ],
            "image/png": "[encoded data removed]"
          },
          "metadata": {
            "needs_background": "light"
          }
        }
      ]
    },
    {
      "cell_type": "code",
      "source": [
        "import numpy as np"
      ],
      "metadata": {
        "execution": {
          "iopub.status.busy": "2022-08-23T09:21:08.936505Z",
          "iopub.execute_input": "2022-08-23T09:21:08.937087Z",
          "iopub.status.idle": "2022-08-23T09:21:08.946457Z",
          "shell.execute_reply.started": "2022-08-23T09:21:08.937044Z",
          "shell.execute_reply": "2022-08-23T09:21:08.945058Z"
        },
        "trusted": true,
        "id": "T1D5h05iEd8H"
      },
      "execution_count": 12,
      "outputs": []
    },
    {
      "cell_type": "code",
      "source": [
        "# Repeated questions\n",
        "\n",
        "qid = pd.Series(df['qid1'].tolist() + df['qid2'].tolist())\n",
        "print('Number of unique questions',np.unique(qid).shape[0])\n",
        "x = qid.value_counts()>1\n",
        "print('Number of questions getting repeated',x[x].shape[0])"
      ],
      "metadata": {
        "execution": {
          "iopub.status.busy": "2022-08-23T09:21:09.598208Z",
          "iopub.execute_input": "2022-08-23T09:21:09.598669Z",
          "iopub.status.idle": "2022-08-23T09:21:10.124670Z",
          "shell.execute_reply.started": "2022-08-23T09:21:09.598629Z",
          "shell.execute_reply": "2022-08-23T09:21:10.123369Z"
        },
        "trusted": true,
        "colab": {
          "base_uri": "https://localhost:8080/"
        },
        "id": "CQS6fieKEd8H",
        "outputId": "54e16e69-2731-4780-8840-501a172347e8"
      },
      "execution_count": 13,
      "outputs": [
        {
          "output_type": "stream",
          "name": "stdout",
          "text": [
            "Number of unique questions 789801\n",
            "Number of questions getting repeated 13698\n"
          ]
        }
      ]
    },
    {
      "cell_type": "code",
      "source": [
        "df['is_duplicate'].value_counts()"
      ],
      "metadata": {
        "execution": {
          "iopub.status.busy": "2022-08-23T09:21:11.338361Z",
          "iopub.execute_input": "2022-08-23T09:21:11.338826Z",
          "iopub.status.idle": "2022-08-23T09:21:11.352812Z",
          "shell.execute_reply.started": "2022-08-23T09:21:11.338784Z",
          "shell.execute_reply": "2022-08-23T09:21:11.351759Z"
        },
        "trusted": true,
        "colab": {
          "base_uri": "https://localhost:8080/"
        },
        "id": "q11czqN-Ed8I",
        "outputId": "9133a2a3-7f1b-4183-8e0b-f007823139ae"
      },
      "execution_count": 14,
      "outputs": [
        {
          "output_type": "execute_result",
          "data": {
            "text/plain": [
              "0    255045\n",
              "1    149306\n",
              "Name: is_duplicate, dtype: int64"
            ]
          },
          "metadata": {},
          "execution_count": 14
        }
      ]
    },
    {
      "cell_type": "code",
      "source": [
        "df_duplicate = df[df['is_duplicate']==1]\n",
        "df_duplicate.shape"
      ],
      "metadata": {
        "execution": {
          "iopub.status.busy": "2022-08-23T09:21:13.513415Z",
          "iopub.execute_input": "2022-08-23T09:21:13.513778Z",
          "iopub.status.idle": "2022-08-23T09:21:13.536065Z",
          "shell.execute_reply.started": "2022-08-23T09:21:13.513747Z",
          "shell.execute_reply": "2022-08-23T09:21:13.535129Z"
        },
        "trusted": true,
        "colab": {
          "base_uri": "https://localhost:8080/"
        },
        "id": "BlwYPvSrEd8I",
        "outputId": "cd5e0558-b6f3-418a-d060-4735df2f5606"
      },
      "execution_count": 15,
      "outputs": [
        {
          "output_type": "execute_result",
          "data": {
            "text/plain": [
              "(149306, 6)"
            ]
          },
          "metadata": {},
          "execution_count": 15
        }
      ]
    },
    {
      "cell_type": "code",
      "source": [
        "df_unique = df[df['is_duplicate']==0]\n",
        "df_unique.shape"
      ],
      "metadata": {
        "execution": {
          "iopub.status.busy": "2022-08-23T09:21:13.538116Z",
          "iopub.execute_input": "2022-08-23T09:21:13.538592Z",
          "iopub.status.idle": "2022-08-23T09:21:13.565869Z",
          "shell.execute_reply.started": "2022-08-23T09:21:13.538553Z",
          "shell.execute_reply": "2022-08-23T09:21:13.564720Z"
        },
        "trusted": true,
        "colab": {
          "base_uri": "https://localhost:8080/"
        },
        "id": "FM80KZNPEd8I",
        "outputId": "3edb3580-bc6d-49af-e48d-e43ee6191fd0"
      },
      "execution_count": 16,
      "outputs": [
        {
          "output_type": "execute_result",
          "data": {
            "text/plain": [
              "(255045, 6)"
            ]
          },
          "metadata": {},
          "execution_count": 16
        }
      ]
    },
    {
      "cell_type": "code",
      "source": [
        "df_unique_downsampled = df_unique.sample(df_duplicate.shape[0])\n",
        "df_unique_downsampled.shape"
      ],
      "metadata": {
        "execution": {
          "iopub.status.busy": "2022-08-23T09:21:14.376035Z",
          "iopub.execute_input": "2022-08-23T09:21:14.376629Z",
          "iopub.status.idle": "2022-08-23T09:21:14.418541Z",
          "shell.execute_reply.started": "2022-08-23T09:21:14.376589Z",
          "shell.execute_reply": "2022-08-23T09:21:14.417510Z"
        },
        "trusted": true,
        "colab": {
          "base_uri": "https://localhost:8080/"
        },
        "id": "vMMDRHT1Ed8I",
        "outputId": "788892ea-f98f-4f4b-c46b-ee0af29c68b7"
      },
      "execution_count": 17,
      "outputs": [
        {
          "output_type": "execute_result",
          "data": {
            "text/plain": [
              "(149306, 6)"
            ]
          },
          "metadata": {},
          "execution_count": 17
        }
      ]
    },
    {
      "cell_type": "code",
      "source": [
        "len(df)"
      ],
      "metadata": {
        "execution": {
          "iopub.status.busy": "2022-08-23T09:21:15.101377Z",
          "iopub.execute_input": "2022-08-23T09:21:15.101979Z",
          "iopub.status.idle": "2022-08-23T09:21:15.109168Z",
          "shell.execute_reply.started": "2022-08-23T09:21:15.101943Z",
          "shell.execute_reply": "2022-08-23T09:21:15.107956Z"
        },
        "trusted": true,
        "colab": {
          "base_uri": "https://localhost:8080/"
        },
        "id": "PDLXE3Z2Ed8J",
        "outputId": "57614b8b-b29a-40e5-dad0-00bd753a0d1d"
      },
      "execution_count": 18,
      "outputs": [
        {
          "output_type": "execute_result",
          "data": {
            "text/plain": [
              "404351"
            ]
          },
          "metadata": {},
          "execution_count": 18
        }
      ]
    },
    {
      "cell_type": "code",
      "source": [
        "df_balanced = pd.concat([df_unique_downsampled, df_duplicate])\n",
        "df_balanced.shape"
      ],
      "metadata": {
        "execution": {
          "iopub.status.busy": "2022-08-23T09:21:16.132659Z",
          "iopub.execute_input": "2022-08-23T09:21:16.133389Z",
          "iopub.status.idle": "2022-08-23T09:21:16.164422Z",
          "shell.execute_reply.started": "2022-08-23T09:21:16.133353Z",
          "shell.execute_reply": "2022-08-23T09:21:16.163376Z"
        },
        "trusted": true,
        "colab": {
          "base_uri": "https://localhost:8080/"
        },
        "id": "rF6t9uSVEd8J",
        "outputId": "2c69db60-564e-4306-ece5-5975dae9469b"
      },
      "execution_count": 19,
      "outputs": [
        {
          "output_type": "execute_result",
          "data": {
            "text/plain": [
              "(298612, 6)"
            ]
          },
          "metadata": {},
          "execution_count": 19
        }
      ]
    },
    {
      "cell_type": "code",
      "source": [
        "df_balanced['is_duplicate'].value_counts()\n"
      ],
      "metadata": {
        "execution": {
          "iopub.status.busy": "2022-08-23T09:21:16.932736Z",
          "iopub.execute_input": "2022-08-23T09:21:16.933505Z",
          "iopub.status.idle": "2022-08-23T09:21:16.946828Z",
          "shell.execute_reply.started": "2022-08-23T09:21:16.933465Z",
          "shell.execute_reply": "2022-08-23T09:21:16.945626Z"
        },
        "trusted": true,
        "colab": {
          "base_uri": "https://localhost:8080/"
        },
        "id": "eD8uit2-Ed8J",
        "outputId": "adf27eda-5165-473c-e747-a18c870a24ba"
      },
      "execution_count": 20,
      "outputs": [
        {
          "output_type": "execute_result",
          "data": {
            "text/plain": [
              "0    149306\n",
              "1    149306\n",
              "Name: is_duplicate, dtype: int64"
            ]
          },
          "metadata": {},
          "execution_count": 20
        }
      ]
    },
    {
      "cell_type": "code",
      "source": [
        "df_balanced.head()"
      ],
      "metadata": {
        "execution": {
          "iopub.status.busy": "2022-08-23T09:21:17.385696Z",
          "iopub.execute_input": "2022-08-23T09:21:17.386537Z",
          "iopub.status.idle": "2022-08-23T09:21:17.398232Z",
          "shell.execute_reply.started": "2022-08-23T09:21:17.386498Z",
          "shell.execute_reply": "2022-08-23T09:21:17.397057Z"
        },
        "trusted": true,
        "colab": {
          "base_uri": "https://localhost:8080/",
          "height": 316
        },
        "id": "z_TapsJfEd8J",
        "outputId": "2ac5ead5-36ff-4ee5-c950-0151f81ba200"
      },
      "execution_count": 21,
      "outputs": [
        {
          "output_type": "execute_result",
          "data": {
            "text/plain": [
              "            id    qid1    qid2  \\\n",
              "33567    33567   66900   66901   \n",
              "28769    28769   57359   57360   \n",
              "32343    32343   64464   64465   \n",
              "257660  257660  393059  507138   \n",
              "387765  387765  758081  758082   \n",
              "\n",
              "                                                question1  \\\n",
              "33567   What is it like to attend a State of the Union...   \n",
              "28769           Should I take a break from my girlfriend?   \n",
              "32343   What brand makes the most durable/heavyduty ts...   \n",
              "257660  How do  you ask \"where do you live\" without se...   \n",
              "387765          Why aren't most atheists scared of dying?   \n",
              "\n",
              "                                                question2  is_duplicate  \n",
              "33567    How can I attend the State of the Union Address?             0  \n",
              "28769               Should I break up with my girlfriend?             0  \n",
              "32343                   What brands make great neck ties?             0  \n",
              "257660  How do I complement a woman without being creepy?             0  \n",
              "387765  Are theists less scared than atheists of dying...             0  "
            ],
            "text/html": [
              "\n",
              "  <div id=\"df-95ece334-c475-4139-b5d3-ff2246b638b8\">\n",
              "    <div class=\"colab-df-container\">\n",
              "      <div>\n",
              "<style scoped>\n",
              "    .dataframe tbody tr th:only-of-type {\n",
              "        vertical-align: middle;\n",
              "    }\n",
              "\n",
              "    .dataframe tbody tr th {\n",
              "        vertical-align: top;\n",
              "    }\n",
              "\n",
              "    .dataframe thead th {\n",
              "        text-align: right;\n",
              "    }\n",
              "</style>\n",
              "<table border=\"1\" class=\"dataframe\">\n",
              "  <thead>\n",
              "    <tr style=\"text-align: right;\">\n",
              "      <th></th>\n",
              "      <th>id</th>\n",
              "      <th>qid1</th>\n",
              "      <th>qid2</th>\n",
              "      <th>question1</th>\n",
              "      <th>question2</th>\n",
              "      <th>is_duplicate</th>\n",
              "    </tr>\n",
              "  </thead>\n",
              "  <tbody>\n",
              "    <tr>\n",
              "      <th>33567</th>\n",
              "      <td>33567</td>\n",
              "      <td>66900</td>\n",
              "      <td>66901</td>\n",
              "      <td>What is it like to attend a State of the Union...</td>\n",
              "      <td>How can I attend the State of the Union Address?</td>\n",
              "      <td>0</td>\n",
              "    </tr>\n",
              "    <tr>\n",
              "      <th>28769</th>\n",
              "      <td>28769</td>\n",
              "      <td>57359</td>\n",
              "      <td>57360</td>\n",
              "      <td>Should I take a break from my girlfriend?</td>\n",
              "      <td>Should I break up with my girlfriend?</td>\n",
              "      <td>0</td>\n",
              "    </tr>\n",
              "    <tr>\n",
              "      <th>32343</th>\n",
              "      <td>32343</td>\n",
              "      <td>64464</td>\n",
              "      <td>64465</td>\n",
              "      <td>What brand makes the most durable/heavyduty ts...</td>\n",
              "      <td>What brands make great neck ties?</td>\n",
              "      <td>0</td>\n",
              "    </tr>\n",
              "    <tr>\n",
              "      <th>257660</th>\n",
              "      <td>257660</td>\n",
              "      <td>393059</td>\n",
              "      <td>507138</td>\n",
              "      <td>How do  you ask \"where do you live\" without se...</td>\n",
              "      <td>How do I complement a woman without being creepy?</td>\n",
              "      <td>0</td>\n",
              "    </tr>\n",
              "    <tr>\n",
              "      <th>387765</th>\n",
              "      <td>387765</td>\n",
              "      <td>758081</td>\n",
              "      <td>758082</td>\n",
              "      <td>Why aren't most atheists scared of dying?</td>\n",
              "      <td>Are theists less scared than atheists of dying...</td>\n",
              "      <td>0</td>\n",
              "    </tr>\n",
              "  </tbody>\n",
              "</table>\n",
              "</div>\n",
              "      <button class=\"colab-df-convert\" onclick=\"convertToInteractive('df-95ece334-c475-4139-b5d3-ff2246b638b8')\"\n",
              "              title=\"Convert this dataframe to an interactive table.\"\n",
              "              style=\"display:none;\">\n",
              "        \n",
              "  <svg xmlns=\"http://www.w3.org/2000/svg\" height=\"24px\"viewBox=\"0 0 24 24\"\n",
              "       width=\"24px\">\n",
              "    <path d=\"M0 0h24v24H0V0z\" fill=\"none\"/>\n",
              "    <path d=\"M18.56 5.44l.94 2.06.94-2.06 2.06-.94-2.06-.94-.94-2.06-.94 2.06-2.06.94zm-11 1L8.5 8.5l.94-2.06 2.06-.94-2.06-.94L8.5 2.5l-.94 2.06-2.06.94zm10 10l.94 2.06.94-2.06 2.06-.94-2.06-.94-.94-2.06-.94 2.06-2.06.94z\"/><path d=\"M17.41 7.96l-1.37-1.37c-.4-.4-.92-.59-1.43-.59-.52 0-1.04.2-1.43.59L10.3 9.45l-7.72 7.72c-.78.78-.78 2.05 0 2.83L4 21.41c.39.39.9.59 1.41.59.51 0 1.02-.2 1.41-.59l7.78-7.78 2.81-2.81c.8-.78.8-2.07 0-2.86zM5.41 20L4 18.59l7.72-7.72 1.47 1.35L5.41 20z\"/>\n",
              "  </svg>\n",
              "      </button>\n",
              "      \n",
              "  <style>\n",
              "    .colab-df-container {\n",
              "      display:flex;\n",
              "      flex-wrap:wrap;\n",
              "      gap: 12px;\n",
              "    }\n",
              "\n",
              "    .colab-df-convert {\n",
              "      background-color: #E8F0FE;\n",
              "      border: none;\n",
              "      border-radius: 50%;\n",
              "      cursor: pointer;\n",
              "      display: none;\n",
              "      fill: #1967D2;\n",
              "      height: 32px;\n",
              "      padding: 0 0 0 0;\n",
              "      width: 32px;\n",
              "    }\n",
              "\n",
              "    .colab-df-convert:hover {\n",
              "      background-color: #E2EBFA;\n",
              "      box-shadow: 0px 1px 2px rgba(60, 64, 67, 0.3), 0px 1px 3px 1px rgba(60, 64, 67, 0.15);\n",
              "      fill: #174EA6;\n",
              "    }\n",
              "\n",
              "    [theme=dark] .colab-df-convert {\n",
              "      background-color: #3B4455;\n",
              "      fill: #D2E3FC;\n",
              "    }\n",
              "\n",
              "    [theme=dark] .colab-df-convert:hover {\n",
              "      background-color: #434B5C;\n",
              "      box-shadow: 0px 1px 3px 1px rgba(0, 0, 0, 0.15);\n",
              "      filter: drop-shadow(0px 1px 2px rgba(0, 0, 0, 0.3));\n",
              "      fill: #FFFFFF;\n",
              "    }\n",
              "  </style>\n",
              "\n",
              "      <script>\n",
              "        const buttonEl =\n",
              "          document.querySelector('#df-95ece334-c475-4139-b5d3-ff2246b638b8 button.colab-df-convert');\n",
              "        buttonEl.style.display =\n",
              "          google.colab.kernel.accessAllowed ? 'block' : 'none';\n",
              "\n",
              "        async function convertToInteractive(key) {\n",
              "          const element = document.querySelector('#df-95ece334-c475-4139-b5d3-ff2246b638b8');\n",
              "          const dataTable =\n",
              "            await google.colab.kernel.invokeFunction('convertToInteractive',\n",
              "                                                     [key], {});\n",
              "          if (!dataTable) return;\n",
              "\n",
              "          const docLinkHtml = 'Like what you see? Visit the ' +\n",
              "            '<a target=\"_blank\" href=https://colab.research.google.com/notebooks/data_table.ipynb>data table notebook</a>'\n",
              "            + ' to learn more about interactive tables.';\n",
              "          element.innerHTML = '';\n",
              "          dataTable['output_type'] = 'display_data';\n",
              "          await google.colab.output.renderOutput(dataTable, element);\n",
              "          const docLink = document.createElement('div');\n",
              "          docLink.innerHTML = docLinkHtml;\n",
              "          element.appendChild(docLink);\n",
              "        }\n",
              "      </script>\n",
              "    </div>\n",
              "  </div>\n",
              "  "
            ]
          },
          "metadata": {},
          "execution_count": 21
        }
      ]
    },
    {
      "cell_type": "code",
      "source": [
        "df_balanced_drop = df_balanced[df_balanced['question1'].isna()]\n",
        "df_balanced_drop.index"
      ],
      "metadata": {
        "execution": {
          "iopub.status.busy": "2022-08-23T09:21:17.733906Z",
          "iopub.execute_input": "2022-08-23T09:21:17.734254Z",
          "iopub.status.idle": "2022-08-23T09:21:17.784756Z",
          "shell.execute_reply.started": "2022-08-23T09:21:17.734224Z",
          "shell.execute_reply": "2022-08-23T09:21:17.783552Z"
        },
        "trusted": true,
        "colab": {
          "base_uri": "https://localhost:8080/"
        },
        "id": "CtLa5d_0Ed8J",
        "outputId": "ec3909f2-dd26-4c6d-90d7-da168082b348"
      },
      "execution_count": 22,
      "outputs": [
        {
          "output_type": "execute_result",
          "data": {
            "text/plain": [
              "Int64Index([363416], dtype='int64')"
            ]
          },
          "metadata": {},
          "execution_count": 22
        }
      ]
    },
    {
      "cell_type": "code",
      "source": [
        "df_balanced['question1'].nunique()"
      ],
      "metadata": {
        "execution": {
          "iopub.status.busy": "2022-08-23T09:21:18.908054Z",
          "iopub.execute_input": "2022-08-23T09:21:18.908793Z",
          "iopub.status.idle": "2022-08-23T09:21:19.030165Z",
          "shell.execute_reply.started": "2022-08-23T09:21:18.908755Z",
          "shell.execute_reply": "2022-08-23T09:21:19.029167Z"
        },
        "trusted": true,
        "colab": {
          "base_uri": "https://localhost:8080/"
        },
        "id": "HwJtpR7yEd8K",
        "outputId": "3834ad2f-41b9-4523-9241-d9655e350ebf"
      },
      "execution_count": 23,
      "outputs": [
        {
          "output_type": "execute_result",
          "data": {
            "text/plain": [
              "212738"
            ]
          },
          "metadata": {},
          "execution_count": 23
        }
      ]
    },
    {
      "cell_type": "code",
      "source": [
        "df_balanced.drop(labels=df_balanced_drop.index,inplace=True)"
      ],
      "metadata": {
        "execution": {
          "iopub.status.busy": "2022-08-23T09:21:19.464774Z",
          "iopub.execute_input": "2022-08-23T09:21:19.465831Z",
          "iopub.status.idle": "2022-08-23T09:21:19.511012Z",
          "shell.execute_reply.started": "2022-08-23T09:21:19.465783Z",
          "shell.execute_reply": "2022-08-23T09:21:19.510000Z"
        },
        "trusted": true,
        "id": "2sJ13ScVEd8K"
      },
      "execution_count": 24,
      "outputs": []
    },
    {
      "cell_type": "code",
      "source": [
        "df_balanced.isnull().sum()"
      ],
      "metadata": {
        "execution": {
          "iopub.status.busy": "2022-08-23T09:21:20.994044Z",
          "iopub.execute_input": "2022-08-23T09:21:20.995155Z",
          "iopub.status.idle": "2022-08-23T09:21:21.072009Z",
          "shell.execute_reply.started": "2022-08-23T09:21:20.995097Z",
          "shell.execute_reply": "2022-08-23T09:21:21.070700Z"
        },
        "trusted": true,
        "colab": {
          "base_uri": "https://localhost:8080/"
        },
        "id": "ssATVgbdEd8K",
        "outputId": "0a1d4008-8a9e-4579-b167-82ad95ddfa67"
      },
      "execution_count": 25,
      "outputs": [
        {
          "output_type": "execute_result",
          "data": {
            "text/plain": [
              "id              0\n",
              "qid1            0\n",
              "qid2            0\n",
              "question1       0\n",
              "question2       1\n",
              "is_duplicate    0\n",
              "dtype: int64"
            ]
          },
          "metadata": {},
          "execution_count": 25
        }
      ]
    },
    {
      "cell_type": "code",
      "source": [
        "df_balanced.info()"
      ],
      "metadata": {
        "execution": {
          "iopub.status.busy": "2022-08-23T09:21:21.576226Z",
          "iopub.execute_input": "2022-08-23T09:21:21.576870Z",
          "iopub.status.idle": "2022-08-23T09:21:21.658281Z",
          "shell.execute_reply.started": "2022-08-23T09:21:21.576837Z",
          "shell.execute_reply": "2022-08-23T09:21:21.657083Z"
        },
        "trusted": true,
        "colab": {
          "base_uri": "https://localhost:8080/"
        },
        "id": "xDbN0tVtEd8K",
        "outputId": "e654e8f5-c980-495d-fe05-98d9fa193e5d"
      },
      "execution_count": 26,
      "outputs": [
        {
          "output_type": "stream",
          "name": "stdout",
          "text": [
            "<class 'pandas.core.frame.DataFrame'>\n",
            "Int64Index: 298611 entries, 33567 to 404347\n",
            "Data columns (total 6 columns):\n",
            " #   Column        Non-Null Count   Dtype \n",
            "---  ------        --------------   ----- \n",
            " 0   id            298611 non-null  int64 \n",
            " 1   qid1          298611 non-null  int64 \n",
            " 2   qid2          298611 non-null  int64 \n",
            " 3   question1     298611 non-null  object\n",
            " 4   question2     298610 non-null  object\n",
            " 5   is_duplicate  298611 non-null  int64 \n",
            "dtypes: int64(4), object(2)\n",
            "memory usage: 15.9+ MB\n"
          ]
        }
      ]
    },
    {
      "cell_type": "code",
      "source": [
        "import matplotlib.pyplot as plt\n",
        "import seaborn as sns\n",
        "\n",
        "# Repeated questions histogram\n",
        "\n",
        "plt.hist(qid.value_counts().values,bins=160)\n",
        "plt.yscale('log')\n",
        "plt.show()"
      ],
      "metadata": {
        "execution": {
          "iopub.status.busy": "2022-08-23T09:21:21.985051Z",
          "iopub.execute_input": "2022-08-23T09:21:21.985764Z",
          "iopub.status.idle": "2022-08-23T09:21:22.934158Z",
          "shell.execute_reply.started": "2022-08-23T09:21:21.985727Z",
          "shell.execute_reply": "2022-08-23T09:21:22.933172Z"
        },
        "trusted": true,
        "colab": {
          "base_uri": "https://localhost:8080/",
          "height": 265
        },
        "id": "05MupYpREd8K",
        "outputId": "5febbe6b-65fb-4ba8-89e0-94b528c6f11f"
      },
      "execution_count": 27,
      "outputs": [
        {
          "output_type": "display_data",
          "data": {
            "text/plain": [
              "<Figure size 432x288 with 1 Axes>"
            ],
            "image/png": "[encoded data removed]"
          },
          "metadata": {
            "needs_background": "light"
          }
        }
      ]
    },
    {
      "cell_type": "code",
      "source": [
        "que_df = df_balanced[[\"question1\",\"question2\"]]\n",
        "que_df.head()"
      ],
      "metadata": {
        "execution": {
          "iopub.status.busy": "2022-08-23T09:21:23.174346Z",
          "iopub.execute_input": "2022-08-23T09:21:23.175223Z",
          "iopub.status.idle": "2022-08-23T09:21:23.201290Z",
          "shell.execute_reply.started": "2022-08-23T09:21:23.175181Z",
          "shell.execute_reply": "2022-08-23T09:21:23.200357Z"
        },
        "trusted": true,
        "colab": {
          "base_uri": "https://localhost:8080/",
          "height": 204
        },
        "id": "f7hObAWuEd8L",
        "outputId": "0882a89f-9e0f-4230-edd0-8d69bf09351d"
      },
      "execution_count": 28,
      "outputs": [
        {
          "output_type": "execute_result",
          "data": {
            "text/plain": [
              "                                                question1  \\\n",
              "33567   What is it like to attend a State of the Union...   \n",
              "28769           Should I take a break from my girlfriend?   \n",
              "32343   What brand makes the most durable/heavyduty ts...   \n",
              "257660  How do  you ask \"where do you live\" without se...   \n",
              "387765          Why aren't most atheists scared of dying?   \n",
              "\n",
              "                                                question2  \n",
              "33567    How can I attend the State of the Union Address?  \n",
              "28769               Should I break up with my girlfriend?  \n",
              "32343                   What brands make great neck ties?  \n",
              "257660  How do I complement a woman without being creepy?  \n",
              "387765  Are theists less scared than atheists of dying...  "
            ],
            "text/html": [
              "\n",
              "  <div id=\"df-48ac003f-6f93-4e4b-994d-c5e153c1a20f\">\n",
              "    <div class=\"colab-df-container\">\n",
              "      <div>\n",
              "<style scoped>\n",
              "    .dataframe tbody tr th:only-of-type {\n",
              "        vertical-align: middle;\n",
              "    }\n",
              "\n",
              "    .dataframe tbody tr th {\n",
              "        vertical-align: top;\n",
              "    }\n",
              "\n",
              "    .dataframe thead th {\n",
              "        text-align: right;\n",
              "    }\n",
              "</style>\n",
              "<table border=\"1\" class=\"dataframe\">\n",
              "  <thead>\n",
              "    <tr style=\"text-align: right;\">\n",
              "      <th></th>\n",
              "      <th>question1</th>\n",
              "      <th>question2</th>\n",
              "    </tr>\n",
              "  </thead>\n",
              "  <tbody>\n",
              "    <tr>\n",
              "      <th>33567</th>\n",
              "      <td>What is it like to attend a State of the Union...</td>\n",
              "      <td>How can I attend the State of the Union Address?</td>\n",
              "    </tr>\n",
              "    <tr>\n",
              "      <th>28769</th>\n",
              "      <td>Should I take a break from my girlfriend?</td>\n",
              "      <td>Should I break up with my girlfriend?</td>\n",
              "    </tr>\n",
              "    <tr>\n",
              "      <th>32343</th>\n",
              "      <td>What brand makes the most durable/heavyduty ts...</td>\n",
              "      <td>What brands make great neck ties?</td>\n",
              "    </tr>\n",
              "    <tr>\n",
              "      <th>257660</th>\n",
              "      <td>How do  you ask \"where do you live\" without se...</td>\n",
              "      <td>How do I complement a woman without being creepy?</td>\n",
              "    </tr>\n",
              "    <tr>\n",
              "      <th>387765</th>\n",
              "      <td>Why aren't most atheists scared of dying?</td>\n",
              "      <td>Are theists less scared than atheists of dying...</td>\n",
              "    </tr>\n",
              "  </tbody>\n",
              "</table>\n",
              "</div>\n",
              "      <button class=\"colab-df-convert\" onclick=\"convertToInteractive('df-48ac003f-6f93-4e4b-994d-c5e153c1a20f')\"\n",
              "              title=\"Convert this dataframe to an interactive table.\"\n",
              "              style=\"display:none;\">\n",
              "        \n",
              "  <svg xmlns=\"http://www.w3.org/2000/svg\" height=\"24px\"viewBox=\"0 0 24 24\"\n",
              "       width=\"24px\">\n",
              "    <path d=\"M0 0h24v24H0V0z\" fill=\"none\"/>\n",
              "    <path d=\"M18.56 5.44l.94 2.06.94-2.06 2.06-.94-2.06-.94-.94-2.06-.94 2.06-2.06.94zm-11 1L8.5 8.5l.94-2.06 2.06-.94-2.06-.94L8.5 2.5l-.94 2.06-2.06.94zm10 10l.94 2.06.94-2.06 2.06-.94-2.06-.94-.94-2.06-.94 2.06-2.06.94z\"/><path d=\"M17.41 7.96l-1.37-1.37c-.4-.4-.92-.59-1.43-.59-.52 0-1.04.2-1.43.59L10.3 9.45l-7.72 7.72c-.78.78-.78 2.05 0 2.83L4 21.41c.39.39.9.59 1.41.59.51 0 1.02-.2 1.41-.59l7.78-7.78 2.81-2.81c.8-.78.8-2.07 0-2.86zM5.41 20L4 18.59l7.72-7.72 1.47 1.35L5.41 20z\"/>\n",
              "  </svg>\n",
              "      </button>\n",
              "      \n",
              "  <style>\n",
              "    .colab-df-container {\n",
              "      display:flex;\n",
              "      flex-wrap:wrap;\n",
              "      gap: 12px;\n",
              "    }\n",
              "\n",
              "    .colab-df-convert {\n",
              "      background-color: #E8F0FE;\n",
              "      border: none;\n",
              "      border-radius: 50%;\n",
              "      cursor: pointer;\n",
              "      display: none;\n",
              "      fill: #1967D2;\n",
              "      height: 32px;\n",
              "      padding: 0 0 0 0;\n",
              "      width: 32px;\n",
              "    }\n",
              "\n",
              "    .colab-df-convert:hover {\n",
              "      background-color: #E2EBFA;\n",
              "      box-shadow: 0px 1px 2px rgba(60, 64, 67, 0.3), 0px 1px 3px 1px rgba(60, 64, 67, 0.15);\n",
              "      fill: #174EA6;\n",
              "    }\n",
              "\n",
              "    [theme=dark] .colab-df-convert {\n",
              "      background-color: #3B4455;\n",
              "      fill: #D2E3FC;\n",
              "    }\n",
              "\n",
              "    [theme=dark] .colab-df-convert:hover {\n",
              "      background-color: #434B5C;\n",
              "      box-shadow: 0px 1px 3px 1px rgba(0, 0, 0, 0.15);\n",
              "      filter: drop-shadow(0px 1px 2px rgba(0, 0, 0, 0.3));\n",
              "      fill: #FFFFFF;\n",
              "    }\n",
              "  </style>\n",
              "\n",
              "      <script>\n",
              "        const buttonEl =\n",
              "          document.querySelector('#df-48ac003f-6f93-4e4b-994d-c5e153c1a20f button.colab-df-convert');\n",
              "        buttonEl.style.display =\n",
              "          google.colab.kernel.accessAllowed ? 'block' : 'none';\n",
              "\n",
              "        async function convertToInteractive(key) {\n",
              "          const element = document.querySelector('#df-48ac003f-6f93-4e4b-994d-c5e153c1a20f');\n",
              "          const dataTable =\n",
              "            await google.colab.kernel.invokeFunction('convertToInteractive',\n",
              "                                                     [key], {});\n",
              "          if (!dataTable) return;\n",
              "\n",
              "          const docLinkHtml = 'Like what you see? Visit the ' +\n",
              "            '<a target=\"_blank\" href=https://colab.research.google.com/notebooks/data_table.ipynb>data table notebook</a>'\n",
              "            + ' to learn more about interactive tables.';\n",
              "          element.innerHTML = '';\n",
              "          dataTable['output_type'] = 'display_data';\n",
              "          await google.colab.output.renderOutput(dataTable, element);\n",
              "          const docLink = document.createElement('div');\n",
              "          docLink.innerHTML = docLinkHtml;\n",
              "          element.appendChild(docLink);\n",
              "        }\n",
              "      </script>\n",
              "    </div>\n",
              "  </div>\n",
              "  "
            ]
          },
          "metadata": {},
          "execution_count": 28
        }
      ]
    },
    {
      "cell_type": "code",
      "source": [
        "from sklearn.feature_extraction.text import CountVectorizer\n",
        "\n",
        "questions = list(que_df[\"question1\"]) + list(que_df[\"question2\"])\n",
        "\n",
        "# merging the dataset of questions in to a list"
      ],
      "metadata": {
        "execution": {
          "iopub.status.busy": "2022-08-23T09:21:24.712635Z",
          "iopub.execute_input": "2022-08-23T09:21:24.712991Z",
          "iopub.status.idle": "2022-08-23T09:21:24.839762Z",
          "shell.execute_reply.started": "2022-08-23T09:21:24.712959Z",
          "shell.execute_reply": "2022-08-23T09:21:24.835628Z"
        },
        "trusted": true,
        "id": "-L8J_EZDEd8L"
      },
      "execution_count": 29,
      "outputs": []
    },
    {
      "cell_type": "code",
      "source": [
        "len(questions)"
      ],
      "metadata": {
        "execution": {
          "iopub.status.busy": "2022-08-23T09:21:27.195435Z",
          "iopub.execute_input": "2022-08-23T09:21:27.195818Z",
          "iopub.status.idle": "2022-08-23T09:21:27.202571Z",
          "shell.execute_reply.started": "2022-08-23T09:21:27.195783Z",
          "shell.execute_reply": "2022-08-23T09:21:27.201563Z"
        },
        "trusted": true,
        "colab": {
          "base_uri": "https://localhost:8080/"
        },
        "id": "DXkwIPoiEd8L",
        "outputId": "03cc3115-194d-4bcc-c561-1cd425b0f5b6"
      },
      "execution_count": 30,
      "outputs": [
        {
          "output_type": "execute_result",
          "data": {
            "text/plain": [
              "597222"
            ]
          },
          "metadata": {},
          "execution_count": 30
        }
      ]
    },
    {
      "cell_type": "code",
      "source": [
        "questions[0:5]"
      ],
      "metadata": {
        "execution": {
          "iopub.status.busy": "2022-08-23T09:21:30.040867Z",
          "iopub.execute_input": "2022-08-23T09:21:30.042002Z",
          "iopub.status.idle": "2022-08-23T09:21:30.049020Z",
          "shell.execute_reply.started": "2022-08-23T09:21:30.041955Z",
          "shell.execute_reply": "2022-08-23T09:21:30.047914Z"
        },
        "trusted": true,
        "colab": {
          "base_uri": "https://localhost:8080/"
        },
        "id": "nBq7uwONEd8L",
        "outputId": "726a2335-16c9-4ba9-d1f4-61ba95936583"
      },
      "execution_count": 31,
      "outputs": [
        {
          "output_type": "execute_result",
          "data": {
            "text/plain": [
              "['What is it like to attend a State of the Union Address?',\n",
              " 'Should I take a break from my girlfriend?',\n",
              " 'What brand makes the most durable/heavyduty tshirt?',\n",
              " 'How do  you ask \"where do you live\" without seeming creepy?',\n",
              " \"Why aren't most atheists scared of dying?\"]"
            ]
          },
          "metadata": {},
          "execution_count": 31
        }
      ]
    },
    {
      "cell_type": "code",
      "source": [
        "import string\n",
        "from nltk.corpus import stopwords"
      ],
      "metadata": {
        "execution": {
          "iopub.status.busy": "2022-08-23T09:21:34.627035Z",
          "iopub.execute_input": "2022-08-23T09:21:34.627754Z",
          "iopub.status.idle": "2022-08-23T09:21:35.032639Z",
          "shell.execute_reply.started": "2022-08-23T09:21:34.627715Z",
          "shell.execute_reply": "2022-08-23T09:21:35.031001Z"
        },
        "trusted": true,
        "id": "GWOFjJtXEd8L"
      },
      "execution_count": 32,
      "outputs": []
    },
    {
      "cell_type": "code",
      "source": [
        "X=df_balanced['question1'] + df_balanced['question2']\n",
        "y=df_balanced['is_duplicate']"
      ],
      "metadata": {
        "execution": {
          "iopub.status.busy": "2022-08-23T09:21:39.743350Z",
          "iopub.execute_input": "2022-08-23T09:21:39.743973Z",
          "iopub.status.idle": "2022-08-23T09:21:39.926161Z",
          "shell.execute_reply.started": "2022-08-23T09:21:39.743936Z",
          "shell.execute_reply": "2022-08-23T09:21:39.925086Z"
        },
        "trusted": true,
        "id": "jNkFUlL5Ed8L"
      },
      "execution_count": 33,
      "outputs": []
    },
    {
      "cell_type": "code",
      "source": [
        "print(X)"
      ],
      "metadata": {
        "execution": {
          "iopub.status.busy": "2022-08-23T09:21:51.568708Z",
          "iopub.execute_input": "2022-08-23T09:21:51.569832Z",
          "iopub.status.idle": "2022-08-23T09:21:51.576636Z",
          "shell.execute_reply.started": "2022-08-23T09:21:51.569790Z",
          "shell.execute_reply": "2022-08-23T09:21:51.575623Z"
        },
        "trusted": true,
        "colab": {
          "base_uri": "https://localhost:8080/"
        },
        "id": "yjjJSxrSEd8L",
        "outputId": "7cdd1d81-0fe3-4707-cea4-8afb6266ecb5"
      },
      "execution_count": 34,
      "outputs": [
        {
          "output_type": "stream",
          "name": "stdout",
          "text": [
            "33567     What is it like to attend a State of the Union...\n",
            "28769     Should I take a break from my girlfriend?Shoul...\n",
            "32343     What brand makes the most durable/heavyduty ts...\n",
            "257660    How do  you ask \"where do you live\" without se...\n",
            "387765    Why aren't most atheists scared of dying?Are t...\n",
            "                                ...                        \n",
            "404341    What are some outfit ideas to wear to a frat p...\n",
            "404342    Why is Manaphy childish in Pokémon Ranger and ...\n",
            "404343    How does a long distance relationship work?How...\n",
            "404345    What does Jainism say about homosexuality?What...\n",
            "404347    Do you believe there is life after death?Is it...\n",
            "Length: 298611, dtype: object\n"
          ]
        }
      ]
    },
    {
      "cell_type": "code",
      "source": [
        "cv=CountVectorizer(stop_words='english')"
      ],
      "metadata": {
        "execution": {
          "iopub.status.busy": "2022-08-23T09:21:54.862226Z",
          "iopub.execute_input": "2022-08-23T09:21:54.862839Z",
          "iopub.status.idle": "2022-08-23T09:21:54.868052Z",
          "shell.execute_reply.started": "2022-08-23T09:21:54.862802Z",
          "shell.execute_reply": "2022-08-23T09:21:54.866843Z"
        },
        "trusted": true,
        "id": "5108EV7qEd8L"
      },
      "execution_count": 35,
      "outputs": []
    },
    {
      "cell_type": "code",
      "source": [
        "X=cv.fit_transform(X.apply(lambda x: np.str_(x)))"
      ],
      "metadata": {
        "execution": {
          "iopub.status.busy": "2022-08-23T09:21:57.020653Z",
          "iopub.execute_input": "2022-08-23T09:21:57.021383Z",
          "iopub.status.idle": "2022-08-23T09:22:01.846004Z",
          "shell.execute_reply.started": "2022-08-23T09:21:57.021346Z",
          "shell.execute_reply": "2022-08-23T09:22:01.844976Z"
        },
        "trusted": true,
        "id": "dpi-lnTQEd8L"
      },
      "execution_count": 36,
      "outputs": []
    },
    {
      "cell_type": "code",
      "source": [
        "type(X)"
      ],
      "metadata": {
        "execution": {
          "iopub.status.busy": "2022-08-23T09:22:07.141261Z",
          "iopub.execute_input": "2022-08-23T09:22:07.141981Z",
          "iopub.status.idle": "2022-08-23T09:22:07.148435Z",
          "shell.execute_reply.started": "2022-08-23T09:22:07.141944Z",
          "shell.execute_reply": "2022-08-23T09:22:07.147492Z"
        },
        "trusted": true,
        "colab": {
          "base_uri": "https://localhost:8080/"
        },
        "id": "0B2GIzBPEd8M",
        "outputId": "c696a362-020b-4f24-b27b-2d5bb97f8af0"
      },
      "execution_count": 37,
      "outputs": [
        {
          "output_type": "execute_result",
          "data": {
            "text/plain": [
              "scipy.sparse.csr.csr_matrix"
            ]
          },
          "metadata": {},
          "execution_count": 37
        }
      ]
    },
    {
      "cell_type": "code",
      "source": [
        "print(X)"
      ],
      "metadata": {
        "execution": {
          "iopub.status.busy": "2022-08-23T09:22:08.013383Z",
          "iopub.execute_input": "2022-08-23T09:22:08.014430Z",
          "iopub.status.idle": "2022-08-23T09:22:08.055453Z",
          "shell.execute_reply.started": "2022-08-23T09:22:08.014383Z",
          "shell.execute_reply": "2022-08-23T09:22:08.053911Z"
        },
        "trusted": true,
        "colab": {
          "base_uri": "https://localhost:8080/"
        },
        "id": "LcRuVTtWEd8M",
        "outputId": "4ddc369a-05d8-4129-9fa8-ca1be526bbcb"
      },
      "execution_count": 38,
      "outputs": [
        {
          "output_type": "stream",
          "name": "stdout",
          "text": [
            "  (0, 36937)\t1\n",
            "  (0, 7167)\t2\n",
            "  (0, 59168)\t2\n",
            "  (0, 65010)\t2\n",
            "  (0, 3914)\t2\n",
            "  (1, 10630)\t2\n",
            "  (1, 26858)\t2\n",
            "  (2, 10574)\t1\n",
            "  (2, 38393)\t1\n",
            "  (2, 20758)\t1\n",
            "  (2, 28989)\t1\n",
            "  (2, 63958)\t1\n",
            "  (2, 10581)\t1\n",
            "  (2, 38384)\t1\n",
            "  (2, 27591)\t1\n",
            "  (2, 42804)\t1\n",
            "  (2, 62631)\t1\n",
            "  (3, 6771)\t1\n",
            "  (3, 37184)\t1\n",
            "  (3, 16502)\t2\n",
            "  (3, 14970)\t1\n",
            "  (3, 68304)\t1\n",
            "  (4, 6409)\t1\n",
            "  (4, 7042)\t2\n",
            "  (4, 55114)\t2\n",
            "  :\t:\n",
            "  (298606, 25400)\t2\n",
            "  (298607, 55509)\t2\n",
            "  (298607, 48318)\t1\n",
            "  (298607, 48337)\t1\n",
            "  (298607, 5701)\t1\n",
            "  (298607, 61847)\t2\n",
            "  (298607, 38553)\t2\n",
            "  (298607, 51351)\t2\n",
            "  (298607, 13333)\t1\n",
            "  (298608, 19983)\t1\n",
            "  (298608, 68380)\t1\n",
            "  (298608, 37446)\t2\n",
            "  (298608, 52415)\t1\n",
            "  (298608, 52416)\t1\n",
            "  (298608, 19725)\t2\n",
            "  (298608, 38345)\t1\n",
            "  (298609, 55019)\t2\n",
            "  (298609, 19983)\t2\n",
            "  (298609, 26322)\t1\n",
            "  (298609, 29831)\t2\n",
            "  (298609, 33435)\t2\n",
            "  (298610, 8811)\t1\n",
            "  (298610, 36856)\t2\n",
            "  (298610, 17747)\t2\n",
            "  (298610, 63875)\t1\n"
          ]
        }
      ]
    },
    {
      "cell_type": "code",
      "source": [
        "from sklearn.model_selection import train_test_split"
      ],
      "metadata": {
        "execution": {
          "iopub.status.busy": "2022-08-23T09:22:08.742026Z",
          "iopub.execute_input": "2022-08-23T09:22:08.742945Z",
          "iopub.status.idle": "2022-08-23T09:22:08.748264Z",
          "shell.execute_reply.started": "2022-08-23T09:22:08.742900Z",
          "shell.execute_reply": "2022-08-23T09:22:08.747195Z"
        },
        "trusted": true,
        "id": "fiZEpqmqEd8M"
      },
      "execution_count": 39,
      "outputs": []
    },
    {
      "cell_type": "code",
      "source": [
        "X_train, X_test, y_train, y_test = train_test_split(X, y,test_size=0.3,random_state=101)"
      ],
      "metadata": {
        "execution": {
          "iopub.status.busy": "2022-08-23T09:22:09.568130Z",
          "iopub.execute_input": "2022-08-23T09:22:09.569228Z",
          "iopub.status.idle": "2022-08-23T09:22:09.612619Z",
          "shell.execute_reply.started": "2022-08-23T09:22:09.569183Z",
          "shell.execute_reply": "2022-08-23T09:22:09.611617Z"
        },
        "trusted": true,
        "id": "JiiPzgsiEd8M"
      },
      "execution_count": 40,
      "outputs": []
    },
    {
      "cell_type": "code",
      "source": [
        "from sklearn.linear_model import LogisticRegression\n",
        "from sklearn.naive_bayes import MultinomialNB\n",
        "from sklearn.metrics import accuracy_score,classification_report,confusion_matrix"
      ],
      "metadata": {
        "execution": {
          "iopub.status.busy": "2022-08-23T09:22:10.615597Z",
          "iopub.execute_input": "2022-08-23T09:22:10.616205Z",
          "iopub.status.idle": "2022-08-23T09:22:10.623514Z",
          "shell.execute_reply.started": "2022-08-23T09:22:10.616164Z",
          "shell.execute_reply": "2022-08-23T09:22:10.622507Z"
        },
        "trusted": true,
        "id": "nTgXbVoLEd8M"
      },
      "execution_count": 41,
      "outputs": []
    },
    {
      "cell_type": "code",
      "source": [
        "classifiers=[['Logistic Regression :',LogisticRegression()],\n",
        "       ['MultinomialNB:',MultinomialNB()]]\n",
        "cla_pred=[]\n",
        "for name,model in classifiers:\n",
        "    model=model\n",
        "    model.fit(X_train,y_train)\n",
        "    predictions = model.predict(X_test)\n",
        "    cla_pred.append(accuracy_score(y_test,predictions))\n",
        "    print(name,accuracy_score(y_test,predictions))"
      ],
      "metadata": {
        "execution": {
          "iopub.status.busy": "2022-08-23T09:22:11.926556Z",
          "iopub.execute_input": "2022-08-23T09:22:11.927180Z",
          "iopub.status.idle": "2022-08-23T09:22:20.055726Z",
          "shell.execute_reply.started": "2022-08-23T09:22:11.927121Z",
          "shell.execute_reply": "2022-08-23T09:22:20.054796Z"
        },
        "trusted": true,
        "colab": {
          "base_uri": "https://localhost:8080/"
        },
        "id": "rn5j0Ub2Ed8M",
        "outputId": "2a1fff52-7e01-4eca-93da-70bd0476c5fa"
      },
      "execution_count": 42,
      "outputs": [
        {
          "output_type": "stream",
          "name": "stdout",
          "text": [
            "Logistic Regression : 0.7225732273620289\n",
            "MultinomialNB: 0.7105063404179318\n"
          ]
        },
        {
          "output_type": "stream",
          "name": "stderr",
          "text": [
            "/usr/local/lib/python3.7/dist-packages/sklearn/linear_model/_logistic.py:818: ConvergenceWarning: lbfgs failed to converge (status=1):\n",
            "STOP: TOTAL NO. of ITERATIONS REACHED LIMIT.\n",
            "\n",
            "Increase the number of iterations (max_iter) or scale the data as shown in:\n",
            "    https://scikit-learn.org/stable/modules/preprocessing.html\n",
            "Please also refer to the documentation for alternative solver options:\n",
            "    https://scikit-learn.org/stable/modules/linear_model.html#logistic-regression\n",
            "  extra_warning_msg=_LOGISTIC_SOLVER_CONVERGENCE_MSG,\n"
          ]
        }
      ]
    },
    {
      "cell_type": "code",
      "source": [
        "y_axis=['Logistic Regression','MultinonialNB']\n",
        "x_axis=cla_pred"
      ],
      "metadata": {
        "execution": {
          "iopub.status.busy": "2022-08-23T09:22:20.058753Z",
          "iopub.execute_input": "2022-08-23T09:22:20.059661Z",
          "iopub.status.idle": "2022-08-23T09:22:20.065100Z",
          "shell.execute_reply.started": "2022-08-23T09:22:20.059621Z",
          "shell.execute_reply": "2022-08-23T09:22:20.063670Z"
        },
        "trusted": true,
        "id": "5y3lsoklEd8M"
      },
      "execution_count": 43,
      "outputs": []
    },
    {
      "cell_type": "code",
      "source": [
        "sns.barplot(x=x_axis,y=y_axis)\n",
        "plt.xlabel('Accuracy')"
      ],
      "metadata": {
        "execution": {
          "iopub.status.busy": "2022-08-23T09:22:20.067797Z",
          "iopub.execute_input": "2022-08-23T09:22:20.069321Z",
          "iopub.status.idle": "2022-08-23T09:22:20.255626Z",
          "shell.execute_reply.started": "2022-08-23T09:22:20.069284Z",
          "shell.execute_reply": "2022-08-23T09:22:20.254601Z"
        },
        "trusted": true,
        "colab": {
          "base_uri": "https://localhost:8080/",
          "height": 296
        },
        "id": "5DJ4BbBIEd8N",
        "outputId": "f4f38cdf-1dbe-4ab1-be7f-6ad349bbd0bb"
      },
      "execution_count": 44,
      "outputs": [
        {
          "output_type": "execute_result",
          "data": {
            "text/plain": [
              "Text(0.5, 0, 'Accuracy')"
            ]
          },
          "metadata": {},
          "execution_count": 44
        },
        {
          "output_type": "display_data",
          "data": {
            "text/plain": [
              "<Figure size 432x288 with 1 Axes>"
            ],
            "image/png": "[encoded data removed]"
          },
          "metadata": {
            "needs_background": "light"
          }
        }
      ]
    },
    {
      "cell_type": "code",
      "source": [
        "from sklearn.feature_extraction.text import  TfidfTransformer"
      ],
      "metadata": {
        "execution": {
          "iopub.status.busy": "2022-08-23T09:22:20.257765Z",
          "iopub.execute_input": "2022-08-23T09:22:20.258118Z",
          "iopub.status.idle": "2022-08-23T09:22:20.264925Z",
          "shell.execute_reply.started": "2022-08-23T09:22:20.258074Z",
          "shell.execute_reply": "2022-08-23T09:22:20.263920Z"
        },
        "trusted": true,
        "id": "nbqzVveWEd8N"
      },
      "execution_count": 45,
      "outputs": []
    },
    {
      "cell_type": "code",
      "source": [
        "from sklearn.pipeline import Pipeline\n"
      ],
      "metadata": {
        "execution": {
          "iopub.status.busy": "2022-08-23T09:22:24.489919Z",
          "iopub.execute_input": "2022-08-23T09:22:24.490628Z",
          "iopub.status.idle": "2022-08-23T09:22:24.498210Z",
          "shell.execute_reply.started": "2022-08-23T09:22:24.490590Z",
          "shell.execute_reply": "2022-08-23T09:22:24.497132Z"
        },
        "trusted": true,
        "id": "egKqnzpxEd8N"
      },
      "execution_count": 46,
      "outputs": []
    },
    {
      "cell_type": "code",
      "source": [
        "pipeline = Pipeline([\n",
        "    ('bow', CountVectorizer(stop_words = 'english')),  # strings to token integer counts\n",
        "    ('tfidf', TfidfTransformer()),  # integer counts to weighted TF-IDF scores\n",
        "    ('classifier', LogisticRegression()),  # train on TF-IDF vectors w/ Naive Bayes classifier\n",
        "])"
      ],
      "metadata": {
        "execution": {
          "iopub.status.busy": "2022-08-23T09:22:25.897954Z",
          "iopub.execute_input": "2022-08-23T09:22:25.898341Z",
          "iopub.status.idle": "2022-08-23T09:22:25.905337Z",
          "shell.execute_reply.started": "2022-08-23T09:22:25.898308Z",
          "shell.execute_reply": "2022-08-23T09:22:25.903814Z"
        },
        "trusted": true,
        "id": "9kygVMuOEd8N"
      },
      "execution_count": 47,
      "outputs": []
    },
    {
      "cell_type": "code",
      "source": [
        "X=df_balanced['question1']+df_balanced['question2']\n",
        "y=df_balanced['is_duplicate']\n",
        "X_train, X_test, y_train, y_test = train_test_split(X, y, test_size=0.3, random_state=101)"
      ],
      "metadata": {
        "execution": {
          "iopub.status.busy": "2022-08-23T09:22:27.237312Z",
          "iopub.execute_input": "2022-08-23T09:22:27.238023Z",
          "iopub.status.idle": "2022-08-23T09:22:27.446425Z",
          "shell.execute_reply.started": "2022-08-23T09:22:27.237985Z",
          "shell.execute_reply": "2022-08-23T09:22:27.445275Z"
        },
        "trusted": true,
        "id": "Xxk0kFFyEd8N"
      },
      "execution_count": 48,
      "outputs": []
    },
    {
      "cell_type": "code",
      "source": [
        "pipeline.fit(X_train.apply(lambda x: np.str_(x)),y_train)"
      ],
      "metadata": {
        "execution": {
          "iopub.status.busy": "2022-08-23T09:22:28.898461Z",
          "iopub.execute_input": "2022-08-23T09:22:28.899557Z",
          "iopub.status.idle": "2022-08-23T09:22:41.076653Z",
          "shell.execute_reply.started": "2022-08-23T09:22:28.899515Z",
          "shell.execute_reply": "2022-08-23T09:22:41.074932Z"
        },
        "trusted": true,
        "colab": {
          "base_uri": "https://localhost:8080/"
        },
        "id": "o_gkzAJqEd8N",
        "outputId": "b0c6e18b-a6e3-43cb-ac1b-229404898732"
      },
      "execution_count": 49,
      "outputs": [
        {
          "output_type": "stream",
          "name": "stderr",
          "text": [
            "/usr/local/lib/python3.7/dist-packages/sklearn/linear_model/_logistic.py:818: ConvergenceWarning: lbfgs failed to converge (status=1):\n",
            "STOP: TOTAL NO. of ITERATIONS REACHED LIMIT.\n",
            "\n",
            "Increase the number of iterations (max_iter) or scale the data as shown in:\n",
            "    https://scikit-learn.org/stable/modules/preprocessing.html\n",
            "Please also refer to the documentation for alternative solver options:\n",
            "    https://scikit-learn.org/stable/modules/linear_model.html#logistic-regression\n",
            "  extra_warning_msg=_LOGISTIC_SOLVER_CONVERGENCE_MSG,\n"
          ]
        },
        {
          "output_type": "execute_result",
          "data": {
            "text/plain": [
              "Pipeline(steps=[('bow', CountVectorizer(stop_words='english')),\n",
              "                ('tfidf', TfidfTransformer()),\n",
              "                ('classifier', LogisticRegression())])"
            ]
          },
          "metadata": {},
          "execution_count": 49
        }
      ]
    },
    {
      "cell_type": "code",
      "source": [
        "predictions2=pipeline.predict(X_test.apply(lambda x: np.str_(x)))"
      ],
      "metadata": {
        "execution": {
          "iopub.status.busy": "2022-08-23T09:22:41.085278Z",
          "iopub.execute_input": "2022-08-23T09:22:41.090570Z",
          "iopub.status.idle": "2022-08-23T09:22:42.710454Z",
          "shell.execute_reply.started": "2022-08-23T09:22:41.090404Z",
          "shell.execute_reply": "2022-08-23T09:22:42.709449Z"
        },
        "trusted": true,
        "id": "A8CAHGLNEd8N"
      },
      "execution_count": 50,
      "outputs": []
    },
    {
      "cell_type": "code",
      "source": [
        "print(accuracy_score(y_test,predictions2))\n",
        "print(classification_report(y_test,predictions2))\n",
        "print(confusion_matrix(y_test,predictions2))"
      ],
      "metadata": {
        "execution": {
          "iopub.status.busy": "2022-08-23T09:22:50.015104Z",
          "iopub.execute_input": "2022-08-23T09:22:50.016282Z",
          "iopub.status.idle": "2022-08-23T09:22:50.198261Z",
          "shell.execute_reply.started": "2022-08-23T09:22:50.016233Z",
          "shell.execute_reply": "2022-08-23T09:22:50.197112Z"
        },
        "trusted": true,
        "colab": {
          "base_uri": "https://localhost:8080/"
        },
        "id": "clpt4bMMEd8N",
        "outputId": "42780194-48c3-4528-cb8e-9520107a08fa"
      },
      "execution_count": 51,
      "outputs": [
        {
          "output_type": "stream",
          "name": "stdout",
          "text": [
            "0.7269713341668155\n",
            "              precision    recall  f1-score   support\n",
            "\n",
            "           0       0.72      0.75      0.73     44849\n",
            "           1       0.74      0.71      0.72     44735\n",
            "\n",
            "    accuracy                           0.73     89584\n",
            "   macro avg       0.73      0.73      0.73     89584\n",
            "weighted avg       0.73      0.73      0.73     89584\n",
            "\n",
            "[[33574 11275]\n",
            " [13184 31551]]\n"
          ]
        }
      ]
    },
    {
      "cell_type": "code",
      "source": [
        "import tensorflow as tf\n",
        "import tensorflow_hub as hub\n",
        "import tensorflow_text as text"
      ],
      "metadata": {
        "colab": {
          "base_uri": "https://localhost:8080/",
          "height": 357
        },
        "id": "cqiaVyuvbn7k",
        "outputId": "03d5b2f6-5d72-43d7-cbe9-f9d936771013"
      },
      "execution_count": 65,
      "outputs": [
        {
          "output_type": "error",
          "ename": "NotFoundError",
          "evalue": "ignored",
          "traceback": [
            "\u001b[0;31m---------------------------------------------------------------------------\u001b[0m",
            "\u001b[0;31mNotFoundError\u001b[0m                             Traceback (most recent call last)",
            "\u001b[0;32m<ipython-input-65-ede191a11844>\u001b[0m in \u001b[0;36m<module>\u001b[0;34m\u001b[0m\n\u001b[1;32m      1\u001b[0m \u001b[0;32mimport\u001b[0m \u001b[0mtensorflow\u001b[0m \u001b[0;32mas\u001b[0m \u001b[0mtf\u001b[0m\u001b[0;34m\u001b[0m\u001b[0;34m\u001b[0m\u001b[0m\n\u001b[1;32m      2\u001b[0m \u001b[0;32mimport\u001b[0m \u001b[0mtensorflow_hub\u001b[0m \u001b[0;32mas\u001b[0m \u001b[0mhub\u001b[0m\u001b[0;34m\u001b[0m\u001b[0;34m\u001b[0m\u001b[0m\n\u001b[0;32m----> 3\u001b[0;31m \u001b[0;32mimport\u001b[0m \u001b[0mtensorflow_text\u001b[0m \u001b[0;32mas\u001b[0m \u001b[0mtext\u001b[0m\u001b[0;34m\u001b[0m\u001b[0;34m\u001b[0m\u001b[0m\n\u001b[0m",
            "\u001b[0;32m/usr/local/lib/python3.7/dist-packages/tensorflow_text/__init__.py\u001b[0m in \u001b[0;36m<module>\u001b[0;34m\u001b[0m\n\u001b[1;32m     19\u001b[0m \u001b[0;31m# pylint: disable=wildcard-import\u001b[0m\u001b[0;34m\u001b[0m\u001b[0;34m\u001b[0m\u001b[0;34m\u001b[0m\u001b[0m\n\u001b[1;32m     20\u001b[0m \u001b[0;32mfrom\u001b[0m \u001b[0mtensorflow_text\u001b[0m\u001b[0;34m.\u001b[0m\u001b[0mpython\u001b[0m \u001b[0;32mimport\u001b[0m \u001b[0mkeras\u001b[0m\u001b[0;34m\u001b[0m\u001b[0;34m\u001b[0m\u001b[0m\n\u001b[0;32m---> 21\u001b[0;31m \u001b[0;32mfrom\u001b[0m \u001b[0mtensorflow_text\u001b[0m\u001b[0;34m.\u001b[0m\u001b[0mpython\u001b[0m \u001b[0;32mimport\u001b[0m \u001b[0mmetrics\u001b[0m\u001b[0;34m\u001b[0m\u001b[0;34m\u001b[0m\u001b[0m\n\u001b[0m\u001b[1;32m     22\u001b[0m \u001b[0;32mfrom\u001b[0m \u001b[0mtensorflow_text\u001b[0m\u001b[0;34m.\u001b[0m\u001b[0mpython\u001b[0m\u001b[0;34m.\u001b[0m\u001b[0mops\u001b[0m \u001b[0;32mimport\u001b[0m \u001b[0;34m*\u001b[0m\u001b[0;34m\u001b[0m\u001b[0;34m\u001b[0m\u001b[0m\n\u001b[1;32m     23\u001b[0m \u001b[0;34m\u001b[0m\u001b[0m\n",
            "\u001b[0;32m/usr/local/lib/python3.7/dist-packages/tensorflow_text/python/metrics/__init__.py\u001b[0m in \u001b[0;36m<module>\u001b[0;34m\u001b[0m\n\u001b[1;32m     18\u001b[0m \u001b[0;34m\u001b[0m\u001b[0m\n\u001b[1;32m     19\u001b[0m \u001b[0;31m# pylint: disable=wildcard-import\u001b[0m\u001b[0;34m\u001b[0m\u001b[0;34m\u001b[0m\u001b[0;34m\u001b[0m\u001b[0m\n\u001b[0;32m---> 20\u001b[0;31m \u001b[0;32mfrom\u001b[0m \u001b[0mtensorflow_text\u001b[0m\u001b[0;34m.\u001b[0m\u001b[0mpython\u001b[0m\u001b[0;34m.\u001b[0m\u001b[0mmetrics\u001b[0m\u001b[0;34m.\u001b[0m\u001b[0mtext_similarity_metric_ops\u001b[0m \u001b[0;32mimport\u001b[0m \u001b[0;34m*\u001b[0m\u001b[0;34m\u001b[0m\u001b[0;34m\u001b[0m\u001b[0m\n\u001b[0m\u001b[1;32m     21\u001b[0m \u001b[0;34m\u001b[0m\u001b[0m\n\u001b[1;32m     22\u001b[0m \u001b[0;31m# Public symbols in the \"tensorflow_text.metrics\" package.\u001b[0m\u001b[0;34m\u001b[0m\u001b[0;34m\u001b[0m\u001b[0;34m\u001b[0m\u001b[0m\n",
            "\u001b[0;32m/usr/local/lib/python3.7/dist-packages/tensorflow_text/python/metrics/text_similarity_metric_ops.py\u001b[0m in \u001b[0;36m<module>\u001b[0;34m\u001b[0m\n\u001b[1;32m     26\u001b[0m \u001b[0;32mfrom\u001b[0m \u001b[0mtensorflow\u001b[0m\u001b[0;34m.\u001b[0m\u001b[0mpython\u001b[0m\u001b[0;34m.\u001b[0m\u001b[0mframework\u001b[0m \u001b[0;32mimport\u001b[0m \u001b[0mload_library\u001b[0m\u001b[0;34m\u001b[0m\u001b[0;34m\u001b[0m\u001b[0m\n\u001b[1;32m     27\u001b[0m \u001b[0;32mfrom\u001b[0m \u001b[0mtensorflow\u001b[0m\u001b[0;34m.\u001b[0m\u001b[0mpython\u001b[0m\u001b[0;34m.\u001b[0m\u001b[0mplatform\u001b[0m \u001b[0;32mimport\u001b[0m \u001b[0mresource_loader\u001b[0m\u001b[0;34m\u001b[0m\u001b[0;34m\u001b[0m\u001b[0m\n\u001b[0;32m---> 28\u001b[0;31m \u001b[0mgen_text_similarity_metric_ops\u001b[0m \u001b[0;34m=\u001b[0m \u001b[0mload_library\u001b[0m\u001b[0;34m.\u001b[0m\u001b[0mload_op_library\u001b[0m\u001b[0;34m(\u001b[0m\u001b[0mresource_loader\u001b[0m\u001b[0;34m.\u001b[0m\u001b[0mget_path_to_datafile\u001b[0m\u001b[0;34m(\u001b[0m\u001b[0;34m'_text_similarity_metric_ops.so'\u001b[0m\u001b[0;34m)\u001b[0m\u001b[0;34m)\u001b[0m\u001b[0;34m\u001b[0m\u001b[0;34m\u001b[0m\u001b[0m\n\u001b[0m\u001b[1;32m     29\u001b[0m \u001b[0;34m\u001b[0m\u001b[0m\n\u001b[1;32m     30\u001b[0m \u001b[0;34m\u001b[0m\u001b[0m\n",
            "\u001b[0;32m/usr/local/lib/python3.7/dist-packages/tensorflow/python/framework/load_library.py\u001b[0m in \u001b[0;36mload_op_library\u001b[0;34m(library_filename)\u001b[0m\n\u001b[1;32m     52\u001b[0m     \u001b[0mthe\u001b[0m \u001b[0mplugin\u001b[0m\u001b[0;34m.\u001b[0m\u001b[0;34m\u001b[0m\u001b[0;34m\u001b[0m\u001b[0m\n\u001b[1;32m     53\u001b[0m \u001b[0;34m\u001b[0m\u001b[0m\n\u001b[0;32m---> 54\u001b[0;31m   \u001b[0mRaises\u001b[0m\u001b[0;34m:\u001b[0m\u001b[0;34m\u001b[0m\u001b[0;34m\u001b[0m\u001b[0m\n\u001b[0m\u001b[1;32m     55\u001b[0m     \u001b[0mRuntimeError\u001b[0m\u001b[0;34m:\u001b[0m \u001b[0mwhen\u001b[0m \u001b[0munable\u001b[0m \u001b[0mto\u001b[0m \u001b[0mload\u001b[0m \u001b[0mthe\u001b[0m \u001b[0mlibrary\u001b[0m \u001b[0;32mor\u001b[0m \u001b[0mget\u001b[0m \u001b[0mthe\u001b[0m \u001b[0mpython\u001b[0m \u001b[0mwrappers\u001b[0m\u001b[0;34m.\u001b[0m\u001b[0;34m\u001b[0m\u001b[0;34m\u001b[0m\u001b[0m\n\u001b[1;32m     56\u001b[0m   \"\"\"\n",
            "\u001b[0;31mNotFoundError\u001b[0m: /usr/local/lib/python3.7/dist-packages/tensorflow_text/python/metrics/_text_similarity_metric_ops.so: undefined symbol: _ZNK10tensorflow11TensorShape16CheckDimsAtLeastEi"
          ]
        }
      ]
    },
    {
      "cell_type": "code",
      "source": [
        ""
      ],
      "metadata": {
        "id": "ApANVuC_boi5"
      },
      "execution_count": null,
      "outputs": []
    },
    {
      "cell_type": "code",
      "source": [
        ""
      ],
      "metadata": {
        "id": "ibX41C5nbosz"
      },
      "execution_count": null,
      "outputs": []
    },
    {
      "cell_type": "code",
      "source": [
        ""
      ],
      "metadata": {
        "id": "6PKwo8Upbo1B"
      },
      "execution_count": null,
      "outputs": []
    },
    {
      "cell_type": "code",
      "source": [
        ""
      ],
      "metadata": {
        "id": "FG_B1loPbo4K"
      },
      "execution_count": null,
      "outputs": []
    },
    {
      "cell_type": "code",
      "source": [
        ""
      ],
      "metadata": {
        "id": "QC6vx_Ribo7v"
      },
      "execution_count": null,
      "outputs": []
    },
    {
      "cell_type": "code",
      "source": [
        ""
      ],
      "metadata": {
        "id": "wH_s-lYGbo_A"
      },
      "execution_count": null,
      "outputs": []
    },
    {
      "cell_type": "code",
      "source": [
        ""
      ],
      "metadata": {
        "id": "0x8IS3uxbpBz"
      },
      "execution_count": null,
      "outputs": []
    },
    {
      "cell_type": "code",
      "source": [
        "def clean_text(text): \n",
        "    delete_dict = {sp_character: '' for sp_character in string.punctuation} \n",
        "    delete_dict[' '] = ' ' \n",
        "    table = str.maketrans(delete_dict)\n",
        "    text1 = text.translate(table)\n",
        "    #print('cleaned:'+text1)\n",
        "    textArr= text1.split()\n",
        "    text2 = ' '.join([w for w in textArr if ( not w.isdigit() and  ( not w.isdigit() and len(w)>3))]) \n",
        "    \n",
        "    return text2.lower()"
      ],
      "metadata": {
        "execution": {
          "iopub.status.busy": "2022-08-23T09:22:51.611620Z",
          "iopub.execute_input": "2022-08-23T09:22:51.612473Z",
          "iopub.status.idle": "2022-08-23T09:22:51.621557Z",
          "shell.execute_reply.started": "2022-08-23T09:22:51.612437Z",
          "shell.execute_reply": "2022-08-23T09:22:51.618251Z"
        },
        "trusted": true,
        "id": "bct2pchOEd8N"
      },
      "execution_count": 52,
      "outputs": []
    },
    {
      "cell_type": "code",
      "source": [
        "import nltk\n",
        "nltk.download('stopwords') # run this one time"
      ],
      "metadata": {
        "execution": {
          "iopub.status.busy": "2022-08-23T09:22:54.735257Z",
          "iopub.execute_input": "2022-08-23T09:22:54.735904Z",
          "iopub.status.idle": "2022-08-23T09:22:54.891207Z",
          "shell.execute_reply.started": "2022-08-23T09:22:54.735867Z",
          "shell.execute_reply": "2022-08-23T09:22:54.889964Z"
        },
        "trusted": true,
        "colab": {
          "base_uri": "https://localhost:8080/"
        },
        "id": "GEstbewIEd8O",
        "outputId": "94b5c246-9294-4dda-f5f2-d2b6cea65e81"
      },
      "execution_count": 53,
      "outputs": [
        {
          "output_type": "stream",
          "name": "stderr",
          "text": [
            "[nltk_data] Downloading package stopwords to /root/nltk_data...\n",
            "[nltk_data]   Package stopwords is already up-to-date!\n"
          ]
        },
        {
          "output_type": "execute_result",
          "data": {
            "text/plain": [
              "True"
            ]
          },
          "metadata": {},
          "execution_count": 53
        }
      ]
    },
    {
      "cell_type": "code",
      "source": [
        "df_balanced['question1']"
      ],
      "metadata": {
        "execution": {
          "iopub.status.busy": "2022-08-23T09:22:56.376385Z",
          "iopub.execute_input": "2022-08-23T09:22:56.377036Z",
          "iopub.status.idle": "2022-08-23T09:22:56.385326Z",
          "shell.execute_reply.started": "2022-08-23T09:22:56.377001Z",
          "shell.execute_reply": "2022-08-23T09:22:56.384128Z"
        },
        "trusted": true,
        "colab": {
          "base_uri": "https://localhost:8080/"
        },
        "id": "sFL8zpz8Ed8O",
        "outputId": "4c6e4b15-fa30-4013-9d97-7df7d5b7edc8"
      },
      "execution_count": 54,
      "outputs": [
        {
          "output_type": "execute_result",
          "data": {
            "text/plain": [
              "33567     What is it like to attend a State of the Union...\n",
              "28769             Should I take a break from my girlfriend?\n",
              "32343     What brand makes the most durable/heavyduty ts...\n",
              "257660    How do  you ask \"where do you live\" without se...\n",
              "387765            Why aren't most atheists scared of dying?\n",
              "                                ...                        \n",
              "404341    What are some outfit ideas to wear to a frat p...\n",
              "404342    Why is Manaphy childish in Pokémon Ranger and ...\n",
              "404343          How does a long distance relationship work?\n",
              "404345           What does Jainism say about homosexuality?\n",
              "404347            Do you believe there is life after death?\n",
              "Name: question1, Length: 298611, dtype: object"
            ]
          },
          "metadata": {},
          "execution_count": 54
        }
      ]
    },
    {
      "cell_type": "code",
      "source": [
        "df_balanced.dropna(axis = 0, how ='any',inplace=True) \n",
        "\n",
        "\n",
        "\n",
        "\n",
        "\n",
        "\n",
        "df_balanced['question1'] = df_balanced['question1'].apply(clean_text)\n",
        "df_balanced['question2'] = df_balanced['question2'].apply(clean_text)\n",
        "df_balanced['Num_words_text'] = df_balanced['question1'].apply(lambda x:len(str(x).split()))\n",
        "df_balanced['Num_words_text'] = df_balanced['question1'].apply(lambda x:len(str(x).split()))\n",
        "\n",
        "print('-------Dataset --------')\n",
        "print(df_balanced['is_duplicate'].value_counts())\n",
        "print(len(df_balanced))\n",
        "print('-------------------------')\n",
        "\n",
        "\n",
        "\n",
        "\n",
        "#all_sentences = train_data['text'].tolist() + test_data['text'].tolist()"
      ],
      "metadata": {
        "execution": {
          "iopub.status.busy": "2022-08-23T09:23:02.628041Z",
          "iopub.execute_input": "2022-08-23T09:23:02.628772Z",
          "iopub.status.idle": "2022-08-23T09:23:10.001678Z",
          "shell.execute_reply.started": "2022-08-23T09:23:02.628737Z",
          "shell.execute_reply": "2022-08-23T09:23:10.000591Z"
        },
        "trusted": true,
        "colab": {
          "base_uri": "https://localhost:8080/"
        },
        "id": "AJdtRvc3Ed8O",
        "outputId": "0e277fea-1446-49f1-c808-9d48b105caaf"
      },
      "execution_count": 55,
      "outputs": [
        {
          "output_type": "stream",
          "name": "stdout",
          "text": [
            "-------Dataset --------\n",
            "1    149306\n",
            "0    149304\n",
            "Name: is_duplicate, dtype: int64\n",
            "298610\n",
            "-------------------------\n"
          ]
        }
      ]
    },
    {
      "cell_type": "code",
      "source": [
        "from nltk.corpus import stopwords\n",
        "stop_words = stopwords.words('english')\n",
        "# function to remove stopwords\n",
        "def remove_stopwords(text):\n",
        "    textArr = text.split()\n",
        "    rem_text = \" \".join([i for i in textArr if i not in stop_words])\n",
        "    return rem_text\n",
        "\n",
        "# remove stopwords from the text\n",
        "df_balanced['question1']=df_balanced['question1'].apply(remove_stopwords)\n",
        "df_balanced['question2']=df_balanced['question2'].apply(remove_stopwords)"
      ],
      "metadata": {
        "execution": {
          "iopub.status.busy": "2022-08-23T09:23:26.943112Z",
          "iopub.execute_input": "2022-08-23T09:23:26.943700Z",
          "iopub.status.idle": "2022-08-23T09:23:34.949613Z",
          "shell.execute_reply.started": "2022-08-23T09:23:26.943661Z",
          "shell.execute_reply": "2022-08-23T09:23:34.948598Z"
        },
        "trusted": true,
        "id": "K-5Avo5wEd8O"
      },
      "execution_count": 56,
      "outputs": []
    },
    {
      "cell_type": "code",
      "source": [
        "df_balanced['question1'].head(10)"
      ],
      "metadata": {
        "execution": {
          "iopub.status.busy": "2022-08-23T09:23:59.190899Z",
          "iopub.execute_input": "2022-08-23T09:23:59.191545Z",
          "iopub.status.idle": "2022-08-23T09:23:59.199349Z",
          "shell.execute_reply.started": "2022-08-23T09:23:59.191507Z",
          "shell.execute_reply": "2022-08-23T09:23:59.198156Z"
        },
        "trusted": true,
        "colab": {
          "base_uri": "https://localhost:8080/"
        },
        "id": "HyyOHnCmEd8O",
        "outputId": "fb84e938-6528-41b2-b35b-8a6db8c9294d"
      },
      "execution_count": 57,
      "outputs": [
        {
          "output_type": "execute_result",
          "data": {
            "text/plain": [
              "33567             like attend state union address\n",
              "28769                       take break girlfriend\n",
              "32343         brand makes durableheavyduty tshirt\n",
              "257660                live without seeming creepy\n",
              "387765                arent atheists scared dying\n",
              "362969                           relativity space\n",
              "230331                               right mother\n",
              "110903            jews consider human even bother\n",
              "327807    meaning normal probability distribution\n",
              "246914                                movies like\n",
              "Name: question1, dtype: object"
            ]
          },
          "metadata": {},
          "execution_count": 57
        }
      ]
    },
    {
      "cell_type": "code",
      "source": [
        "!python -m spacy download en_core_web_md "
      ],
      "metadata": {
        "execution": {
          "iopub.status.busy": "2022-08-23T09:24:01.204492Z",
          "iopub.execute_input": "2022-08-23T09:24:01.205628Z",
          "iopub.status.idle": "2022-08-23T09:24:21.956714Z",
          "shell.execute_reply.started": "2022-08-23T09:24:01.205570Z",
          "shell.execute_reply": "2022-08-23T09:24:21.955419Z"
        },
        "trusted": true,
        "colab": {
          "base_uri": "https://localhost:8080/"
        },
        "id": "ZlPRrHmaEd8O",
        "outputId": "0abd0941-3ee9-44bc-89b8-9733f7877749"
      },
      "execution_count": 58,
      "outputs": [
        {
          "output_type": "stream",
          "name": "stdout",
          "text": [
            "2022-08-24 05:58:48.863573: E tensorflow/stream_executor/cuda/cuda_driver.cc:271] failed call to cuInit: CUDA_ERROR_NO_DEVICE: no CUDA-capable device is detected\n",
            "Looking in indexes: https://pypi.org/simple, https://us-python.pkg.dev/colab-wheels/public/simple/\n",
            "Collecting en-core-web-md==3.4.0\n",
            "  Downloading https://github.com/explosion/spacy-models/releases/download/en_core_web_md-3.4.0/en_core_web_md-3.4.0-py3-none-any.whl (42.8 MB)\n",
            "\u001b[K     |████████████████████████████████| 42.8 MB 1.3 MB/s \n",
            "\u001b[?25hRequirement already satisfied: spacy<3.5.0,>=3.4.0 in /usr/local/lib/python3.7/dist-packages (from en-core-web-md==3.4.0) (3.4.1)\n",
            "Requirement already satisfied: cymem<2.1.0,>=2.0.2 in /usr/local/lib/python3.7/dist-packages (from spacy<3.5.0,>=3.4.0->en-core-web-md==3.4.0) (2.0.6)\n",
            "Requirement already satisfied: tqdm<5.0.0,>=4.38.0 in /usr/local/lib/python3.7/dist-packages (from spacy<3.5.0,>=3.4.0->en-core-web-md==3.4.0) (4.64.0)\n",
            "Requirement already satisfied: pydantic!=1.8,!=1.8.1,<1.10.0,>=1.7.4 in /usr/local/lib/python3.7/dist-packages (from spacy<3.5.0,>=3.4.0->en-core-web-md==3.4.0) (1.9.2)\n",
            "Requirement already satisfied: thinc<8.2.0,>=8.1.0 in /usr/local/lib/python3.7/dist-packages (from spacy<3.5.0,>=3.4.0->en-core-web-md==3.4.0) (8.1.0)\n",
            "Requirement already satisfied: srsly<3.0.0,>=2.4.3 in /usr/local/lib/python3.7/dist-packages (from spacy<3.5.0,>=3.4.0->en-core-web-md==3.4.0) (2.4.4)\n",
            "Requirement already satisfied: preshed<3.1.0,>=3.0.2 in /usr/local/lib/python3.7/dist-packages (from spacy<3.5.0,>=3.4.0->en-core-web-md==3.4.0) (3.0.7)\n",
            "Requirement already satisfied: requests<3.0.0,>=2.13.0 in /usr/local/lib/python3.7/dist-packages (from spacy<3.5.0,>=3.4.0->en-core-web-md==3.4.0) (2.23.0)\n",
            "Requirement already satisfied: pathy>=0.3.5 in /usr/local/lib/python3.7/dist-packages (from spacy<3.5.0,>=3.4.0->en-core-web-md==3.4.0) (0.6.2)\n",
            "Requirement already satisfied: catalogue<2.1.0,>=2.0.6 in /usr/local/lib/python3.7/dist-packages (from spacy<3.5.0,>=3.4.0->en-core-web-md==3.4.0) (2.0.8)\n",
            "Requirement already satisfied: spacy-loggers<2.0.0,>=1.0.0 in /usr/local/lib/python3.7/dist-packages (from spacy<3.5.0,>=3.4.0->en-core-web-md==3.4.0) (1.0.3)\n",
            "Requirement already satisfied: typer<0.5.0,>=0.3.0 in /usr/local/lib/python3.7/dist-packages (from spacy<3.5.0,>=3.4.0->en-core-web-md==3.4.0) (0.4.2)\n",
            "Requirement already satisfied: numpy>=1.15.0 in /usr/local/lib/python3.7/dist-packages (from spacy<3.5.0,>=3.4.0->en-core-web-md==3.4.0) (1.21.6)\n",
            "Requirement already satisfied: setuptools in /usr/local/lib/python3.7/dist-packages (from spacy<3.5.0,>=3.4.0->en-core-web-md==3.4.0) (57.4.0)\n",
            "Requirement already satisfied: typing-extensions<4.2.0,>=3.7.4 in /usr/local/lib/python3.7/dist-packages (from spacy<3.5.0,>=3.4.0->en-core-web-md==3.4.0) (4.1.1)\n",
            "Requirement already satisfied: murmurhash<1.1.0,>=0.28.0 in /usr/local/lib/python3.7/dist-packages (from spacy<3.5.0,>=3.4.0->en-core-web-md==3.4.0) (1.0.8)\n",
            "Requirement already satisfied: packaging>=20.0 in /usr/local/lib/python3.7/dist-packages (from spacy<3.5.0,>=3.4.0->en-core-web-md==3.4.0) (21.3)\n",
            "Requirement already satisfied: jinja2 in /usr/local/lib/python3.7/dist-packages (from spacy<3.5.0,>=3.4.0->en-core-web-md==3.4.0) (2.11.3)\n",
            "Requirement already satisfied: wasabi<1.1.0,>=0.9.1 in /usr/local/lib/python3.7/dist-packages (from spacy<3.5.0,>=3.4.0->en-core-web-md==3.4.0) (0.10.1)\n",
            "Requirement already satisfied: spacy-legacy<3.1.0,>=3.0.9 in /usr/local/lib/python3.7/dist-packages (from spacy<3.5.0,>=3.4.0->en-core-web-md==3.4.0) (3.0.10)\n",
            "Requirement already satisfied: langcodes<4.0.0,>=3.2.0 in /usr/local/lib/python3.7/dist-packages (from spacy<3.5.0,>=3.4.0->en-core-web-md==3.4.0) (3.3.0)\n",
            "Requirement already satisfied: zipp>=0.5 in /usr/local/lib/python3.7/dist-packages (from catalogue<2.1.0,>=2.0.6->spacy<3.5.0,>=3.4.0->en-core-web-md==3.4.0) (3.8.1)\n",
            "Requirement already satisfied: pyparsing!=3.0.5,>=2.0.2 in /usr/local/lib/python3.7/dist-packages (from packaging>=20.0->spacy<3.5.0,>=3.4.0->en-core-web-md==3.4.0) (3.0.9)\n",
            "Requirement already satisfied: smart-open<6.0.0,>=5.2.1 in /usr/local/lib/python3.7/dist-packages (from pathy>=0.3.5->spacy<3.5.0,>=3.4.0->en-core-web-md==3.4.0) (5.2.1)\n",
            "Requirement already satisfied: chardet<4,>=3.0.2 in /usr/local/lib/python3.7/dist-packages (from requests<3.0.0,>=2.13.0->spacy<3.5.0,>=3.4.0->en-core-web-md==3.4.0) (3.0.4)\n",
            "Requirement already satisfied: certifi>=2017.4.17 in /usr/local/lib/python3.7/dist-packages (from requests<3.0.0,>=2.13.0->spacy<3.5.0,>=3.4.0->en-core-web-md==3.4.0) (2022.6.15)\n",
            "Requirement already satisfied: idna<3,>=2.5 in /usr/local/lib/python3.7/dist-packages (from requests<3.0.0,>=2.13.0->spacy<3.5.0,>=3.4.0->en-core-web-md==3.4.0) (2.10)\n",
            "Requirement already satisfied: urllib3!=1.25.0,!=1.25.1,<1.26,>=1.21.1 in /usr/local/lib/python3.7/dist-packages (from requests<3.0.0,>=2.13.0->spacy<3.5.0,>=3.4.0->en-core-web-md==3.4.0) (1.24.3)\n",
            "Requirement already satisfied: blis<0.8.0,>=0.7.8 in /usr/local/lib/python3.7/dist-packages (from thinc<8.2.0,>=8.1.0->spacy<3.5.0,>=3.4.0->en-core-web-md==3.4.0) (0.7.8)\n",
            "Requirement already satisfied: click<9.0.0,>=7.1.1 in /usr/local/lib/python3.7/dist-packages (from typer<0.5.0,>=0.3.0->spacy<3.5.0,>=3.4.0->en-core-web-md==3.4.0) (7.1.2)\n",
            "Requirement already satisfied: MarkupSafe>=0.23 in /usr/local/lib/python3.7/dist-packages (from jinja2->spacy<3.5.0,>=3.4.0->en-core-web-md==3.4.0) (2.0.1)\n",
            "\u001b[38;5;2m✔ Download and installation successful\u001b[0m\n",
            "You can now load the package via spacy.load('en_core_web_md')\n"
          ]
        }
      ]
    },
    {
      "cell_type": "code",
      "source": [
        "import spacy"
      ],
      "metadata": {
        "execution": {
          "iopub.status.busy": "2022-08-23T09:24:21.960429Z",
          "iopub.execute_input": "2022-08-23T09:24:21.960833Z",
          "iopub.status.idle": "2022-08-23T09:24:21.965938Z",
          "shell.execute_reply.started": "2022-08-23T09:24:21.960801Z",
          "shell.execute_reply": "2022-08-23T09:24:21.964773Z"
        },
        "trusted": true,
        "id": "rx58QhPAEd8O"
      },
      "execution_count": 67,
      "outputs": []
    },
    {
      "cell_type": "code",
      "source": [
        "nlp = spacy.load('en_core_web_sm')\n",
        "print(nlp)"
      ],
      "metadata": {
        "execution": {
          "iopub.status.busy": "2022-08-23T09:24:22.108388Z",
          "iopub.execute_input": "2022-08-23T09:24:22.108657Z",
          "iopub.status.idle": "2022-08-23T09:24:22.670872Z",
          "shell.execute_reply.started": "2022-08-23T09:24:22.108632Z",
          "shell.execute_reply": "2022-08-23T09:24:22.669552Z"
        },
        "trusted": true,
        "colab": {
          "base_uri": "https://localhost:8080/"
        },
        "id": "eGyXcXkvEd8O",
        "outputId": "7132cb74-b263-4174-d2b4-feb80f364dba"
      },
      "execution_count": 68,
      "outputs": [
        {
          "output_type": "stream",
          "name": "stdout",
          "text": [
            "<spacy.lang.en.English object at 0x7ff3e71d8a50>\n"
          ]
        }
      ]
    },
    {
      "cell_type": "code",
      "source": [
        "nlp = spacy.load('en_core_web_md', disable=['parser', 'ner'])\n",
        "\n",
        "def lemmatization(texts,allowed_postags=['NOUN', 'ADJ']): \n",
        "       output = []\n",
        "       for sent in texts:\n",
        "             doc = nlp(sent) \n",
        "             output.append([token.lemma_ for token in doc if token.pos_ in allowed_postags ])\n",
        "       return output"
      ],
      "metadata": {
        "execution": {
          "iopub.status.busy": "2022-08-23T09:24:38.608360Z",
          "iopub.execute_input": "2022-08-23T09:24:38.609066Z",
          "iopub.status.idle": "2022-08-23T09:24:39.994154Z",
          "shell.execute_reply.started": "2022-08-23T09:24:38.609028Z",
          "shell.execute_reply": "2022-08-23T09:24:39.993165Z"
        },
        "trusted": true,
        "id": "QxFzo1OSEd8O"
      },
      "execution_count": 69,
      "outputs": []
    },
    {
      "cell_type": "code",
      "source": [
        "ques_list1=df_balanced['question1'].tolist()\n",
        "ques_list2=df_balanced['question2'].tolist()\n",
        "print(ques_list1[1])\n",
        "\n",
        "tokenized_questions1 = lemmatization(ques_list1)\n",
        "\n",
        "print(tokenized_questions1[1])\n"
      ],
      "metadata": {
        "trusted": true,
        "colab": {
          "base_uri": "https://localhost:8080/"
        },
        "id": "UVRxLh3ZEd8P",
        "outputId": "81f6d804-f2cb-4ffb-ab6b-beaf92144fb2"
      },
      "execution_count": 70,
      "outputs": [
        {
          "output_type": "stream",
          "name": "stdout",
          "text": [
            "take break girlfriend\n",
            "['break', 'girlfriend']\n"
          ]
        }
      ]
    },
    {
      "cell_type": "code",
      "source": [
        "print(ques_list2[1])\n",
        "\n",
        "tokenized_questions2 = lemmatization(ques_list2)\n",
        "\n",
        "print(tokenized_questions2[1])"
      ],
      "metadata": {
        "colab": {
          "base_uri": "https://localhost:8080/"
        },
        "id": "2TGRLRA2IPfE",
        "outputId": "11e81522-b507-4c37-95f4-c86ec6a19ced"
      },
      "execution_count": 71,
      "outputs": [
        {
          "output_type": "stream",
          "name": "stdout",
          "text": [
            "break girlfriend\n",
            "['girlfriend']\n"
          ]
        }
      ]
    },
    {
      "cell_type": "code",
      "source": [
        "tokenized_ques_list = tokenized_questions1 + tokenized_questions2"
      ],
      "metadata": {
        "trusted": true,
        "id": "Mg03U3k1Ed8P"
      },
      "execution_count": 72,
      "outputs": []
    },
    {
      "cell_type": "code",
      "source": [
        "tokenized_ques_list[0:7]"
      ],
      "metadata": {
        "trusted": true,
        "colab": {
          "base_uri": "https://localhost:8080/"
        },
        "id": "BT-oacVFEd8P",
        "outputId": "b513309e-46d5-4175-942c-93d41f3a3df6"
      },
      "execution_count": 73,
      "outputs": [
        {
          "output_type": "execute_result",
          "data": {
            "text/plain": [
              "[['state', 'union', 'address'],\n",
              " ['break', 'girlfriend'],\n",
              " ['brand', 'durableheavyduty', 'tshirt'],\n",
              " ['creepy'],\n",
              " ['atheist'],\n",
              " ['relativity', 'space'],\n",
              " ['right', 'mother']]"
            ]
          },
          "metadata": {},
          "execution_count": 73
        }
      ]
    },
    {
      "cell_type": "code",
      "source": [
        "len(tokenized_ques_list)"
      ],
      "metadata": {
        "trusted": true,
        "colab": {
          "base_uri": "https://localhost:8080/"
        },
        "id": "0rK4nPl7Ed8P",
        "outputId": "bc893104-77f1-45cf-a49d-87cec6adf836"
      },
      "execution_count": 74,
      "outputs": [
        {
          "output_type": "execute_result",
          "data": {
            "text/plain": [
              "597220"
            ]
          },
          "metadata": {},
          "execution_count": 74
        }
      ]
    },
    {
      "cell_type": "code",
      "source": [
        "type(tokenized_ques_list)"
      ],
      "metadata": {
        "trusted": true,
        "colab": {
          "base_uri": "https://localhost:8080/"
        },
        "id": "4a8QjsQaEd8P",
        "outputId": "57a38910-f208-48a6-e1c0-4021b4ee766b"
      },
      "execution_count": 75,
      "outputs": [
        {
          "output_type": "execute_result",
          "data": {
            "text/plain": [
              "list"
            ]
          },
          "metadata": {},
          "execution_count": 75
        }
      ]
    },
    {
      "cell_type": "code",
      "source": [
        "dictionary = corpora.Dictionary(tokenized_ques_list)\n",
        "doc_term_matrix = [dictionary.doc2bow(ques) for ques in tokenized_ques_list]"
      ],
      "metadata": {
        "trusted": true,
        "id": "W7MIM35wEd8P"
      },
      "execution_count": 76,
      "outputs": []
    },
    {
      "cell_type": "code",
      "source": [
        "import warnings\n",
        "warnings.filterwarnings(\"ignore\", category=DeprecationWarning) "
      ],
      "metadata": {
        "id": "V2EdTLKcWkFT"
      },
      "execution_count": 77,
      "outputs": []
    },
    {
      "cell_type": "code",
      "source": [
        "LDA = gensim.models.ldamodel.LdaModel\n",
        "\n",
        "# Build LDA model\n",
        "lda_model = LDA(corpus=doc_term_matrix, id2word=dictionary, num_topics=10, random_state=100,\n",
        "                chunksize=1000, passes=50,iterations=100)"
      ],
      "metadata": {
        "trusted": true,
        "id": "iuZzcpAyEd8P"
      },
      "execution_count": 78,
      "outputs": []
    },
    {
      "cell_type": "code",
      "source": [
        "lda_model.print_topics()"
      ],
      "metadata": {
        "colab": {
          "base_uri": "https://localhost:8080/"
        },
        "id": "iFDoJoXFEd8P",
        "outputId": "249aca89-5d9a-464b-ae8b-bf846e43c053"
      },
      "execution_count": 83,
      "outputs": [
        {
          "output_type": "execute_result",
          "data": {
            "text/plain": [
              "[(0,\n",
              "  '0.055*\"possible\" + 0.034*\"work\" + 0.029*\"computer\" + 0.026*\"easy\" + 0.022*\"much\" + 0.020*\"science\" + 0.019*\"purpose\" + 0.018*\"mobile\" + 0.016*\"next\" + 0.016*\"travel\"'),\n",
              " (1,\n",
              "  '0.072*\"good\" + 0.043*\"rupee\" + 0.034*\"phone\" + 0.034*\"indian\" + 0.028*\"engineering\" + 0.026*\"love\" + 0.022*\"earth\" + 0.020*\"company\" + 0.019*\"decision\" + 0.016*\"day\"'),\n",
              " (2,\n",
              "  '0.105*\"time\" + 0.039*\"effect\" + 0.031*\"free\" + 0.030*\"long\" + 0.028*\"friend\" + 0.025*\"exam\" + 0.024*\"email\" + 0.023*\"video\" + 0.023*\"great\" + 0.022*\"game\"'),\n",
              " (3,\n",
              "  '0.049*\"girl\" + 0.045*\"number\" + 0.042*\"example\" + 0.038*\"government\" + 0.034*\"laptop\" + 0.025*\"college\" + 0.025*\"traffic\" + 0.022*\"service\" + 0.019*\"height\" + 0.015*\"available\"'),\n",
              " (4,\n",
              "  '0.074*\"difference\" + 0.048*\"black\" + 0.029*\"energy\" + 0.022*\"iphone\" + 0.019*\"true\" + 0.018*\"earthquake\" + 0.016*\"temperature\" + 0.016*\"software\" + 0.015*\"suicide\" + 0.013*\"problem\"'),\n",
              " (5,\n",
              "  '0.104*\"quora\" + 0.074*\"question\" + 0.053*\"weight\" + 0.028*\"election\" + 0.025*\"account\" + 0.023*\"system\" + 0.023*\"answer\" + 0.020*\"skill\" + 0.017*\"human\" + 0.017*\"relationship\"'),\n",
              " (6,\n",
              "  '0.116*\"life\" + 0.063*\"year\" + 0.031*\"person\" + 0.030*\"student\" + 0.027*\"password\" + 0.025*\"real\" + 0.020*\"reason\" + 0.019*\"school\" + 0.018*\"improvement\" + 0.014*\"card\"'),\n",
              " (7,\n",
              "  '0.276*\"good\" + 0.052*\"note\" + 0.045*\"book\" + 0.041*\"thing\" + 0.039*\"movie\" + 0.032*\"way\" + 0.029*\"language\" + 0.023*\"programming\" + 0.019*\"place\" + 0.016*\"first\"'),\n",
              " (8,\n",
              "  '0.110*\"money\" + 0.036*\"website\" + 0.026*\"well\" + 0.023*\"favorite\" + 0.023*\"president\" + 0.023*\"online\" + 0.021*\"trump\" + 0.020*\"idea\" + 0.017*\"average\" + 0.016*\"battle\"'),\n",
              " (9,\n",
              "  '0.146*\"people\" + 0.057*\"world\" + 0.041*\"many\" + 0.035*\"country\" + 0.026*\"woman\" + 0.024*\"important\" + 0.019*\"study\" + 0.019*\"marketing\" + 0.018*\"different\" + 0.018*\"economy\"')]"
            ]
          },
          "metadata": {},
          "execution_count": 83
        }
      ]
    },
    {
      "cell_type": "code",
      "source": [
        "!pip install pyLDAvis\n",
        "\n",
        "import pyLDAvis\n",
        "import pyLDAvis.gensim_models\n",
        "\n"
      ],
      "metadata": {
        "colab": {
          "base_uri": "https://localhost:8080/"
        },
        "id": "JlpMzgksfUGe",
        "outputId": "3d794c36-1f1f-40bb-f716-b9155a0845f5"
      },
      "execution_count": 76,
      "outputs": [
        {
          "output_type": "stream",
          "name": "stdout",
          "text": [
            "Looking in indexes: https://pypi.org/simple, https://us-python.pkg.dev/colab-wheels/public/simple/\n",
            "Requirement already satisfied: pyLDAvis in /usr/local/lib/python3.7/dist-packages (3.3.1)\n",
            "Requirement already satisfied: sklearn in /usr/local/lib/python3.7/dist-packages (from pyLDAvis) (0.0)\n",
            "Requirement already satisfied: joblib in /usr/local/lib/python3.7/dist-packages (from pyLDAvis) (1.1.0)\n",
            "Requirement already satisfied: numpy>=1.20.0 in /usr/local/lib/python3.7/dist-packages (from pyLDAvis) (1.21.6)\n",
            "Requirement already satisfied: future in /usr/local/lib/python3.7/dist-packages (from pyLDAvis) (0.16.0)\n",
            "Requirement already satisfied: gensim in /usr/local/lib/python3.7/dist-packages (from pyLDAvis) (3.6.0)\n",
            "Requirement already satisfied: setuptools in /usr/local/lib/python3.7/dist-packages (from pyLDAvis) (57.4.0)\n",
            "Requirement already satisfied: pandas>=1.2.0 in /usr/local/lib/python3.7/dist-packages (from pyLDAvis) (1.3.5)\n",
            "Requirement already satisfied: scipy in /usr/local/lib/python3.7/dist-packages (from pyLDAvis) (1.7.3)\n",
            "Requirement already satisfied: funcy in /usr/local/lib/python3.7/dist-packages (from pyLDAvis) (1.17)\n",
            "Requirement already satisfied: numexpr in /usr/local/lib/python3.7/dist-packages (from pyLDAvis) (2.8.3)\n",
            "Requirement already satisfied: scikit-learn in /usr/local/lib/python3.7/dist-packages (from pyLDAvis) (1.0.2)\n",
            "Requirement already satisfied: jinja2 in /usr/local/lib/python3.7/dist-packages (from pyLDAvis) (2.11.3)\n",
            "Requirement already satisfied: pytz>=2017.3 in /usr/local/lib/python3.7/dist-packages (from pandas>=1.2.0->pyLDAvis) (2022.2.1)\n",
            "Requirement already satisfied: python-dateutil>=2.7.3 in /usr/local/lib/python3.7/dist-packages (from pandas>=1.2.0->pyLDAvis) (2.8.2)\n",
            "Requirement already satisfied: six>=1.5 in /usr/local/lib/python3.7/dist-packages (from python-dateutil>=2.7.3->pandas>=1.2.0->pyLDAvis) (1.15.0)\n",
            "Requirement already satisfied: smart-open>=1.2.1 in /usr/local/lib/python3.7/dist-packages (from gensim->pyLDAvis) (5.2.1)\n",
            "Requirement already satisfied: MarkupSafe>=0.23 in /usr/local/lib/python3.7/dist-packages (from jinja2->pyLDAvis) (2.0.1)\n",
            "Requirement already satisfied: packaging in /usr/local/lib/python3.7/dist-packages (from numexpr->pyLDAvis) (21.3)\n",
            "Requirement already satisfied: pyparsing!=3.0.5,>=2.0.2 in /usr/local/lib/python3.7/dist-packages (from packaging->numexpr->pyLDAvis) (3.0.9)\n",
            "Requirement already satisfied: threadpoolctl>=2.0.0 in /usr/local/lib/python3.7/dist-packages (from scikit-learn->pyLDAvis) (3.1.0)\n"
          ]
        }
      ]
    },
    {
      "cell_type": "code",
      "source": [
        " import pyLDAvis.gensim_models"
      ],
      "metadata": {
        "id": "hxeGMDHxKSPn"
      },
      "execution_count": 84,
      "outputs": []
    },
    {
      "cell_type": "code",
      "source": [
        "import pyLDAvis.gensim_models\n",
        "vis = pyLDAvis.gensim_models.prepare(lda_model, doc_term_matrix, dictionary)\n",
        "vis"
      ],
      "metadata": {
        "colab": {
          "base_uri": "https://localhost:8080/",
          "height": 915
        },
        "id": "2FokFvrVK3ti",
        "outputId": "033390bf-9c1c-4b8c-bb5a-131bb8b2438a"
      },
      "execution_count": 89,
      "outputs": [
        {
          "output_type": "stream",
          "name": "stderr",
          "text": [
            "/usr/local/lib/python3.7/dist-packages/pyLDAvis/_prepare.py:247: FutureWarning: In a future version of pandas all arguments of DataFrame.drop except for the argument 'labels' will be keyword-only\n",
            "  return pd.DataFrame({'Term': vocab[term_ix], \\\n"
          ]
        },
        {
          "output_type": "execute_result",
          "data": {
            "text/plain": [
              "PreparedData(topic_coordinates=              x         y  topics  cluster       Freq\n",
              "topic                                                \n",
              "7      0.339559 -0.014767       1        1  13.259833\n",
              "1      0.322780 -0.008792       2        1  10.511438\n",
              "9     -0.079607  0.196932       3        1  10.483610\n",
              "8     -0.098650 -0.267929       4        1  10.181945\n",
              "5     -0.088216 -0.263439       5        1  10.057687\n",
              "6     -0.073418  0.087102       6        1   9.805369\n",
              "4     -0.075975  0.108674       7        1   9.384387\n",
              "0     -0.092360 -0.068288       8        1   9.072682\n",
              "2     -0.075692  0.102357       9        1   8.775181\n",
              "3     -0.078422  0.128149      10        1   8.467869, topic_info=           Term          Freq         Total Category  logprob  loglift\n",
              "26         good  73810.000000  73810.000000  Default  30.0000  30.0000\n",
              "173      people  25534.000000  25534.000000  Default  29.0000  29.0000\n",
              "591        life  18969.000000  18969.000000  Default  28.0000  28.0000\n",
              "256       money  18677.000000  18677.000000  Default  27.0000  27.0000\n",
              "20        quora  17532.000000  17532.000000  Default  26.0000  26.0000\n",
              "..          ...           ...           ...      ...      ...      ...\n",
              "741      device    918.640204    919.664067  Topic10  -5.0372   2.4678\n",
              "567        drug    912.239189    913.263094  Topic10  -5.0442   2.4678\n",
              "748  programmer    860.249740    861.273603  Topic10  -5.1029   2.4677\n",
              "566      center    860.075642    861.099503  Topic10  -5.1031   2.4677\n",
              "495        bike    857.516436    858.540300  Topic10  -5.1061   2.4677\n",
              "\n",
              "[338 rows x 6 columns], token_table=      Topic      Freq       Term\n",
              "term                            \n",
              "187       5  0.999807    account\n",
              "1714      7  0.999172      actor\n",
              "4426      3  0.999044  addiction\n",
              "757       3  0.999121     animal\n",
              "940       5  0.999624     answer\n",
              "...     ...       ...        ...\n",
              "1896      1  0.999506     writer\n",
              "1660      5  0.999475    writing\n",
              "836       7  0.999448      wrong\n",
              "42        6  0.999913       year\n",
              "481       9  0.999149    youtube\n",
              "\n",
              "[310 rows x 3 columns], R=30, lambda_step=0.01, plot_opts={'xlab': 'PC1', 'ylab': 'PC2'}, topic_order=[8, 2, 10, 9, 6, 7, 5, 1, 3, 4])"
            ],
            "text/html": [
              "\n",
              "<link rel=\"stylesheet\" type=\"text/css\" href=\"https://cdn.jsdelivr.net/gh/bmabey/pyLDAvis@3.3.1/pyLDAvis/js/ldavis.v1.0.0.css\">\n",
              "\n",
              "\n",
              "<div id=\"ldavis_el5391406849220412962557654276\"></div>\n",
              "<script type=\"text/javascript\">\n",
              "\n",
              "var ldavis_el5391406849220412962557654276_data = {\"mdsDat\": {\"x\": [0.33955879838557945, 0.3227804151976283, -0.07960685527229365, -0.09865020419233253, -0.08821550792624691, -0.07341774841308933, -0.07597490211643468, -0.09236016731413076, -0.07569185032724979, -0.0784219780214308], \"y\": [-0.014766721132579916, -0.008791723459124452, 0.196931562918161, -0.26792923407059716, -0.26343852138203994, 0.08710232295911016, 0.10867429687991323, -0.06828843161469292, 0.10235720502119913, 0.12814924388065121], \"topics\": [1, 2, 3, 4, 5, 6, 7, 8, 9, 10], \"cluster\": [1, 1, 1, 1, 1, 1, 1, 1, 1, 1], \"Freq\": [13.259833091532064, 10.511437505217632, 10.483609983504325, 10.18194528142265, 10.057686855793056, 9.805369226340984, 9.384386823634065, 9.072681876764227, 8.775180771641217, 8.46786858414978]}, \"tinfo\": {\"Term\": [\"good\", \"people\", \"life\", \"money\", \"quora\", \"time\", \"question\", \"difference\", \"year\", \"note\", \"world\", \"weight\", \"possible\", \"book\", \"thing\", \"black\", \"movie\", \"rupee\", \"girl\", \"many\", \"number\", \"example\", \"website\", \"way\", \"effect\", \"country\", \"phone\", \"indian\", \"government\", \"language\", \"note\", \"book\", \"thing\", \"movie\", \"way\", \"language\", \"programming\", \"place\", \"first\", \"site\", \"resolution\", \"major\", \"one\", \"course\", \"universe\", \"beginner\", \"distance\", \"bollywood\", \"university\", \"porn\", \"public\", \"writer\", \"parent\", \"apple\", \"coaching\", \"security\", \"chance\", \"joke\", \"part\", \"self\", \"good\", \"rupee\", \"phone\", \"indian\", \"engineering\", \"love\", \"earth\", \"company\", \"decision\", \"day\", \"mechanical\", \"safety\", \"precaution\", \"experience\", \"shotgun\", \"hair\", \"bad\", \"internet\", \"chinese\", \"market\", \"blog\", \"control\", \"support\", \"stock\", \"successful\", \"today\", \"effective\", \"view\", \"worth\", \"class\", \"speed\", \"good\", \"people\", \"world\", \"many\", \"country\", \"woman\", \"important\", \"study\", \"marketing\", \"different\", \"economy\", \"social\", \"food\", \"preparation\", \"datum\", \"education\", \"photo\", \"civil\", \"technology\", \"facebook\", \"message\", \"hack\", \"medium\", \"music\", \"help\", \"animal\", \"tool\", \"addiction\", \"healthy\", \"depression\", \"open\", \"option\", \"money\", \"website\", \"well\", \"favorite\", \"president\", \"online\", \"trump\", \"idea\", \"average\", \"battle\", \"month\", \"currency\", \"mind\", \"career\", \"engineer\", \"interesting\", \"change\", \"belly\", \"corruption\", \"product\", \"moment\", \"word\", \"investment\", \"cell\", \"plan\", \"marriage\", \"current\", \"penis\", \"diet\", \"project\", \"business\", \"much\", \"quora\", \"question\", \"weight\", \"election\", \"account\", \"system\", \"answer\", \"skill\", \"human\", \"relationship\", \"gmail\", \"presidential\", \"english\", \"song\", \"period\", \"digital\", \"pregnant\", \"interview\", \"writing\", \"fact\", \"future\", \"startup\", \"type\", \"quality\", \"dark\", \"evidence\", \"emotion\", \"week\", \"code\", \"design\", \"business\", \"life\", \"year\", \"person\", \"student\", \"password\", \"real\", \"reason\", \"school\", \"improvement\", \"card\", \"private\", \"light\", \"theory\", \"main\", \"name\", \"development\", \"short\", \"rich\", \"last\", \"hotel\", \"girlfriend\", \"policy\", \"hacker\", \"pro\", \"flat\", \"estate\", \"beautiful\", \"late\", \"list\", \"mistake\", \"difference\", \"black\", \"energy\", \"iphone\", \"true\", \"earthquake\", \"temperature\", \"software\", \"suicide\", \"problem\", \"space\", \"story\", \"body\", \"machine\", \"macbook\", \"state\", \"common\", \"white\", \"city\", \"popular\", \"vacuum\", \"basic\", \"actor\", \"gate\", \"simple\", \"other\", \"small\", \"term\", \"fast\", \"wrong\", \"possible\", \"work\", \"computer\", \"easy\", \"science\", \"purpose\", \"mobile\", \"next\", \"travel\", \"child\", \"test\", \"search\", \"right\", \"picture\", \"safe\", \"power\", \"whatsapp\", \"meth\", \"exercise\", \"smartphone\", \"international\", \"hole\", \"source\", \"profile\", \"job\", \"weed\", \"masturbation\", \"sleep\", \"hollywood\", \"app\", \"high\", \"much\", \"time\", \"effect\", \"free\", \"long\", \"friend\", \"exam\", \"email\", \"video\", \"great\", \"game\", \"big\", \"death\", \"water\", \"tip\", \"youtube\", \"increase\", \"dream\", \"significance\", \"gadget\", \"home\", \"loss\", \"dog\", \"deal\", \"information\", \"cheap\", \"recovery\", \"solution\", \"function\", \"positive\", \"hard\", \"girl\", \"number\", \"example\", \"government\", \"laptop\", \"college\", \"traffic\", \"service\", \"height\", \"available\", \"history\", \"infinite\", \"communication\", \"candy\", \"legal\", \"user\", \"opinion\", \"planet\", \"order\", \"fund\", \"religion\", \"global\", \"industry\", \"institute\", \"cause\", \"device\", \"drug\", \"programmer\", \"center\", \"bike\"], \"Freq\": [73810.0, 25534.0, 18969.0, 18677.0, 17532.0, 15391.0, 12511.0, 11540.0, 10402.0, 11628.0, 9919.0, 8904.0, 8413.0, 9886.0, 9045.0, 7501.0, 8634.0, 7619.0, 6889.0, 7118.0, 6387.0, 6008.0, 6210.0, 7012.0, 5709.0, 6101.0, 6036.0, 5946.0, 5347.0, 6360.0, 11627.607325107047, 9884.995659282939, 9044.567407908373, 8633.3982136716, 7011.734542408292, 6359.4556415366005, 5020.344336037135, 4288.660397184621, 3514.3723299551357, 2794.146033459124, 2627.5690962412086, 2236.102366309902, 2153.810990570871, 2140.7719091866866, 2029.2009008063349, 1732.4900845749028, 1632.0051433234214, 1431.27506666023, 1399.6472147866925, 1369.7105925662743, 1262.7484171606984, 1186.5213224902348, 1111.1599640485492, 1106.922293554693, 1106.5292554980283, 1068.068484991183, 1041.4542674303827, 1040.821629907303, 1014.9762562845988, 996.5140958492038, 61171.367521337066, 7618.855540379257, 6035.5146472882725, 5945.128779583492, 4884.112412890462, 4604.36134012828, 3920.7456599493516, 3486.5107413571304, 3264.3366350661763, 2790.8290628457526, 2386.6009409308804, 2362.99392987556, 2217.159667767555, 2185.2242156363827, 2163.078951674107, 2147.0776062433706, 2109.5053890208874, 2105.7055009705064, 2040.4214381866489, 1920.3893435407333, 1898.3028112187937, 1871.501224283687, 1793.1874080330622, 1708.211231556678, 1667.4868103063507, 1496.2793343879591, 1484.307241240894, 1481.2250571073778, 1462.4772304009794, 1347.198226876248, 1257.0788601244137, 12638.130234614366, 25533.137223817765, 9918.72901317789, 7117.573469223309, 6100.628080104976, 4591.155111586958, 4198.846604608129, 3316.5728579666747, 3293.5594444494864, 3186.4531865789786, 3101.2978131650543, 2754.9518462964807, 2303.1097316265095, 2053.950582869475, 2002.9589778473714, 1987.7838372943093, 1765.214347747082, 1628.4212367741998, 1569.6794677702683, 1510.1749034103282, 1490.0003939357475, 1472.107907102693, 1469.0253980405087, 1404.4088810594467, 1389.423827477454, 1377.1680312045423, 1376.0420310437264, 1349.247926362031, 1305.082646325879, 1289.9763613108353, 1118.597700984575, 1391.5743393046607, 18676.158883418815, 6209.0070740884785, 4494.838696666843, 3980.3087062179616, 3928.100852443465, 3890.6300500261186, 3562.2807617554963, 3378.522744866369, 2934.1083219814304, 2804.2477631677366, 2677.8637133724214, 2547.792389812878, 2435.076354551029, 2314.1927892131816, 2087.239250776024, 1977.872790275843, 1891.0578406420786, 1854.8465556683493, 1832.3603343322256, 1602.162128097124, 1598.0718658000424, 1531.708703060887, 1404.8039217205637, 1403.8217263109586, 1351.2064468510648, 1318.4870424598853, 1312.7336403073982, 1225.8220241360639, 1224.7136868184168, 1115.7368241585893, 1714.742513266908, 1577.529909626946, 17531.299638377724, 12510.174642397415, 8903.428874155845, 4718.24951038466, 4138.739887760643, 3874.4329450418777, 3782.360465466293, 3331.65225656425, 2844.4693276562457, 2807.1652809778748, 2752.4309728852263, 2668.4517072803733, 2602.1458031883744, 2268.1680628045406, 2214.9848679615916, 2166.58071111575, 2078.548733629302, 1912.4737977101042, 1815.8930870727218, 1798.3084813588976, 1756.5516172921966, 1484.3249022699388, 1444.576862134351, 1437.4742067108084, 1278.549669634384, 1276.680240833845, 1180.2718761130957, 1166.915615449316, 1155.6879286042285, 1032.561015927591, 2749.771429630367, 18968.156735030818, 10401.86574085064, 5128.349082345646, 4843.270997290245, 4366.117670061398, 4062.4649599222544, 3259.375904109569, 3065.4434130800405, 2868.3036959240194, 2356.0245583455007, 1990.032534938509, 1985.2261214033983, 1974.2813248988398, 1908.9209682164476, 1856.010283221015, 1720.8401082582093, 1496.2016623736556, 1439.67811711373, 1386.6650316267253, 1352.5345357420802, 1342.738272917955, 1318.727723080422, 1280.7307311384484, 1269.020448991975, 1262.8852708069132, 1248.2030852731482, 1219.4955423959698, 1194.410855658393, 1157.7680377282882, 1096.4369343673995, 11539.210392651956, 7500.939647825029, 4503.753725346371, 3510.5909811161314, 2926.7421940352965, 2819.847096107938, 2565.4134114963554, 2492.8907120499275, 2297.938324547849, 2031.5182051105933, 1905.36670034143, 1887.771688410394, 1830.8763250938707, 1809.071228916426, 1642.2946385340247, 1610.1090008974033, 1559.6807359421114, 1558.7188065458633, 1461.1906166112428, 1267.6719216317226, 1247.8883961760312, 1241.1389702224913, 1238.9922289127353, 1225.7567172275553, 1176.3606349390236, 1157.9456607197192, 1155.4090210614536, 1151.890734353054, 1131.432646049417, 1084.5650242442055, 8412.09435388203, 5148.866198365837, 4382.513238295352, 4000.936191631126, 3008.6851194374585, 2825.291239592008, 2772.488616335639, 2397.4423186260833, 2393.503253267392, 2277.6892811940975, 2210.874282980589, 1972.5928824016737, 1934.130513001314, 1915.9957880986046, 1839.7300548194298, 1697.2316543254294, 1594.3365627248422, 1554.161936852605, 1521.9644266710957, 1478.4755692590738, 1412.6251450154975, 1286.7747179486664, 1268.167519835096, 1225.7077672529472, 1198.511610524961, 1173.5578658785882, 1173.3367382491176, 1169.2001971625757, 1107.6306259067667, 1100.0116776695206, 2335.5368903672756, 3368.247682101061, 15390.867303686638, 5708.423852081815, 4546.182010734407, 4424.758793587448, 4070.9546216580734, 3732.944271591062, 3567.7323343812295, 3330.683241454752, 3300.376399354222, 3259.0157120568583, 2366.670649564197, 2203.365437826256, 2121.696374653413, 1717.153856872383, 1688.4024689942846, 1608.627293230561, 1514.1380586286687, 1467.689264644441, 1396.5319799541605, 1389.0878155983905, 1355.401558335875, 1219.360704396672, 1207.9498517946724, 1207.4688341661358, 1199.5451545083238, 1165.652941940915, 1122.0126107631654, 1108.2628406718118, 1037.499028947975, 1023.6960628411996, 6888.6339190063945, 6386.66540252037, 6007.543550501104, 5346.235111794152, 4866.944868407823, 3607.3620873886266, 3564.6084369662085, 3130.030275964115, 2680.7920787773237, 2164.5332032030283, 1935.8274923436838, 1794.20347184572, 1692.9329023833234, 1528.5565415741858, 1429.5720394610264, 1415.3813152693326, 1386.5934197681631, 1289.7181198835976, 1232.704290784703, 1118.8612734468404, 1112.2453054466264, 1081.3339082641135, 1059.045674154389, 1058.0810871067085, 946.0390759582266, 918.6402042566239, 912.2391893203214, 860.249739824139, 860.0756423395119, 857.5164356739311], \"Total\": [73810.0, 25534.0, 18969.0, 18677.0, 17532.0, 15391.0, 12511.0, 11540.0, 10402.0, 11628.0, 9919.0, 8904.0, 8413.0, 9886.0, 9045.0, 7501.0, 8634.0, 7619.0, 6889.0, 7118.0, 6387.0, 6008.0, 6210.0, 7012.0, 5709.0, 6101.0, 6036.0, 5946.0, 5347.0, 6360.0, 11628.67286295934, 9886.061106691897, 9045.632884675915, 8634.463659795789, 7012.80000905961, 6360.521084069233, 5021.409768528115, 4289.725832793662, 3515.437847103011, 2795.2114987200966, 2628.63458165112, 2237.1680602653346, 2154.876533286725, 2141.8374115325673, 2030.266493801134, 1733.5555273490488, 1633.0706893461515, 1432.3405371231459, 1400.712692802791, 1370.7760511368704, 1263.8139647107146, 1187.5867962214252, 1112.2254511285678, 1107.987795211775, 1107.5947193649442, 1069.1339880293651, 1042.519781177151, 1041.887057501142, 1016.0418399272788, 997.579562071055, 73810.45566134731, 7619.907402069428, 6036.566509452915, 5946.180656728076, 4885.164284248354, 4605.41318214643, 3921.797528465051, 3487.5625920588204, 3265.388488538235, 2791.8809564572384, 2387.652773230827, 2364.0457318285276, 2218.2114654736533, 2186.276058768873, 2164.1307478221975, 2148.1294401171112, 2110.5572415071633, 2106.75737261739, 2041.4733189959993, 1921.4411719652257, 1899.3546565182105, 1872.553078446829, 1794.2392664090223, 1709.2630430264983, 1668.538687085691, 1497.3311942115843, 1485.3591198796237, 1482.2769272144192, 1463.5290776065708, 1348.250088173093, 1258.1307469222172, 73810.45566134731, 25534.18015984663, 9919.771941131608, 7118.6164043775625, 6101.67100189817, 4592.198036050768, 4199.889543935643, 3317.6158037227633, 3294.6024151071747, 3187.496149004748, 3102.340753987798, 2755.9947804323665, 2304.152665445968, 2054.9935329384684, 2004.00194895717, 1988.8267793833531, 1766.2572798167396, 1629.464215008549, 1570.7224178212475, 1511.2178453963215, 1491.0433449209347, 1473.150862400367, 1470.0683329963988, 1405.4518190938902, 1390.466810972064, 1378.2109557654853, 1377.0849828095083, 1350.2908476615173, 1306.125592896262, 1291.019269102194, 1119.6406757178677, 1837.8326925482702, 18677.207061152032, 6210.055264073631, 4495.88688624045, 3981.3568789820997, 3929.149011908229, 3891.678240913598, 3563.3289369795666, 3379.5709228086002, 2935.1565322031674, 2805.2959114142614, 2678.91190849611, 2548.8405857736375, 2436.1245457526616, 2315.240999525001, 2088.287460725917, 1978.9209772260663, 1892.106034512349, 1855.8947258337248, 1833.408506846057, 1603.210304257131, 1599.1200391958582, 1532.756892270342, 1405.8520871931225, 1404.8699312088486, 1352.2546369130994, 1319.5352222114318, 1313.7818700903995, 1226.8702238219373, 1225.7618732610276, 1116.785026735142, 4465.463110771496, 4946.702334663355, 17532.360016781873, 12511.235014048218, 8904.489257454097, 4719.309864537196, 4139.800272285833, 3875.4933601559783, 3783.420834473104, 3332.712636820806, 2845.529745050272, 2808.225696809433, 2753.4913583012426, 2669.5120647132335, 2603.206175890522, 2269.2284442041937, 2216.0452509498223, 2167.64116088672, 2079.6091068475566, 1913.5341691625417, 1816.9534525891227, 1799.3688736919928, 1757.6120277990146, 1485.38531285116, 1445.6372837993204, 1438.534666264385, 1279.6101877673038, 1277.7406855300924, 1181.3322731422916, 1167.9760234908863, 1156.7483525677087, 1033.6214378015698, 4465.463110771496, 18969.193653398837, 10402.902680311057, 5129.386016763601, 4844.307953751333, 4367.15463320577, 4063.501887435447, 3260.412839694393, 3066.480334773333, 2869.3406250394864, 2357.0614862247794, 1991.0695135527794, 1986.2630566777452, 1975.3182588227892, 1909.9579147724849, 1857.0472118705084, 1721.877062220957, 1497.2386214236503, 1440.7150392402514, 1387.70197605926, 1353.5714545852536, 1343.7751864807592, 1319.7646514375626, 1281.7676345815644, 1270.0573558218023, 1263.9222202787416, 1249.2399949188325, 1220.532472722409, 1195.4478132523548, 1158.8049956334157, 1097.4738747852086, 11540.245037441418, 7501.97431627882, 4504.788351409988, 3511.625603129587, 2927.776830417052, 2820.881748741141, 2566.4480428174284, 2493.9253555238924, 2298.97295001662, 2032.552838100842, 1906.401323335624, 1888.8063115598743, 1831.910959725591, 1810.105875996904, 1643.329256929681, 1611.1436417724235, 1560.7153863719348, 1559.7534320613597, 1462.2252386806074, 1268.7065686284527, 1248.9230015183139, 1242.1736163245132, 1240.0268763770155, 1226.7913593129413, 1177.395310718734, 1158.9803045359558, 1156.443682766101, 1152.9253861494954, 1132.467287369657, 1085.599660693172, 8413.130338939513, 5149.902163535073, 4383.549208629947, 4001.9721548768657, 3009.7210989909227, 2826.327203635973, 2773.5245967951323, 2398.4782960182533, 2394.5392077887905, 2278.725249443583, 2211.9102447084124, 1973.6288714420657, 1935.166489324294, 1917.031745999881, 1840.7660244134995, 1698.267618498357, 1595.3725116058297, 1555.1978934421372, 1523.0004011492606, 1479.5115277777434, 1413.6611604821576, 1287.8107082344773, 1269.2035015614258, 1226.7437178686262, 1199.5475965322998, 1174.593824939097, 1174.3726950104544, 1170.2361738931468, 1108.6666035529895, 1101.0476544993362, 2959.87448670467, 4946.702334663355, 15391.902094799305, 5709.458632745864, 4547.21680158424, 4425.793585375441, 4071.9893925824717, 3733.9790555141276, 3568.767112677326, 3331.7180038886913, 3301.411180571502, 3260.050482210267, 2367.705441178939, 2204.4002332791583, 2122.731146396819, 1718.188643367532, 1689.437233329744, 1609.6621050302845, 1515.1728162797097, 1468.7240953578014, 1397.5667821521547, 1390.1226032250909, 1356.4363355575897, 1220.3954829795978, 1208.9846546526242, 1208.5036271402087, 1200.5799417111991, 1166.6877588461682, 1123.0474136906323, 1109.297608306208, 1038.533823370201, 1024.730871029945, 6889.657765440662, 6387.6892907386355, 6008.567415748507, 5347.2590041760695, 4867.968713824257, 3608.385952743995, 3565.632295645141, 3131.054153156079, 2681.8159237575096, 2165.55707409695, 1936.8513598974134, 1795.2273917630716, 1693.9567523300009, 1529.5803718620411, 1430.5959295878824, 1416.405190547581, 1387.6172964724094, 1290.7419926034036, 1233.7281690043064, 1119.8851169820546, 1113.2691492251965, 1082.3577757594612, 1060.069582479444, 1059.1049685581968, 947.062957123764, 919.6640671006746, 913.2630942464502, 861.2736027162842, 861.0995034516382, 858.5402995605532], \"Category\": [\"Default\", \"Default\", \"Default\", \"Default\", \"Default\", \"Default\", \"Default\", \"Default\", \"Default\", \"Default\", \"Default\", \"Default\", \"Default\", \"Default\", \"Default\", \"Default\", \"Default\", \"Default\", \"Default\", \"Default\", \"Default\", \"Default\", \"Default\", \"Default\", \"Default\", \"Default\", \"Default\", \"Default\", \"Default\", \"Default\", \"Topic1\", \"Topic1\", \"Topic1\", \"Topic1\", \"Topic1\", \"Topic1\", \"Topic1\", \"Topic1\", \"Topic1\", \"Topic1\", \"Topic1\", \"Topic1\", \"Topic1\", \"Topic1\", \"Topic1\", \"Topic1\", \"Topic1\", \"Topic1\", \"Topic1\", \"Topic1\", \"Topic1\", \"Topic1\", \"Topic1\", \"Topic1\", \"Topic1\", \"Topic1\", \"Topic1\", \"Topic1\", \"Topic1\", \"Topic1\", \"Topic1\", \"Topic2\", \"Topic2\", \"Topic2\", \"Topic2\", \"Topic2\", \"Topic2\", \"Topic2\", \"Topic2\", \"Topic2\", \"Topic2\", \"Topic2\", \"Topic2\", \"Topic2\", \"Topic2\", \"Topic2\", \"Topic2\", \"Topic2\", \"Topic2\", \"Topic2\", \"Topic2\", \"Topic2\", \"Topic2\", \"Topic2\", \"Topic2\", \"Topic2\", \"Topic2\", \"Topic2\", \"Topic2\", \"Topic2\", \"Topic2\", \"Topic2\", \"Topic3\", \"Topic3\", \"Topic3\", \"Topic3\", \"Topic3\", \"Topic3\", \"Topic3\", \"Topic3\", \"Topic3\", \"Topic3\", \"Topic3\", \"Topic3\", \"Topic3\", \"Topic3\", \"Topic3\", \"Topic3\", \"Topic3\", \"Topic3\", \"Topic3\", \"Topic3\", \"Topic3\", \"Topic3\", \"Topic3\", \"Topic3\", \"Topic3\", \"Topic3\", \"Topic3\", \"Topic3\", \"Topic3\", \"Topic3\", \"Topic3\", \"Topic4\", \"Topic4\", \"Topic4\", \"Topic4\", \"Topic4\", \"Topic4\", \"Topic4\", \"Topic4\", \"Topic4\", \"Topic4\", \"Topic4\", \"Topic4\", \"Topic4\", \"Topic4\", \"Topic4\", \"Topic4\", \"Topic4\", \"Topic4\", \"Topic4\", \"Topic4\", \"Topic4\", \"Topic4\", \"Topic4\", \"Topic4\", \"Topic4\", \"Topic4\", \"Topic4\", \"Topic4\", \"Topic4\", \"Topic4\", \"Topic4\", \"Topic4\", \"Topic5\", \"Topic5\", \"Topic5\", \"Topic5\", \"Topic5\", \"Topic5\", \"Topic5\", \"Topic5\", \"Topic5\", \"Topic5\", \"Topic5\", \"Topic5\", \"Topic5\", \"Topic5\", \"Topic5\", \"Topic5\", \"Topic5\", \"Topic5\", \"Topic5\", \"Topic5\", \"Topic5\", \"Topic5\", \"Topic5\", \"Topic5\", \"Topic5\", \"Topic5\", \"Topic5\", \"Topic5\", \"Topic5\", \"Topic5\", \"Topic5\", \"Topic6\", \"Topic6\", \"Topic6\", \"Topic6\", \"Topic6\", \"Topic6\", \"Topic6\", \"Topic6\", \"Topic6\", \"Topic6\", \"Topic6\", \"Topic6\", \"Topic6\", \"Topic6\", \"Topic6\", \"Topic6\", \"Topic6\", \"Topic6\", \"Topic6\", \"Topic6\", \"Topic6\", \"Topic6\", \"Topic6\", \"Topic6\", \"Topic6\", \"Topic6\", \"Topic6\", \"Topic6\", \"Topic6\", \"Topic6\", \"Topic7\", \"Topic7\", \"Topic7\", \"Topic7\", \"Topic7\", \"Topic7\", \"Topic7\", \"Topic7\", \"Topic7\", \"Topic7\", \"Topic7\", \"Topic7\", \"Topic7\", \"Topic7\", \"Topic7\", \"Topic7\", \"Topic7\", \"Topic7\", \"Topic7\", \"Topic7\", \"Topic7\", \"Topic7\", \"Topic7\", \"Topic7\", \"Topic7\", \"Topic7\", \"Topic7\", \"Topic7\", \"Topic7\", \"Topic7\", \"Topic8\", \"Topic8\", \"Topic8\", \"Topic8\", \"Topic8\", \"Topic8\", \"Topic8\", \"Topic8\", \"Topic8\", \"Topic8\", \"Topic8\", \"Topic8\", \"Topic8\", \"Topic8\", \"Topic8\", \"Topic8\", \"Topic8\", \"Topic8\", \"Topic8\", \"Topic8\", \"Topic8\", \"Topic8\", \"Topic8\", \"Topic8\", \"Topic8\", \"Topic8\", \"Topic8\", \"Topic8\", \"Topic8\", \"Topic8\", \"Topic8\", \"Topic8\", \"Topic9\", \"Topic9\", \"Topic9\", \"Topic9\", \"Topic9\", \"Topic9\", \"Topic9\", \"Topic9\", \"Topic9\", \"Topic9\", \"Topic9\", \"Topic9\", \"Topic9\", \"Topic9\", \"Topic9\", \"Topic9\", \"Topic9\", \"Topic9\", \"Topic9\", \"Topic9\", \"Topic9\", \"Topic9\", \"Topic9\", \"Topic9\", \"Topic9\", \"Topic9\", \"Topic9\", \"Topic9\", \"Topic9\", \"Topic9\", \"Topic10\", \"Topic10\", \"Topic10\", \"Topic10\", \"Topic10\", \"Topic10\", \"Topic10\", \"Topic10\", \"Topic10\", \"Topic10\", \"Topic10\", \"Topic10\", \"Topic10\", \"Topic10\", \"Topic10\", \"Topic10\", \"Topic10\", \"Topic10\", \"Topic10\", \"Topic10\", \"Topic10\", \"Topic10\", \"Topic10\", \"Topic10\", \"Topic10\", \"Topic10\", \"Topic10\", \"Topic10\", \"Topic10\", \"Topic10\"], \"logprob\": [30.0, 29.0, 28.0, 27.0, 26.0, 25.0, 24.0, 23.0, 22.0, 21.0, 20.0, 19.0, 18.0, 17.0, 16.0, 15.0, 14.0, 13.0, 12.0, 11.0, 10.0, 9.0, 8.0, 7.0, 6.0, 5.0, 4.0, 3.0, 2.0, 1.0, -2.9475, -3.1098, -3.1987, -3.2452, -3.4533, -3.5509, -3.7873, -3.9449, -4.144, -4.3733, -4.4348, -4.5961, -4.6336, -4.6397, -4.6932, -4.8513, -4.911, -5.0423, -5.0646, -5.0862, -5.1675, -5.2298, -5.2954, -5.2993, -5.2996, -5.335, -5.3602, -5.3608, -5.386, -5.4043, -1.2872, -3.1379, -3.3709, -3.386, -3.5826, -3.6416, -3.8023, -3.9197, -3.9855, -4.1422, -4.2987, -4.3086, -4.3723, -4.3868, -4.397, -4.4045, -4.4221, -4.4239, -4.4554, -4.516, -4.5276, -4.5418, -4.5846, -4.6331, -4.6572, -4.7656, -4.7736, -4.7757, -4.7884, -4.8705, -4.9398, -2.6318, -1.9259, -2.8715, -3.2033, -3.3575, -3.6418, -3.7311, -3.967, -3.9739, -4.007, -4.0341, -4.1525, -4.3316, -4.4461, -4.4713, -4.4789, -4.5976, -4.6783, -4.715, -4.7537, -4.7671, -4.7792, -4.7813, -4.8263, -4.837, -4.8459, -4.8467, -4.8664, -4.8996, -4.9113, -5.0538, -4.8355, -2.2095, -3.3107, -3.6338, -3.7554, -3.7686, -3.7781, -3.8663, -3.9193, -4.0603, -4.1056, -4.1517, -4.2015, -4.2467, -4.2977, -4.4009, -4.4547, -4.4996, -4.5189, -4.5311, -4.6654, -4.6679, -4.7103, -4.7968, -4.7975, -4.8357, -4.8602, -4.8646, -4.9331, -4.934, -5.0272, -4.5975, -4.6809, -2.2604, -2.5979, -2.938, -3.573, -3.704, -3.77, -3.7941, -3.921, -4.0791, -4.0923, -4.1119, -4.1429, -4.1681, -4.3055, -4.3292, -4.3513, -4.3928, -4.476, -4.5279, -4.5376, -4.5611, -4.7295, -4.7566, -4.7615, -4.8787, -4.8802, -4.9587, -4.9701, -4.9797, -5.0924, -4.1129, -2.1563, -2.757, -3.4642, -3.5214, -3.6252, -3.6972, -3.9175, -3.9788, -4.0453, -4.2421, -4.4109, -4.4133, -4.4188, -4.4525, -4.4806, -4.5562, -4.6961, -4.7346, -4.7721, -4.797, -4.8043, -4.8224, -4.8516, -4.8608, -4.8656, -4.8773, -4.9006, -4.9214, -4.9525, -5.007, -2.6094, -3.0401, -3.5502, -3.7994, -3.9813, -4.0185, -4.113, -4.1417, -4.2231, -4.3464, -4.4105, -4.4197, -4.4503, -4.4623, -4.5591, -4.5788, -4.6107, -4.6113, -4.6759, -4.818, -4.8337, -4.8391, -4.8408, -4.8516, -4.8927, -4.9085, -4.9107, -4.9137, -4.9317, -4.974, -2.8917, -3.3826, -3.5437, -3.6348, -3.9199, -3.9828, -4.0016, -4.147, -4.1486, -4.1982, -4.228, -4.342, -4.3617, -4.3711, -4.4117, -4.4924, -4.5549, -4.5804, -4.6014, -4.6304, -4.6759, -4.7692, -4.7838, -4.8178, -4.8403, -4.8613, -4.8615, -4.865, -4.9191, -4.926, -4.1731, -3.807, -2.2543, -3.2461, -3.4737, -3.5008, -3.5841, -3.6708, -3.7161, -3.7848, -3.794, -3.8066, -4.1265, -4.198, -4.2358, -4.4474, -4.4642, -4.5126, -4.5732, -4.6043, -4.654, -4.6594, -4.6839, -4.7897, -4.7991, -4.7995, -4.8061, -4.8347, -4.8729, -4.8852, -4.9512, -4.9646, -3.0225, -3.0982, -3.1594, -3.276, -3.3699, -3.6694, -3.6813, -3.8113, -3.9663, -4.1802, -4.2918, -4.3678, -4.4259, -4.5281, -4.595, -4.605, -4.6255, -4.698, -4.7432, -4.8401, -4.846, -4.8742, -4.895, -4.8959, -5.0078, -5.0372, -5.0442, -5.1029, -5.1031, -5.1061], \"loglift\": [30.0, 29.0, 28.0, 27.0, 26.0, 25.0, 24.0, 23.0, 22.0, 21.0, 20.0, 19.0, 18.0, 17.0, 16.0, 15.0, 14.0, 13.0, 12.0, 11.0, 10.0, 9.0, 8.0, 7.0, 6.0, 5.0, 4.0, 3.0, 2.0, 1.0, 2.0203, 2.0203, 2.0203, 2.0203, 2.0203, 2.0203, 2.0202, 2.0202, 2.0201, 2.02, 2.02, 2.02, 2.0199, 2.0199, 2.0199, 2.0198, 2.0198, 2.0197, 2.0197, 2.0197, 2.0196, 2.0195, 2.0195, 2.0195, 2.0195, 2.0194, 2.0194, 2.0194, 2.0194, 2.0194, 1.8326, 2.2526, 2.2525, 2.2525, 2.2525, 2.2525, 2.2524, 2.2524, 2.2524, 2.2523, 2.2523, 2.2523, 2.2522, 2.2522, 2.2522, 2.2522, 2.2522, 2.2522, 2.2522, 2.2522, 2.2522, 2.2521, 2.2521, 2.2521, 2.2521, 2.252, 2.252, 2.252, 2.252, 2.2519, 2.2519, 0.4879, 2.2553, 2.2553, 2.2552, 2.2552, 2.2551, 2.2551, 2.255, 2.255, 2.255, 2.255, 2.255, 2.2549, 2.2548, 2.2548, 2.2548, 2.2548, 2.2547, 2.2547, 2.2547, 2.2547, 2.2546, 2.2546, 2.2546, 2.2546, 2.2546, 2.2546, 2.2546, 2.2546, 2.2545, 2.2544, 1.9772, 2.2845, 2.2844, 2.2843, 2.2843, 2.2843, 2.2843, 2.2843, 2.2842, 2.2842, 2.2842, 2.2842, 2.2841, 2.2841, 2.2841, 2.2841, 2.284, 2.284, 2.284, 2.284, 2.2839, 2.2839, 2.2839, 2.2838, 2.2838, 2.2838, 2.2838, 2.2838, 2.2837, 2.2837, 2.2836, 1.3274, 1.1417, 2.2968, 2.2967, 2.2967, 2.2966, 2.2966, 2.2966, 2.2966, 2.2965, 2.2965, 2.2965, 2.2964, 2.2964, 2.2964, 2.2964, 2.2964, 2.2963, 2.2963, 2.2963, 2.2962, 2.2962, 2.2962, 2.2961, 2.2961, 2.2961, 2.296, 2.296, 2.2959, 2.2959, 2.2959, 2.2958, 1.812, 2.3222, 2.3221, 2.322, 2.322, 2.322, 2.322, 2.3219, 2.3219, 2.3219, 2.3218, 2.3217, 2.3217, 2.3217, 2.3217, 2.3217, 2.3216, 2.3215, 2.3215, 2.3215, 2.3215, 2.3215, 2.3215, 2.3214, 2.3214, 2.3214, 2.3214, 2.3214, 2.3214, 2.3213, 2.3213, 2.366, 2.366, 2.3659, 2.3658, 2.3658, 2.3658, 2.3657, 2.3657, 2.3657, 2.3656, 2.3656, 2.3656, 2.3656, 2.3656, 2.3655, 2.3655, 2.3655, 2.3655, 2.3654, 2.3653, 2.3653, 2.3653, 2.3653, 2.3653, 2.3652, 2.3652, 2.3652, 2.3652, 2.3652, 2.3652, 2.3998, 2.3997, 2.3997, 2.3996, 2.3996, 2.3995, 2.3995, 2.3995, 2.3995, 2.3994, 2.3994, 2.3994, 2.3994, 2.3994, 2.3993, 2.3993, 2.3993, 2.3992, 2.3992, 2.3992, 2.3992, 2.3991, 2.3991, 2.3991, 2.399, 2.399, 2.399, 2.399, 2.399, 2.399, 2.163, 2.0156, 2.4332, 2.4331, 2.433, 2.433, 2.433, 2.433, 2.433, 2.4329, 2.4329, 2.4329, 2.4328, 2.4328, 2.4328, 2.4326, 2.4326, 2.4326, 2.4326, 2.4325, 2.4325, 2.4325, 2.4325, 2.4324, 2.4324, 2.4324, 2.4324, 2.4324, 2.4323, 2.4323, 2.4322, 2.4322, 2.4687, 2.4687, 2.4687, 2.4687, 2.4687, 2.4686, 2.4686, 2.4686, 2.4685, 2.4684, 2.4684, 2.4683, 2.4683, 2.4682, 2.4682, 2.4682, 2.4682, 2.4681, 2.4681, 2.468, 2.468, 2.4679, 2.4679, 2.4679, 2.4678, 2.4678, 2.4678, 2.4677, 2.4677, 2.4677]}, \"token.table\": {\"Topic\": [5, 7, 3, 3, 5, 8, 1, 10, 4, 2, 7, 4, 6, 1, 4, 9, 10, 7, 2, 7, 1, 1, 4, 5, 10, 6, 4, 10, 4, 10, 1, 4, 9, 8, 2, 7, 3, 2, 1, 5, 10, 7, 10, 2, 8, 2, 4, 3, 1, 4, 4, 5, 3, 2, 9, 9, 2, 3, 5, 6, 10, 4, 7, 3, 5, 1, 9, 9, 10, 2, 7, 8, 3, 3, 9, 2, 5, 9, 5, 7, 4, 2, 5, 6, 5, 9, 10, 8, 2, 3, 5, 7, 4, 1, 6, 3, 9, 9, 9, 10, 5, 9, 9, 7, 10, 6, 10, 5, 1, 2, 10, 9, 3, 6, 2, 9, 3, 10, 3, 6, 8, 10, 8, 8, 9, 6, 5, 4, 3, 6, 9, 2, 10, 10, 9, 10, 4, 8, 2, 5, 4, 7, 8, 1, 1, 10, 6, 6, 10, 6, 6, 6, 9, 9, 2, 7, 7, 6, 1, 3, 2, 3, 4, 8, 2, 3, 3, 8, 4, 6, 8, 4, 4, 4, 1, 4, 8, 3, 6, 8, 1, 10, 1, 4, 3, 10, 3, 10, 10, 7, 1, 1, 6, 4, 3, 5, 6, 2, 3, 8, 1, 4, 10, 6, 7, 1, 9, 8, 8, 2, 5, 3, 4, 5, 6, 6, 7, 4, 8, 10, 1, 4, 1, 8, 5, 5, 5, 6, 6, 9, 5, 10, 1, 6, 8, 2, 8, 2, 6, 8, 8, 1, 1, 10, 6, 2, 9, 7, 1, 5, 8, 7, 8, 3, 7, 9, 5, 8, 7, 2, 5, 7, 2, 7, 6, 3, 2, 7, 2, 5, 3, 7, 7, 8, 6, 1, 9, 9, 2, 3, 10, 8, 7, 4, 5, 1, 1, 10, 7, 9, 2, 9, 1, 4, 8, 5, 5, 4, 8, 7, 3, 4, 8, 3, 2, 1, 5, 7, 6, 9], \"Freq\": [0.9998066881894786, 0.999171891838332, 0.9990440225054085, 0.9991213567412017, 0.9996244577235083, 0.9990484930465497, 0.999108478255768, 0.9997427571392075, 0.9996059725638212, 0.9997359742269936, 0.9990551913926606, 0.9995380482290697, 0.9987444228181895, 0.9991026953999982, 0.9995179005461514, 0.9997020570351911, 0.9993706765298848, 0.9998701253513084, 0.9992867806370118, 0.999502727072648, 0.9990640932875933, 0.999892666383462, 0.3840587095800015, 0.6158375809591861, 0.999620567919988, 0.9995496569644097, 0.999463986891535, 0.9988776278115742, 0.9993807745546237, 0.9987231400700721, 0.9985422039901872, 0.9994154479230156, 0.9995169486920025, 0.9996817301937739, 0.9992783060242375, 0.9991620725397183, 0.999101413216036, 0.999072806904254, 0.9994630532679993, 0.9993530549958878, 0.9996159078429676, 0.9995416291924963, 0.999435196719937, 0.9998386861758118, 0.999874711425877, 0.9997046393754094, 0.9992317550394265, 0.9998900298134787, 0.9996090218949121, 0.9996702085731335, 0.9994048706956614, 0.9995231455851656, 0.9995000259567155, 0.9996844577290444, 0.9991855523981757, 0.9993648007934224, 0.9995747861110221, 0.9992104927272676, 0.9993987762067982, 0.999490635980814, 0.9992779242721006, 0.9993784492097142, 0.9998921134310945, 0.9995306193529943, 0.9997042126260152, 0.9993443704836927, 0.9988565321659576, 0.9992259521375328, 0.9986169437324165, 0.9997966421113629, 0.9996874208776974, 0.9997570810492319, 0.9995678250411163, 0.9995842878867462, 0.9997445234584067, 0.999084989036366, 0.9997224457442309, 0.9997850482665005, 0.9988722282692338, 0.9998249970146231, 0.9993834849128149, 0.9997616693767888, 0.9995366575641634, 0.9990074005604399, 0.9994203162359309, 0.9997377983380271, 0.9999055655517786, 0.9993431379607611, 0.9994163322770906, 0.9991941298205077, 0.9992392478762934, 0.9987043445881205, 0.9996591918224506, 0.9995909906061358, 0.9992703504504112, 0.9994997443254287, 0.9997324073961427, 0.99975702476429, 0.9988302433030669, 0.9992096359094048, 0.9996517844727195, 0.9995944507558473, 0.9996777711829926, 0.9993549356971471, 0.9999045285755758, 0.9994231278501359, 0.9987455388690597, 0.9994583755286732, 0.8287579239540411, 0.17122235443153083, 0.9997645514879518, 0.999572552313445, 0.9992187749199753, 0.9994011125255047, 0.9994742215734217, 0.9992867678230377, 0.9991382200131564, 0.9996957569867934, 0.998945094582273, 0.2104818980664303, 0.789222654708156, 0.9995604412837036, 0.9993704756224704, 0.9993987339829186, 0.9991924430100724, 0.9995778172010663, 0.999462404126004, 0.9998310664810296, 0.9997881982546595, 0.9995327759179975, 0.9995886683123028, 0.9998014428426858, 0.9989910261579789, 0.9993163028991741, 0.9987557942678527, 0.9989566958979514, 0.9995346063654562, 0.9995323062551057, 0.9996405031603383, 0.9991982535837272, 0.9993938998270979, 0.9998218479985368, 0.9995434974536377, 0.9991486049329863, 0.9997608554316338, 0.9998010024547803, 0.9994941449451175, 0.9987888946415688, 0.999583439617325, 0.999937074109704, 0.999364104027662, 0.9993053226069536, 0.9998206908297614, 0.9989410962240264, 0.9996931475872983, 0.99919111953732, 0.9993890545235125, 0.9994984628901632, 0.9994778844352015, 0.9999134095247522, 0.9992499525948266, 0.9998171508937126, 0.9988365432118902, 0.9988311248922198, 0.9997266046226883, 0.9992732766413509, 0.99930025849048, 0.999229748543778, 0.9995383874134751, 0.9986570297306648, 0.9994503034886029, 0.9992995902944087, 0.9999353725025332, 0.9996595974308756, 0.999830486310041, 0.31900039526178403, 0.6808576243610194, 0.9989670089901579, 0.9994360876428912, 0.999383652534731, 0.9999421375966743, 0.9998920907534381, 0.9995932327104662, 0.9998257201979167, 0.9994277845278737, 0.9995551392491441, 0.7574138851942528, 0.2421330308271857, 0.999409781649961, 0.9991541663545798, 0.9988981989871529, 0.9989746092273588, 0.9997356097269855, 0.999290696110281, 0.9999537811733432, 0.9995283259900156, 0.9997297889534787, 0.9999061536964717, 0.9992881672273305, 0.999461800253421, 0.9998307973931309, 0.999072188862326, 0.9994251425864692, 0.9994206153068809, 0.9994430795536776, 0.9994338600121977, 0.9985230877072222, 0.9998656458542808, 0.9992535814234756, 0.9994538548319176, 0.9997071051258859, 0.9995165274622311, 0.9997075672353615, 0.9994335801162989, 0.9994628446945225, 0.9991674739593803, 0.9997280080052636, 0.9992450745520303, 0.9993937463401742, 0.9985212565295539, 0.9997192484594764, 0.9992970654903593, 0.9993559457851845, 0.9995304140177875, 0.9989331739440315, 0.9999012875989596, 0.9999224281967418, 0.9996303957824922, 0.999566668466891, 0.9994105030750915, 0.9995635333688365, 0.9988599798834992, 0.9997585888675629, 0.9995036914165701, 0.9993972150041203, 0.9998809169164994, 0.9995838556321988, 0.9995576516078144, 0.9995172528072179, 0.9997604100289676, 0.9996813628685892, 0.9989393396505378, 0.999419031731312, 0.9996633232437017, 0.9991727294461102, 0.9994775048488473, 0.9995069902100129, 0.9988149173807375, 0.9995665806610157, 0.9997861691365368, 0.9989436543488189, 0.9987516186152293, 0.9989783602565006, 0.9996390485063943, 0.9996289562067915, 0.9990673468654452, 0.999458651151967, 0.9990517662770823, 0.9992649379128775, 0.9991012484791558, 0.9990673713822436, 0.9992901677151732, 0.9992610598868025, 0.9995731105116816, 0.999730001939633, 0.9998143836540468, 0.9990778235484737, 0.9995767892716558, 0.9993093081662946, 0.9996146657942104, 0.9995400728906323, 0.9994357794144787, 0.9991973581633189, 0.9995884802692198, 0.9993326347200502, 0.9999300342293366, 0.9999413915971042, 0.9993081997299189, 0.9991109554006953, 0.9992121163014248, 0.9998226694194146, 0.9997748177239961, 0.9997346688419071, 0.9996270518374616, 0.9995591675681984, 0.9993761933199405, 0.9994911927289207, 0.9990079176799417, 0.9992609620311326, 0.99978449439963, 0.9991385366722135, 0.9996555633538142, 0.9998859215921492, 0.9998300717097098, 0.9994944423114707, 0.9991643462954238, 0.9998327520634773, 0.9998027338625525, 0.9991396920807867, 0.9995169543814602, 0.9997391148984947, 0.9995061889630645, 0.9998248192865758, 0.9999221815646379, 0.9989552120077645, 0.9995058919286639, 0.9994752465519884, 0.9994476226228838, 0.9999132280346363, 0.9991492827899198], \"Term\": [\"account\", \"actor\", \"addiction\", \"animal\", \"answer\", \"app\", \"apple\", \"available\", \"average\", \"bad\", \"basic\", \"battle\", \"beautiful\", \"beginner\", \"belly\", \"big\", \"bike\", \"black\", \"blog\", \"body\", \"bollywood\", \"book\", \"business\", \"business\", \"candy\", \"card\", \"career\", \"cause\", \"cell\", \"center\", \"chance\", \"change\", \"cheap\", \"child\", \"chinese\", \"city\", \"civil\", \"class\", \"coaching\", \"code\", \"college\", \"common\", \"communication\", \"company\", \"computer\", \"control\", \"corruption\", \"country\", \"course\", \"currency\", \"current\", \"dark\", \"datum\", \"day\", \"deal\", \"death\", \"decision\", \"depression\", \"design\", \"development\", \"device\", \"diet\", \"difference\", \"different\", \"digital\", \"distance\", \"dog\", \"dream\", \"drug\", \"earth\", \"earthquake\", \"easy\", \"economy\", \"education\", \"effect\", \"effective\", \"election\", \"email\", \"emotion\", \"energy\", \"engineer\", \"engineering\", \"english\", \"estate\", \"evidence\", \"exam\", \"example\", \"exercise\", \"experience\", \"facebook\", \"fact\", \"fast\", \"favorite\", \"first\", \"flat\", \"food\", \"free\", \"friend\", \"function\", \"fund\", \"future\", \"gadget\", \"game\", \"gate\", \"girl\", \"girlfriend\", \"global\", \"gmail\", \"good\", \"good\", \"government\", \"great\", \"hack\", \"hacker\", \"hair\", \"hard\", \"healthy\", \"height\", \"help\", \"high\", \"high\", \"history\", \"hole\", \"hollywood\", \"home\", \"hotel\", \"human\", \"idea\", \"important\", \"improvement\", \"increase\", \"indian\", \"industry\", \"infinite\", \"information\", \"institute\", \"interesting\", \"international\", \"internet\", \"interview\", \"investment\", \"iphone\", \"job\", \"joke\", \"language\", \"laptop\", \"last\", \"late\", \"legal\", \"life\", \"light\", \"list\", \"long\", \"loss\", \"love\", \"macbook\", \"machine\", \"main\", \"major\", \"many\", \"market\", \"marketing\", \"marriage\", \"masturbation\", \"mechanical\", \"medium\", \"message\", \"meth\", \"mind\", \"mistake\", \"mobile\", \"moment\", \"money\", \"month\", \"movie\", \"much\", \"much\", \"music\", \"name\", \"next\", \"note\", \"number\", \"one\", \"online\", \"open\", \"opinion\", \"option\", \"option\", \"order\", \"other\", \"parent\", \"part\", \"password\", \"penis\", \"people\", \"period\", \"person\", \"phone\", \"photo\", \"picture\", \"place\", \"plan\", \"planet\", \"policy\", \"popular\", \"porn\", \"positive\", \"possible\", \"power\", \"precaution\", \"pregnant\", \"preparation\", \"president\", \"presidential\", \"private\", \"pro\", \"problem\", \"product\", \"profile\", \"programmer\", \"programming\", \"project\", \"public\", \"purpose\", \"quality\", \"question\", \"quora\", \"real\", \"reason\", \"recovery\", \"relationship\", \"religion\", \"resolution\", \"rich\", \"right\", \"rupee\", \"safe\", \"safety\", \"school\", \"science\", \"search\", \"security\", \"self\", \"service\", \"short\", \"shotgun\", \"significance\", \"simple\", \"site\", \"skill\", \"sleep\", \"small\", \"smartphone\", \"social\", \"software\", \"solution\", \"song\", \"source\", \"space\", \"speed\", \"startup\", \"state\", \"stock\", \"story\", \"student\", \"study\", \"successful\", \"suicide\", \"support\", \"system\", \"technology\", \"temperature\", \"term\", \"test\", \"theory\", \"thing\", \"time\", \"tip\", \"today\", \"tool\", \"traffic\", \"travel\", \"true\", \"trump\", \"type\", \"universe\", \"university\", \"user\", \"vacuum\", \"video\", \"view\", \"water\", \"way\", \"website\", \"weed\", \"week\", \"weight\", \"well\", \"whatsapp\", \"white\", \"woman\", \"word\", \"work\", \"world\", \"worth\", \"writer\", \"writing\", \"wrong\", \"year\", \"youtube\"]}, \"R\": 30, \"lambda.step\": 0.01, \"plot.opts\": {\"xlab\": \"PC1\", \"ylab\": \"PC2\"}, \"topic.order\": [8, 2, 10, 9, 6, 7, 5, 1, 3, 4]};\n",
              "\n",
              "function LDAvis_load_lib(url, callback){\n",
              "  var s = document.createElement('script');\n",
              "  s.src = url;\n",
              "  s.async = true;\n",
              "  s.onreadystatechange = s.onload = callback;\n",
              "  s.onerror = function(){console.warn(\"failed to load library \" + url);};\n",
              "  document.getElementsByTagName(\"head\")[0].appendChild(s);\n",
              "}\n",
              "\n",
              "if(typeof(LDAvis) !== \"undefined\"){\n",
              "   // already loaded: just create the visualization\n",
              "   !function(LDAvis){\n",
              "       new LDAvis(\"#\" + \"ldavis_el5391406849220412962557654276\", ldavis_el5391406849220412962557654276_data);\n",
              "   }(LDAvis);\n",
              "}else if(typeof define === \"function\" && define.amd){\n",
              "   // require.js is available: use it to load d3/LDAvis\n",
              "   require.config({paths: {d3: \"https://d3js.org/d3.v5\"}});\n",
              "   require([\"d3\"], function(d3){\n",
              "      window.d3 = d3;\n",
              "      LDAvis_load_lib(\"https://cdn.jsdelivr.net/gh/bmabey/pyLDAvis@3.3.1/pyLDAvis/js/ldavis.v3.0.0.js\", function(){\n",
              "        new LDAvis(\"#\" + \"ldavis_el5391406849220412962557654276\", ldavis_el5391406849220412962557654276_data);\n",
              "      });\n",
              "    });\n",
              "}else{\n",
              "    // require.js not available: dynamically load d3 & LDAvis\n",
              "    LDAvis_load_lib(\"https://d3js.org/d3.v5.js\", function(){\n",
              "         LDAvis_load_lib(\"https://cdn.jsdelivr.net/gh/bmabey/pyLDAvis@3.3.1/pyLDAvis/js/ldavis.v3.0.0.js\", function(){\n",
              "                 new LDAvis(\"#\" + \"ldavis_el5391406849220412962557654276\", ldavis_el5391406849220412962557654276_data);\n",
              "            })\n",
              "         });\n",
              "}\n",
              "</script>"
            ]
          },
          "metadata": {},
          "execution_count": 89
        }
      ]
    },
    {
      "cell_type": "code",
      "source": [
        "!pip install pyLDAvis==2.1.2"
      ],
      "metadata": {
        "colab": {
          "base_uri": "https://localhost:8080/",
          "height": 751
        },
        "id": "IwuKcp6VKpku",
        "outputId": "f3290d5d-8636-4d1c-b1d2-4be7e1cac6a0"
      },
      "execution_count": 86,
      "outputs": [
        {
          "output_type": "stream",
          "name": "stdout",
          "text": [
            "Looking in indexes: https://pypi.org/simple, https://us-python.pkg.dev/colab-wheels/public/simple/\n",
            "Collecting pyLDAvis==2.1.2\n",
            "  Downloading pyLDAvis-2.1.2.tar.gz (1.6 MB)\n",
            "\u001b[K     |████████████████████████████████| 1.6 MB 5.4 MB/s \n",
            "\u001b[?25hRequirement already satisfied: wheel>=0.23.0 in /usr/local/lib/python3.7/dist-packages (from pyLDAvis==2.1.2) (0.37.1)\n",
            "Requirement already satisfied: numpy>=1.9.2 in /usr/local/lib/python3.7/dist-packages (from pyLDAvis==2.1.2) (1.19.5)\n",
            "Requirement already satisfied: scipy>=0.18.0 in /usr/local/lib/python3.7/dist-packages (from pyLDAvis==2.1.2) (1.7.3)\n",
            "Requirement already satisfied: pandas>=0.17.0 in /usr/local/lib/python3.7/dist-packages (from pyLDAvis==2.1.2) (1.3.5)\n",
            "Requirement already satisfied: joblib>=0.8.4 in /usr/local/lib/python3.7/dist-packages (from pyLDAvis==2.1.2) (1.1.0)\n",
            "Requirement already satisfied: jinja2>=2.7.2 in /usr/local/lib/python3.7/dist-packages (from pyLDAvis==2.1.2) (2.11.3)\n",
            "Requirement already satisfied: numexpr in /usr/local/lib/python3.7/dist-packages (from pyLDAvis==2.1.2) (2.8.3)\n",
            "Requirement already satisfied: pytest in /usr/local/lib/python3.7/dist-packages (from pyLDAvis==2.1.2) (3.6.4)\n",
            "Requirement already satisfied: future in /usr/local/lib/python3.7/dist-packages (from pyLDAvis==2.1.2) (0.16.0)\n",
            "Requirement already satisfied: funcy in /usr/local/lib/python3.7/dist-packages (from pyLDAvis==2.1.2) (1.17)\n",
            "Requirement already satisfied: MarkupSafe>=0.23 in /usr/local/lib/python3.7/dist-packages (from jinja2>=2.7.2->pyLDAvis==2.1.2) (2.0.1)\n",
            "Requirement already satisfied: python-dateutil>=2.7.3 in /usr/local/lib/python3.7/dist-packages (from pandas>=0.17.0->pyLDAvis==2.1.2) (2.8.2)\n",
            "Requirement already satisfied: pytz>=2017.3 in /usr/local/lib/python3.7/dist-packages (from pandas>=0.17.0->pyLDAvis==2.1.2) (2022.2.1)\n",
            "Requirement already satisfied: six>=1.5 in /usr/local/lib/python3.7/dist-packages (from python-dateutil>=2.7.3->pandas>=0.17.0->pyLDAvis==2.1.2) (1.15.0)\n",
            "Requirement already satisfied: packaging in /usr/local/lib/python3.7/dist-packages (from numexpr->pyLDAvis==2.1.2) (21.3)\n",
            "Requirement already satisfied: pyparsing!=3.0.5,>=2.0.2 in /usr/local/lib/python3.7/dist-packages (from packaging->numexpr->pyLDAvis==2.1.2) (3.0.9)\n",
            "Requirement already satisfied: py>=1.5.0 in /usr/local/lib/python3.7/dist-packages (from pytest->pyLDAvis==2.1.2) (1.11.0)\n",
            "Requirement already satisfied: atomicwrites>=1.0 in /usr/local/lib/python3.7/dist-packages (from pytest->pyLDAvis==2.1.2) (1.4.1)\n",
            "Requirement already satisfied: pluggy<0.8,>=0.5 in /usr/local/lib/python3.7/dist-packages (from pytest->pyLDAvis==2.1.2) (0.7.1)\n",
            "Requirement already satisfied: attrs>=17.4.0 in /usr/local/lib/python3.7/dist-packages (from pytest->pyLDAvis==2.1.2) (22.1.0)\n",
            "Requirement already satisfied: setuptools in /usr/local/lib/python3.7/dist-packages (from pytest->pyLDAvis==2.1.2) (57.4.0)\n",
            "Requirement already satisfied: more-itertools>=4.0.0 in /usr/local/lib/python3.7/dist-packages (from pytest->pyLDAvis==2.1.2) (8.14.0)\n",
            "Building wheels for collected packages: pyLDAvis\n",
            "  Building wheel for pyLDAvis (setup.py) ... \u001b[?25l\u001b[?25hdone\n",
            "  Created wheel for pyLDAvis: filename=pyLDAvis-2.1.2-py2.py3-none-any.whl size=97738 sha256=4b9943659e4666efebb5a94b78cce6055448269dfd6ad92265937857203b7e24\n",
            "  Stored in directory: /root/.cache/pip/wheels/3b/fb/41/e32e5312da9f440d34c4eff0d2207b46dc9332a7b931ef1e89\n",
            "Successfully built pyLDAvis\n",
            "Installing collected packages: pyLDAvis\n",
            "  Attempting uninstall: pyLDAvis\n",
            "    Found existing installation: pyLDAvis 3.3.1\n",
            "    Uninstalling pyLDAvis-3.3.1:\n",
            "      Successfully uninstalled pyLDAvis-3.3.1\n",
            "Successfully installed pyLDAvis-2.1.2\n"
          ]
        },
        {
          "output_type": "display_data",
          "data": {
            "application/vnd.colab-display-data+json": {
              "pip_warning": {
                "packages": [
                  "pyLDAvis"
                ]
              }
            }
          },
          "metadata": {}
        }
      ]
    },
    {
      "cell_type": "code",
      "source": [
        "print('\\nPerplexity: ', lda_model.log_perplexity(doc_term_matrix,total_docs=10000))  # a measure of how good the model is. lower the better.\n",
        "\n",
        "# Compute Coherence Score\n",
        "from gensim.models.coherencemodel import CoherenceModel\n",
        "coherence_model_lda = CoherenceModel(model=lda_model, texts=tokenized_ques_list, dictionary=dictionary , coherence='c_v')\n",
        "coherence_lda = coherence_model_lda.get_coherence()\n",
        "print('\\nCoherence Score: ', coherence_lda)"
      ],
      "metadata": {
        "colab": {
          "base_uri": "https://localhost:8080/",
          "height": 408
        },
        "id": "4IALLJWsNPMG",
        "outputId": "65a3193e-2dca-49e4-c760-905e66f4da9f"
      },
      "execution_count": 92,
      "outputs": [
        {
          "output_type": "stream",
          "name": "stdout",
          "text": [
            "\n",
            "Perplexity:  -14.360449039429021\n"
          ]
        },
        {
          "output_type": "error",
          "ename": "IndexError",
          "evalue": "ignored",
          "traceback": [
            "\u001b[0;31m---------------------------------------------------------------------------\u001b[0m",
            "\u001b[0;31mIndexError\u001b[0m                                Traceback (most recent call last)",
            "\u001b[0;32m<ipython-input-92-55734c60ed88>\u001b[0m in \u001b[0;36m<module>\u001b[0;34m\u001b[0m\n\u001b[1;32m      4\u001b[0m \u001b[0;32mfrom\u001b[0m \u001b[0mgensim\u001b[0m\u001b[0;34m.\u001b[0m\u001b[0mmodels\u001b[0m\u001b[0;34m.\u001b[0m\u001b[0mcoherencemodel\u001b[0m \u001b[0;32mimport\u001b[0m \u001b[0mCoherenceModel\u001b[0m\u001b[0;34m\u001b[0m\u001b[0;34m\u001b[0m\u001b[0m\n\u001b[1;32m      5\u001b[0m \u001b[0mcoherence_model_lda\u001b[0m \u001b[0;34m=\u001b[0m \u001b[0mCoherenceModel\u001b[0m\u001b[0;34m(\u001b[0m\u001b[0mmodel\u001b[0m\u001b[0;34m=\u001b[0m\u001b[0mlda_model\u001b[0m\u001b[0;34m,\u001b[0m \u001b[0mtexts\u001b[0m\u001b[0;34m=\u001b[0m\u001b[0mtokenized_ques_list\u001b[0m\u001b[0;34m,\u001b[0m \u001b[0mdictionary\u001b[0m\u001b[0;34m=\u001b[0m\u001b[0mdictionary\u001b[0m \u001b[0;34m,\u001b[0m \u001b[0mcoherence\u001b[0m\u001b[0;34m=\u001b[0m\u001b[0;34m'c_v'\u001b[0m\u001b[0;34m)\u001b[0m\u001b[0;34m\u001b[0m\u001b[0;34m\u001b[0m\u001b[0m\n\u001b[0;32m----> 6\u001b[0;31m \u001b[0mcoherence_lda\u001b[0m \u001b[0;34m=\u001b[0m \u001b[0mcoherence_model_lda\u001b[0m\u001b[0;34m.\u001b[0m\u001b[0mget_coherence\u001b[0m\u001b[0;34m(\u001b[0m\u001b[0;34m)\u001b[0m\u001b[0;34m\u001b[0m\u001b[0;34m\u001b[0m\u001b[0m\n\u001b[0m\u001b[1;32m      7\u001b[0m \u001b[0mprint\u001b[0m\u001b[0;34m(\u001b[0m\u001b[0;34m'\\nCoherence Score: '\u001b[0m\u001b[0;34m,\u001b[0m \u001b[0mcoherence_lda\u001b[0m\u001b[0;34m)\u001b[0m\u001b[0;34m\u001b[0m\u001b[0;34m\u001b[0m\u001b[0m\n",
            "\u001b[0;32m/usr/local/lib/python3.7/dist-packages/gensim/models/coherencemodel.py\u001b[0m in \u001b[0;36mget_coherence\u001b[0;34m(self)\u001b[0m\n\u001b[1;32m    613\u001b[0m \u001b[0;34m\u001b[0m\u001b[0m\n\u001b[1;32m    614\u001b[0m         \"\"\"\n\u001b[0;32m--> 615\u001b[0;31m         \u001b[0mconfirmed_measures\u001b[0m \u001b[0;34m=\u001b[0m \u001b[0mself\u001b[0m\u001b[0;34m.\u001b[0m\u001b[0mget_coherence_per_topic\u001b[0m\u001b[0;34m(\u001b[0m\u001b[0;34m)\u001b[0m\u001b[0;34m\u001b[0m\u001b[0;34m\u001b[0m\u001b[0m\n\u001b[0m\u001b[1;32m    616\u001b[0m         \u001b[0;32mreturn\u001b[0m \u001b[0mself\u001b[0m\u001b[0;34m.\u001b[0m\u001b[0maggregate_measures\u001b[0m\u001b[0;34m(\u001b[0m\u001b[0mconfirmed_measures\u001b[0m\u001b[0;34m)\u001b[0m\u001b[0;34m\u001b[0m\u001b[0;34m\u001b[0m\u001b[0m\n\u001b[1;32m    617\u001b[0m \u001b[0;34m\u001b[0m\u001b[0m\n",
            "\u001b[0;32m/usr/local/lib/python3.7/dist-packages/gensim/models/coherencemodel.py\u001b[0m in \u001b[0;36mget_coherence_per_topic\u001b[0;34m(self, segmented_topics, with_std, with_support)\u001b[0m\n\u001b[1;32m    573\u001b[0m             \u001b[0msegmented_topics\u001b[0m \u001b[0;34m=\u001b[0m \u001b[0mmeasure\u001b[0m\u001b[0;34m.\u001b[0m\u001b[0mseg\u001b[0m\u001b[0;34m(\u001b[0m\u001b[0mself\u001b[0m\u001b[0;34m.\u001b[0m\u001b[0mtopics\u001b[0m\u001b[0;34m)\u001b[0m\u001b[0;34m\u001b[0m\u001b[0;34m\u001b[0m\u001b[0m\n\u001b[1;32m    574\u001b[0m         \u001b[0;32mif\u001b[0m \u001b[0mself\u001b[0m\u001b[0;34m.\u001b[0m\u001b[0m_accumulator\u001b[0m \u001b[0;32mis\u001b[0m \u001b[0;32mNone\u001b[0m\u001b[0;34m:\u001b[0m\u001b[0;34m\u001b[0m\u001b[0;34m\u001b[0m\u001b[0m\n\u001b[0;32m--> 575\u001b[0;31m             \u001b[0mself\u001b[0m\u001b[0;34m.\u001b[0m\u001b[0mestimate_probabilities\u001b[0m\u001b[0;34m(\u001b[0m\u001b[0msegmented_topics\u001b[0m\u001b[0;34m)\u001b[0m\u001b[0;34m\u001b[0m\u001b[0;34m\u001b[0m\u001b[0m\n\u001b[0m\u001b[1;32m    576\u001b[0m \u001b[0;34m\u001b[0m\u001b[0m\n\u001b[1;32m    577\u001b[0m         \u001b[0mkwargs\u001b[0m \u001b[0;34m=\u001b[0m \u001b[0mdict\u001b[0m\u001b[0;34m(\u001b[0m\u001b[0mwith_std\u001b[0m\u001b[0;34m=\u001b[0m\u001b[0mwith_std\u001b[0m\u001b[0;34m,\u001b[0m \u001b[0mwith_support\u001b[0m\u001b[0;34m=\u001b[0m\u001b[0mwith_support\u001b[0m\u001b[0;34m)\u001b[0m\u001b[0;34m\u001b[0m\u001b[0;34m\u001b[0m\u001b[0m\n",
            "\u001b[0;32m/usr/local/lib/python3.7/dist-packages/gensim/models/coherencemodel.py\u001b[0m in \u001b[0;36mestimate_probabilities\u001b[0;34m(self, segmented_topics)\u001b[0m\n\u001b[1;32m    545\u001b[0m                 \u001b[0mkwargs\u001b[0m\u001b[0;34m[\u001b[0m\u001b[0;34m'model'\u001b[0m\u001b[0;34m]\u001b[0m \u001b[0;34m=\u001b[0m \u001b[0mself\u001b[0m\u001b[0;34m.\u001b[0m\u001b[0mkeyed_vectors\u001b[0m\u001b[0;34m\u001b[0m\u001b[0;34m\u001b[0m\u001b[0m\n\u001b[1;32m    546\u001b[0m \u001b[0;34m\u001b[0m\u001b[0m\n\u001b[0;32m--> 547\u001b[0;31m             \u001b[0mself\u001b[0m\u001b[0;34m.\u001b[0m\u001b[0m_accumulator\u001b[0m \u001b[0;34m=\u001b[0m \u001b[0mself\u001b[0m\u001b[0;34m.\u001b[0m\u001b[0mmeasure\u001b[0m\u001b[0;34m.\u001b[0m\u001b[0mprob\u001b[0m\u001b[0;34m(\u001b[0m\u001b[0;34m**\u001b[0m\u001b[0mkwargs\u001b[0m\u001b[0;34m)\u001b[0m\u001b[0;34m\u001b[0m\u001b[0;34m\u001b[0m\u001b[0m\n\u001b[0m\u001b[1;32m    548\u001b[0m \u001b[0;34m\u001b[0m\u001b[0m\n\u001b[1;32m    549\u001b[0m         \u001b[0;32mreturn\u001b[0m \u001b[0mself\u001b[0m\u001b[0;34m.\u001b[0m\u001b[0m_accumulator\u001b[0m\u001b[0;34m\u001b[0m\u001b[0;34m\u001b[0m\u001b[0m\n",
            "\u001b[0;32m/usr/local/lib/python3.7/dist-packages/gensim/topic_coherence/probability_estimation.py\u001b[0m in \u001b[0;36mp_boolean_sliding_window\u001b[0;34m(texts, segmented_topics, dictionary, window_size, processes)\u001b[0m\n\u001b[1;32m    154\u001b[0m         \u001b[0maccumulator\u001b[0m \u001b[0;34m=\u001b[0m \u001b[0mParallelWordOccurrenceAccumulator\u001b[0m\u001b[0;34m(\u001b[0m\u001b[0mprocesses\u001b[0m\u001b[0;34m,\u001b[0m \u001b[0mtop_ids\u001b[0m\u001b[0;34m,\u001b[0m \u001b[0mdictionary\u001b[0m\u001b[0;34m)\u001b[0m\u001b[0;34m\u001b[0m\u001b[0;34m\u001b[0m\u001b[0m\n\u001b[1;32m    155\u001b[0m     \u001b[0mlogger\u001b[0m\u001b[0;34m.\u001b[0m\u001b[0minfo\u001b[0m\u001b[0;34m(\u001b[0m\u001b[0;34m\"using %s to estimate probabilities from sliding windows\"\u001b[0m\u001b[0;34m,\u001b[0m \u001b[0maccumulator\u001b[0m\u001b[0;34m)\u001b[0m\u001b[0;34m\u001b[0m\u001b[0;34m\u001b[0m\u001b[0m\n\u001b[0;32m--> 156\u001b[0;31m     \u001b[0;32mreturn\u001b[0m \u001b[0maccumulator\u001b[0m\u001b[0;34m.\u001b[0m\u001b[0maccumulate\u001b[0m\u001b[0;34m(\u001b[0m\u001b[0mtexts\u001b[0m\u001b[0;34m,\u001b[0m \u001b[0mwindow_size\u001b[0m\u001b[0;34m)\u001b[0m\u001b[0;34m\u001b[0m\u001b[0;34m\u001b[0m\u001b[0m\n\u001b[0m\u001b[1;32m    157\u001b[0m \u001b[0;34m\u001b[0m\u001b[0m\n\u001b[1;32m    158\u001b[0m \u001b[0;34m\u001b[0m\u001b[0m\n",
            "\u001b[0;32m/usr/local/lib/python3.7/dist-packages/gensim/topic_coherence/text_analysis.py\u001b[0m in \u001b[0;36maccumulate\u001b[0;34m(self, texts, window_size)\u001b[0m\n\u001b[1;32m    333\u001b[0m     \u001b[0;32mdef\u001b[0m \u001b[0maccumulate\u001b[0m\u001b[0;34m(\u001b[0m\u001b[0mself\u001b[0m\u001b[0;34m,\u001b[0m \u001b[0mtexts\u001b[0m\u001b[0;34m,\u001b[0m \u001b[0mwindow_size\u001b[0m\u001b[0;34m)\u001b[0m\u001b[0;34m:\u001b[0m\u001b[0;34m\u001b[0m\u001b[0;34m\u001b[0m\u001b[0m\n\u001b[1;32m    334\u001b[0m         \u001b[0mself\u001b[0m\u001b[0;34m.\u001b[0m\u001b[0m_co_occurrences\u001b[0m \u001b[0;34m=\u001b[0m \u001b[0mself\u001b[0m\u001b[0;34m.\u001b[0m\u001b[0m_co_occurrences\u001b[0m\u001b[0;34m.\u001b[0m\u001b[0mtolil\u001b[0m\u001b[0;34m(\u001b[0m\u001b[0;34m)\u001b[0m\u001b[0;34m\u001b[0m\u001b[0;34m\u001b[0m\u001b[0m\n\u001b[0;32m--> 335\u001b[0;31m         \u001b[0mself\u001b[0m\u001b[0;34m.\u001b[0m\u001b[0mpartial_accumulate\u001b[0m\u001b[0;34m(\u001b[0m\u001b[0mtexts\u001b[0m\u001b[0;34m,\u001b[0m \u001b[0mwindow_size\u001b[0m\u001b[0;34m)\u001b[0m\u001b[0;34m\u001b[0m\u001b[0;34m\u001b[0m\u001b[0m\n\u001b[0m\u001b[1;32m    336\u001b[0m         \u001b[0mself\u001b[0m\u001b[0;34m.\u001b[0m\u001b[0m_symmetrize\u001b[0m\u001b[0;34m(\u001b[0m\u001b[0;34m)\u001b[0m\u001b[0;34m\u001b[0m\u001b[0;34m\u001b[0m\u001b[0m\n\u001b[1;32m    337\u001b[0m         \u001b[0;32mreturn\u001b[0m \u001b[0mself\u001b[0m\u001b[0;34m\u001b[0m\u001b[0;34m\u001b[0m\u001b[0m\n",
            "\u001b[0;32m/usr/local/lib/python3.7/dist-packages/gensim/topic_coherence/text_analysis.py\u001b[0m in \u001b[0;36mpartial_accumulate\u001b[0;34m(self, texts, window_size)\u001b[0m\n\u001b[1;32m    351\u001b[0m         \u001b[0mself\u001b[0m\u001b[0;34m.\u001b[0m\u001b[0m_counter\u001b[0m\u001b[0;34m.\u001b[0m\u001b[0mclear\u001b[0m\u001b[0;34m(\u001b[0m\u001b[0;34m)\u001b[0m\u001b[0;34m\u001b[0m\u001b[0;34m\u001b[0m\u001b[0m\n\u001b[1;32m    352\u001b[0m \u001b[0;34m\u001b[0m\u001b[0m\n\u001b[0;32m--> 353\u001b[0;31m         \u001b[0msuper\u001b[0m\u001b[0;34m(\u001b[0m\u001b[0mWordOccurrenceAccumulator\u001b[0m\u001b[0;34m,\u001b[0m \u001b[0mself\u001b[0m\u001b[0;34m)\u001b[0m\u001b[0;34m.\u001b[0m\u001b[0maccumulate\u001b[0m\u001b[0;34m(\u001b[0m\u001b[0mtexts\u001b[0m\u001b[0;34m,\u001b[0m \u001b[0mwindow_size\u001b[0m\u001b[0;34m)\u001b[0m\u001b[0;34m\u001b[0m\u001b[0;34m\u001b[0m\u001b[0m\n\u001b[0m\u001b[1;32m    354\u001b[0m         \u001b[0;32mfor\u001b[0m \u001b[0mcombo\u001b[0m\u001b[0;34m,\u001b[0m \u001b[0mcount\u001b[0m \u001b[0;32min\u001b[0m \u001b[0mself\u001b[0m\u001b[0;34m.\u001b[0m\u001b[0m_counter\u001b[0m\u001b[0;34m.\u001b[0m\u001b[0mitems\u001b[0m\u001b[0;34m(\u001b[0m\u001b[0;34m)\u001b[0m\u001b[0;34m:\u001b[0m\u001b[0;34m\u001b[0m\u001b[0;34m\u001b[0m\u001b[0m\n\u001b[1;32m    355\u001b[0m             \u001b[0mself\u001b[0m\u001b[0;34m.\u001b[0m\u001b[0m_co_occurrences\u001b[0m\u001b[0;34m[\u001b[0m\u001b[0mcombo\u001b[0m\u001b[0;34m]\u001b[0m \u001b[0;34m+=\u001b[0m \u001b[0mcount\u001b[0m\u001b[0;34m\u001b[0m\u001b[0;34m\u001b[0m\u001b[0m\n",
            "\u001b[0;32m/usr/local/lib/python3.7/dist-packages/gensim/topic_coherence/text_analysis.py\u001b[0m in \u001b[0;36maccumulate\u001b[0;34m(self, texts, window_size)\u001b[0m\n\u001b[1;32m    294\u001b[0m \u001b[0;34m\u001b[0m\u001b[0m\n\u001b[1;32m    295\u001b[0m         \u001b[0;32mfor\u001b[0m \u001b[0mdoc_num\u001b[0m\u001b[0;34m,\u001b[0m \u001b[0mvirtual_document\u001b[0m \u001b[0;32min\u001b[0m \u001b[0mwindows\u001b[0m\u001b[0;34m:\u001b[0m\u001b[0;34m\u001b[0m\u001b[0;34m\u001b[0m\u001b[0m\n\u001b[0;32m--> 296\u001b[0;31m             \u001b[0mself\u001b[0m\u001b[0;34m.\u001b[0m\u001b[0manalyze_text\u001b[0m\u001b[0;34m(\u001b[0m\u001b[0mvirtual_document\u001b[0m\u001b[0;34m,\u001b[0m \u001b[0mdoc_num\u001b[0m\u001b[0;34m)\u001b[0m\u001b[0;34m\u001b[0m\u001b[0;34m\u001b[0m\u001b[0m\n\u001b[0m\u001b[1;32m    297\u001b[0m             \u001b[0mself\u001b[0m\u001b[0;34m.\u001b[0m\u001b[0mnum_docs\u001b[0m \u001b[0;34m+=\u001b[0m \u001b[0;36m1\u001b[0m\u001b[0;34m\u001b[0m\u001b[0;34m\u001b[0m\u001b[0m\n\u001b[1;32m    298\u001b[0m         \u001b[0;32mreturn\u001b[0m \u001b[0mself\u001b[0m\u001b[0;34m\u001b[0m\u001b[0;34m\u001b[0m\u001b[0m\n",
            "\u001b[0;32m/usr/local/lib/python3.7/dist-packages/gensim/topic_coherence/text_analysis.py\u001b[0m in \u001b[0;36manalyze_text\u001b[0;34m(self, window, doc_num)\u001b[0m\n\u001b[1;32m    358\u001b[0m \u001b[0;34m\u001b[0m\u001b[0m\n\u001b[1;32m    359\u001b[0m     \u001b[0;32mdef\u001b[0m \u001b[0manalyze_text\u001b[0m\u001b[0;34m(\u001b[0m\u001b[0mself\u001b[0m\u001b[0;34m,\u001b[0m \u001b[0mwindow\u001b[0m\u001b[0;34m,\u001b[0m \u001b[0mdoc_num\u001b[0m\u001b[0;34m=\u001b[0m\u001b[0;32mNone\u001b[0m\u001b[0;34m)\u001b[0m\u001b[0;34m:\u001b[0m\u001b[0;34m\u001b[0m\u001b[0;34m\u001b[0m\u001b[0m\n\u001b[0;32m--> 360\u001b[0;31m         \u001b[0mself\u001b[0m\u001b[0;34m.\u001b[0m\u001b[0m_slide_window\u001b[0m\u001b[0;34m(\u001b[0m\u001b[0mwindow\u001b[0m\u001b[0;34m,\u001b[0m \u001b[0mdoc_num\u001b[0m\u001b[0;34m)\u001b[0m\u001b[0;34m\u001b[0m\u001b[0;34m\u001b[0m\u001b[0m\n\u001b[0m\u001b[1;32m    361\u001b[0m         \u001b[0mmask\u001b[0m \u001b[0;34m=\u001b[0m \u001b[0mself\u001b[0m\u001b[0;34m.\u001b[0m\u001b[0m_uniq_words\u001b[0m\u001b[0;34m[\u001b[0m\u001b[0;34m:\u001b[0m\u001b[0;34m-\u001b[0m\u001b[0;36m1\u001b[0m\u001b[0;34m]\u001b[0m  \u001b[0;31m# to exclude none token\u001b[0m\u001b[0;34m\u001b[0m\u001b[0;34m\u001b[0m\u001b[0m\n\u001b[1;32m    362\u001b[0m         \u001b[0;32mif\u001b[0m \u001b[0mmask\u001b[0m\u001b[0;34m.\u001b[0m\u001b[0many\u001b[0m\u001b[0;34m(\u001b[0m\u001b[0;34m)\u001b[0m\u001b[0;34m:\u001b[0m\u001b[0;34m\u001b[0m\u001b[0;34m\u001b[0m\u001b[0m\n",
            "\u001b[0;32m/usr/local/lib/python3.7/dist-packages/gensim/topic_coherence/text_analysis.py\u001b[0m in \u001b[0;36m_slide_window\u001b[0;34m(self, window, doc_num)\u001b[0m\n\u001b[1;32m    373\u001b[0m             \u001b[0mself\u001b[0m\u001b[0;34m.\u001b[0m\u001b[0m_uniq_words\u001b[0m\u001b[0;34m[\u001b[0m\u001b[0mwindow\u001b[0m\u001b[0;34m[\u001b[0m\u001b[0;34m-\u001b[0m\u001b[0;36m1\u001b[0m\u001b[0;34m]\u001b[0m\u001b[0;34m]\u001b[0m \u001b[0;34m=\u001b[0m \u001b[0;32mTrue\u001b[0m\u001b[0;34m\u001b[0m\u001b[0;34m\u001b[0m\u001b[0m\n\u001b[1;32m    374\u001b[0m \u001b[0;34m\u001b[0m\u001b[0m\n\u001b[0;32m--> 375\u001b[0;31m         \u001b[0mself\u001b[0m\u001b[0;34m.\u001b[0m\u001b[0m_token_at_edge\u001b[0m \u001b[0;34m=\u001b[0m \u001b[0mwindow\u001b[0m\u001b[0;34m[\u001b[0m\u001b[0;36m0\u001b[0m\u001b[0;34m]\u001b[0m\u001b[0;34m\u001b[0m\u001b[0;34m\u001b[0m\u001b[0m\n\u001b[0m\u001b[1;32m    376\u001b[0m \u001b[0;34m\u001b[0m\u001b[0m\n\u001b[1;32m    377\u001b[0m     \u001b[0;32mdef\u001b[0m \u001b[0m_symmetrize\u001b[0m\u001b[0;34m(\u001b[0m\u001b[0mself\u001b[0m\u001b[0;34m)\u001b[0m\u001b[0;34m:\u001b[0m\u001b[0;34m\u001b[0m\u001b[0;34m\u001b[0m\u001b[0m\n",
            "\u001b[0;31mIndexError\u001b[0m: index 0 is out of bounds for axis 0 with size 0"
          ]
        }
      ]
    },
    {
      "cell_type": "code",
      "source": [
        "from google.colab import drive\n",
        "drive.mount('/content/drive')"
      ],
      "metadata": {
        "colab": {
          "base_uri": "https://localhost:8080/"
        },
        "id": "OyeezCuhN5vr",
        "outputId": "b05f5627-7540-4e24-b1ec-d927847d3eeb"
      },
      "execution_count": 93,
      "outputs": [
        {
          "output_type": "stream",
          "name": "stdout",
          "text": [
            "Mounted at /content/drive\n"
          ]
        }
      ]
    }
  ]
}